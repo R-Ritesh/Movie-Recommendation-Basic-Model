{
 "cells": [
  {
   "cell_type": "markdown",
   "id": "b4d5efbd",
   "metadata": {},
   "source": [
    "# Movie Recommendation Model"
   ]
  },
  {
   "cell_type": "markdown",
   "id": "358674be",
   "metadata": {},
   "source": [
    "## Step1: import library"
   ]
  },
  {
   "cell_type": "code",
   "execution_count": 1,
   "id": "6d7964e0",
   "metadata": {},
   "outputs": [],
   "source": [
    "import pandas as pd\n",
    "import numpy as np"
   ]
  },
  {
   "cell_type": "markdown",
   "id": "091dfad1",
   "metadata": {},
   "source": [
    "## Step2: import dataset"
   ]
  },
  {
   "cell_type": "code",
   "execution_count": 2,
   "id": "25edc1db",
   "metadata": {},
   "outputs": [
    {
     "data": {
      "text/html": [
       "<div>\n",
       "<style scoped>\n",
       "    .dataframe tbody tr th:only-of-type {\n",
       "        vertical-align: middle;\n",
       "    }\n",
       "\n",
       "    .dataframe tbody tr th {\n",
       "        vertical-align: top;\n",
       "    }\n",
       "\n",
       "    .dataframe thead th {\n",
       "        text-align: right;\n",
       "    }\n",
       "</style>\n",
       "<table border=\"1\" class=\"dataframe\">\n",
       "  <thead>\n",
       "    <tr style=\"text-align: right;\">\n",
       "      <th></th>\n",
       "      <th>Movie_ID</th>\n",
       "      <th>Movie_Title</th>\n",
       "      <th>Movie_Genre</th>\n",
       "      <th>Movie_Language</th>\n",
       "      <th>Movie_Budget</th>\n",
       "      <th>Movie_Popularity</th>\n",
       "      <th>Movie_Release_Date</th>\n",
       "      <th>Movie_Revenue</th>\n",
       "      <th>Movie_Runtime</th>\n",
       "      <th>Movie_Vote</th>\n",
       "      <th>...</th>\n",
       "      <th>Movie_Homepage</th>\n",
       "      <th>Movie_Keywords</th>\n",
       "      <th>Movie_Overview</th>\n",
       "      <th>Movie_Production_House</th>\n",
       "      <th>Movie_Production_Country</th>\n",
       "      <th>Movie_Spoken_Language</th>\n",
       "      <th>Movie_Tagline</th>\n",
       "      <th>Movie_Cast</th>\n",
       "      <th>Movie_Crew</th>\n",
       "      <th>Movie_Director</th>\n",
       "    </tr>\n",
       "  </thead>\n",
       "  <tbody>\n",
       "    <tr>\n",
       "      <th>0</th>\n",
       "      <td>1</td>\n",
       "      <td>Four Rooms</td>\n",
       "      <td>Crime Comedy</td>\n",
       "      <td>en</td>\n",
       "      <td>4000000</td>\n",
       "      <td>22.876230</td>\n",
       "      <td>09-12-1995</td>\n",
       "      <td>4300000</td>\n",
       "      <td>98.0</td>\n",
       "      <td>6.5</td>\n",
       "      <td>...</td>\n",
       "      <td>NaN</td>\n",
       "      <td>hotel new year's eve witch bet hotel room</td>\n",
       "      <td>It's Ted the Bellhop's first night on the job....</td>\n",
       "      <td>[{\"name\": \"Miramax Films\", \"id\": 14}, {\"name\":...</td>\n",
       "      <td>[{\"iso_3166_1\": \"US\", \"name\": \"United States o...</td>\n",
       "      <td>[{\"iso_639_1\": \"en\", \"name\": \"English\"}]</td>\n",
       "      <td>Twelve outrageous guests. Four scandalous requ...</td>\n",
       "      <td>Tim Roth Antonio Banderas Jennifer Beals Madon...</td>\n",
       "      <td>[{'name': 'Allison Anders', 'gender': 1, 'depa...</td>\n",
       "      <td>Allison Anders</td>\n",
       "    </tr>\n",
       "    <tr>\n",
       "      <th>1</th>\n",
       "      <td>2</td>\n",
       "      <td>Star Wars</td>\n",
       "      <td>Adventure Action Science Fiction</td>\n",
       "      <td>en</td>\n",
       "      <td>11000000</td>\n",
       "      <td>126.393695</td>\n",
       "      <td>25-05-1977</td>\n",
       "      <td>775398007</td>\n",
       "      <td>121.0</td>\n",
       "      <td>8.1</td>\n",
       "      <td>...</td>\n",
       "      <td>http://www.starwars.com/films/star-wars-episod...</td>\n",
       "      <td>android galaxy hermit death star lightsaber</td>\n",
       "      <td>Princess Leia is captured and held hostage by ...</td>\n",
       "      <td>[{\"name\": \"Lucasfilm\", \"id\": 1}, {\"name\": \"Twe...</td>\n",
       "      <td>[{\"iso_3166_1\": \"US\", \"name\": \"United States o...</td>\n",
       "      <td>[{\"iso_639_1\": \"en\", \"name\": \"English\"}]</td>\n",
       "      <td>A long time ago in a galaxy far, far away...</td>\n",
       "      <td>Mark Hamill Harrison Ford Carrie Fisher Peter ...</td>\n",
       "      <td>[{'name': 'George Lucas', 'gender': 2, 'depart...</td>\n",
       "      <td>George Lucas</td>\n",
       "    </tr>\n",
       "    <tr>\n",
       "      <th>2</th>\n",
       "      <td>3</td>\n",
       "      <td>Finding Nemo</td>\n",
       "      <td>Animation Family</td>\n",
       "      <td>en</td>\n",
       "      <td>94000000</td>\n",
       "      <td>85.688789</td>\n",
       "      <td>30-05-2003</td>\n",
       "      <td>940335536</td>\n",
       "      <td>100.0</td>\n",
       "      <td>7.6</td>\n",
       "      <td>...</td>\n",
       "      <td>http://movies.disney.com/finding-nemo</td>\n",
       "      <td>father son relationship harbor underwater fish...</td>\n",
       "      <td>Nemo, an adventurous young clownfish, is unexp...</td>\n",
       "      <td>[{\"name\": \"Pixar Animation Studios\", \"id\": 3}]</td>\n",
       "      <td>[{\"iso_3166_1\": \"US\", \"name\": \"United States o...</td>\n",
       "      <td>[{\"iso_639_1\": \"en\", \"name\": \"English\"}]</td>\n",
       "      <td>There are 3.7 trillion fish in the ocean, they...</td>\n",
       "      <td>Albert Brooks Ellen DeGeneres Alexander Gould ...</td>\n",
       "      <td>[{'name': 'Andrew Stanton', 'gender': 2, 'depa...</td>\n",
       "      <td>Andrew Stanton</td>\n",
       "    </tr>\n",
       "    <tr>\n",
       "      <th>3</th>\n",
       "      <td>4</td>\n",
       "      <td>Forrest Gump</td>\n",
       "      <td>Comedy Drama Romance</td>\n",
       "      <td>en</td>\n",
       "      <td>55000000</td>\n",
       "      <td>138.133331</td>\n",
       "      <td>06-07-1994</td>\n",
       "      <td>677945399</td>\n",
       "      <td>142.0</td>\n",
       "      <td>8.2</td>\n",
       "      <td>...</td>\n",
       "      <td>NaN</td>\n",
       "      <td>vietnam veteran hippie mentally disabled runni...</td>\n",
       "      <td>A man with a low IQ has accomplished great thi...</td>\n",
       "      <td>[{\"name\": \"Paramount Pictures\", \"id\": 4}]</td>\n",
       "      <td>[{\"iso_3166_1\": \"US\", \"name\": \"United States o...</td>\n",
       "      <td>[{\"iso_639_1\": \"en\", \"name\": \"English\"}]</td>\n",
       "      <td>The world will never be the same, once you've ...</td>\n",
       "      <td>Tom Hanks Robin Wright Gary Sinise Mykelti Wil...</td>\n",
       "      <td>[{'name': 'Alan Silvestri', 'gender': 2, 'depa...</td>\n",
       "      <td>Robert Zemeckis</td>\n",
       "    </tr>\n",
       "    <tr>\n",
       "      <th>4</th>\n",
       "      <td>5</td>\n",
       "      <td>American Beauty</td>\n",
       "      <td>Drama</td>\n",
       "      <td>en</td>\n",
       "      <td>15000000</td>\n",
       "      <td>80.878605</td>\n",
       "      <td>15-09-1999</td>\n",
       "      <td>356296601</td>\n",
       "      <td>122.0</td>\n",
       "      <td>7.9</td>\n",
       "      <td>...</td>\n",
       "      <td>http://www.dreamworks.com/ab/</td>\n",
       "      <td>male nudity female nudity adultery midlife cri...</td>\n",
       "      <td>Lester Burnham, a depressed suburban father in...</td>\n",
       "      <td>[{\"name\": \"DreamWorks SKG\", \"id\": 27}, {\"name\"...</td>\n",
       "      <td>[{\"iso_3166_1\": \"US\", \"name\": \"United States o...</td>\n",
       "      <td>[{\"iso_639_1\": \"en\", \"name\": \"English\"}]</td>\n",
       "      <td>Look closer.</td>\n",
       "      <td>Kevin Spacey Annette Bening Thora Birch Wes Be...</td>\n",
       "      <td>[{'name': 'Thomas Newman', 'gender': 2, 'depar...</td>\n",
       "      <td>Sam Mendes</td>\n",
       "    </tr>\n",
       "    <tr>\n",
       "      <th>...</th>\n",
       "      <td>...</td>\n",
       "      <td>...</td>\n",
       "      <td>...</td>\n",
       "      <td>...</td>\n",
       "      <td>...</td>\n",
       "      <td>...</td>\n",
       "      <td>...</td>\n",
       "      <td>...</td>\n",
       "      <td>...</td>\n",
       "      <td>...</td>\n",
       "      <td>...</td>\n",
       "      <td>...</td>\n",
       "      <td>...</td>\n",
       "      <td>...</td>\n",
       "      <td>...</td>\n",
       "      <td>...</td>\n",
       "      <td>...</td>\n",
       "      <td>...</td>\n",
       "      <td>...</td>\n",
       "      <td>...</td>\n",
       "      <td>...</td>\n",
       "    </tr>\n",
       "    <tr>\n",
       "      <th>4755</th>\n",
       "      <td>4784</td>\n",
       "      <td>Midnight Cabaret</td>\n",
       "      <td>Horror</td>\n",
       "      <td>en</td>\n",
       "      <td>0</td>\n",
       "      <td>0.001389</td>\n",
       "      <td>01-01-1990</td>\n",
       "      <td>0</td>\n",
       "      <td>94.0</td>\n",
       "      <td>0.0</td>\n",
       "      <td>...</td>\n",
       "      <td>NaN</td>\n",
       "      <td>NaN</td>\n",
       "      <td>A Broadway producer puts on a play with a Devi...</td>\n",
       "      <td>[]</td>\n",
       "      <td>[]</td>\n",
       "      <td>[{\"iso_639_1\": \"en\", \"name\": \"English\"}]</td>\n",
       "      <td>The hot spot where Satan's waitin'.</td>\n",
       "      <td>Lisa Hart Carroll Michael Des Barres Paul Drak...</td>\n",
       "      <td>[{'name': 'Pece Dingo', 'gender': 0, 'departme...</td>\n",
       "      <td>Pece Dingo</td>\n",
       "    </tr>\n",
       "    <tr>\n",
       "      <th>4756</th>\n",
       "      <td>4785</td>\n",
       "      <td>Growing Up Smith</td>\n",
       "      <td>Comedy Family Drama</td>\n",
       "      <td>en</td>\n",
       "      <td>0</td>\n",
       "      <td>0.710870</td>\n",
       "      <td>03-02-2017</td>\n",
       "      <td>0</td>\n",
       "      <td>102.0</td>\n",
       "      <td>7.4</td>\n",
       "      <td>...</td>\n",
       "      <td>http://www.growingupsmithmovie.com</td>\n",
       "      <td>NaN</td>\n",
       "      <td>In 1979, an Indian family moves to America wit...</td>\n",
       "      <td>[]</td>\n",
       "      <td>[]</td>\n",
       "      <td>[{\"iso_639_1\": \"en\", \"name\": \"English\"}]</td>\n",
       "      <td>It’s better to stand out than to fit in.</td>\n",
       "      <td>Roni Akurati Brighton Sharbino Jason Lee Anjul...</td>\n",
       "      <td>[{'name': 'Frank Lotito', 'gender': 0, 'depart...</td>\n",
       "      <td>Frank Lotito</td>\n",
       "    </tr>\n",
       "    <tr>\n",
       "      <th>4757</th>\n",
       "      <td>4786</td>\n",
       "      <td>8 Days</td>\n",
       "      <td>Thriller Drama</td>\n",
       "      <td>en</td>\n",
       "      <td>0</td>\n",
       "      <td>0.015295</td>\n",
       "      <td>15-06-2014</td>\n",
       "      <td>0</td>\n",
       "      <td>90.0</td>\n",
       "      <td>0.0</td>\n",
       "      <td>...</td>\n",
       "      <td>NaN</td>\n",
       "      <td>christian film sex trafficking</td>\n",
       "      <td>After sneaking to a party with her friends, 16...</td>\n",
       "      <td>[{\"name\": \"After Eden Pictures\", \"id\": 85248}]</td>\n",
       "      <td>[{\"iso_3166_1\": \"US\", \"name\": \"United States o...</td>\n",
       "      <td>[{\"iso_639_1\": \"en\", \"name\": \"English\"}]</td>\n",
       "      <td>She never knew it could happen to her...</td>\n",
       "      <td>Nicole Smolen Kim Baldwin Ariana Stephens Brys...</td>\n",
       "      <td>[{'name': 'Jaco Booyens', 'gender': 0, 'depart...</td>\n",
       "      <td>Jaco Booyens</td>\n",
       "    </tr>\n",
       "    <tr>\n",
       "      <th>4758</th>\n",
       "      <td>4787</td>\n",
       "      <td>Running Forever</td>\n",
       "      <td>Family</td>\n",
       "      <td>en</td>\n",
       "      <td>0</td>\n",
       "      <td>0.028756</td>\n",
       "      <td>27-10-2015</td>\n",
       "      <td>0</td>\n",
       "      <td>88.0</td>\n",
       "      <td>0.0</td>\n",
       "      <td>...</td>\n",
       "      <td>NaN</td>\n",
       "      <td>NaN</td>\n",
       "      <td>After being estranged since her mother's death...</td>\n",
       "      <td>[{\"name\": \"New Kingdom Pictures\", \"id\": 41671}]</td>\n",
       "      <td>[{\"iso_3166_1\": \"US\", \"name\": \"United States o...</td>\n",
       "      <td>[]</td>\n",
       "      <td>NaN</td>\n",
       "      <td>NaN</td>\n",
       "      <td>[]</td>\n",
       "      <td>NaN</td>\n",
       "    </tr>\n",
       "    <tr>\n",
       "      <th>4759</th>\n",
       "      <td>4788</td>\n",
       "      <td>To Be Frank, Sinatra at 100</td>\n",
       "      <td>Documentary</td>\n",
       "      <td>en</td>\n",
       "      <td>2</td>\n",
       "      <td>0.050625</td>\n",
       "      <td>12-12-2015</td>\n",
       "      <td>0</td>\n",
       "      <td>NaN</td>\n",
       "      <td>0.0</td>\n",
       "      <td>...</td>\n",
       "      <td>NaN</td>\n",
       "      <td>music actors legendary perfomer classic hollyw...</td>\n",
       "      <td>NaN</td>\n",
       "      <td>[{\"name\": \"Eyeline Entertainment\", \"id\": 60343}]</td>\n",
       "      <td>[{\"iso_3166_1\": \"GB\", \"name\": \"United Kingdom\"}]</td>\n",
       "      <td>[]</td>\n",
       "      <td>NaN</td>\n",
       "      <td>Tony Oppedisano</td>\n",
       "      <td>[{'name': 'Simon Napier-Bell', 'gender': 0, 'd...</td>\n",
       "      <td>Simon Napier-Bell</td>\n",
       "    </tr>\n",
       "  </tbody>\n",
       "</table>\n",
       "<p>4760 rows × 21 columns</p>\n",
       "</div>"
      ],
      "text/plain": [
       "      Movie_ID                  Movie_Title                       Movie_Genre  \\\n",
       "0            1                   Four Rooms                      Crime Comedy   \n",
       "1            2                    Star Wars  Adventure Action Science Fiction   \n",
       "2            3                 Finding Nemo                  Animation Family   \n",
       "3            4                 Forrest Gump              Comedy Drama Romance   \n",
       "4            5              American Beauty                             Drama   \n",
       "...        ...                          ...                               ...   \n",
       "4755      4784             Midnight Cabaret                            Horror   \n",
       "4756      4785             Growing Up Smith               Comedy Family Drama   \n",
       "4757      4786                       8 Days                    Thriller Drama   \n",
       "4758      4787              Running Forever                            Family   \n",
       "4759      4788  To Be Frank, Sinatra at 100                       Documentary   \n",
       "\n",
       "     Movie_Language  Movie_Budget  Movie_Popularity Movie_Release_Date  \\\n",
       "0                en       4000000         22.876230         09-12-1995   \n",
       "1                en      11000000        126.393695         25-05-1977   \n",
       "2                en      94000000         85.688789         30-05-2003   \n",
       "3                en      55000000        138.133331         06-07-1994   \n",
       "4                en      15000000         80.878605         15-09-1999   \n",
       "...             ...           ...               ...                ...   \n",
       "4755             en             0          0.001389         01-01-1990   \n",
       "4756             en             0          0.710870         03-02-2017   \n",
       "4757             en             0          0.015295         15-06-2014   \n",
       "4758             en             0          0.028756         27-10-2015   \n",
       "4759             en             2          0.050625         12-12-2015   \n",
       "\n",
       "      Movie_Revenue  Movie_Runtime  Movie_Vote  ...  \\\n",
       "0           4300000           98.0         6.5  ...   \n",
       "1         775398007          121.0         8.1  ...   \n",
       "2         940335536          100.0         7.6  ...   \n",
       "3         677945399          142.0         8.2  ...   \n",
       "4         356296601          122.0         7.9  ...   \n",
       "...             ...            ...         ...  ...   \n",
       "4755              0           94.0         0.0  ...   \n",
       "4756              0          102.0         7.4  ...   \n",
       "4757              0           90.0         0.0  ...   \n",
       "4758              0           88.0         0.0  ...   \n",
       "4759              0            NaN         0.0  ...   \n",
       "\n",
       "                                         Movie_Homepage  \\\n",
       "0                                                   NaN   \n",
       "1     http://www.starwars.com/films/star-wars-episod...   \n",
       "2                 http://movies.disney.com/finding-nemo   \n",
       "3                                                   NaN   \n",
       "4                         http://www.dreamworks.com/ab/   \n",
       "...                                                 ...   \n",
       "4755                                                NaN   \n",
       "4756                 http://www.growingupsmithmovie.com   \n",
       "4757                                                NaN   \n",
       "4758                                                NaN   \n",
       "4759                                                NaN   \n",
       "\n",
       "                                         Movie_Keywords  \\\n",
       "0             hotel new year's eve witch bet hotel room   \n",
       "1           android galaxy hermit death star lightsaber   \n",
       "2     father son relationship harbor underwater fish...   \n",
       "3     vietnam veteran hippie mentally disabled runni...   \n",
       "4     male nudity female nudity adultery midlife cri...   \n",
       "...                                                 ...   \n",
       "4755                                                NaN   \n",
       "4756                                                NaN   \n",
       "4757                     christian film sex trafficking   \n",
       "4758                                                NaN   \n",
       "4759  music actors legendary perfomer classic hollyw...   \n",
       "\n",
       "                                         Movie_Overview  \\\n",
       "0     It's Ted the Bellhop's first night on the job....   \n",
       "1     Princess Leia is captured and held hostage by ...   \n",
       "2     Nemo, an adventurous young clownfish, is unexp...   \n",
       "3     A man with a low IQ has accomplished great thi...   \n",
       "4     Lester Burnham, a depressed suburban father in...   \n",
       "...                                                 ...   \n",
       "4755  A Broadway producer puts on a play with a Devi...   \n",
       "4756  In 1979, an Indian family moves to America wit...   \n",
       "4757  After sneaking to a party with her friends, 16...   \n",
       "4758  After being estranged since her mother's death...   \n",
       "4759                                                NaN   \n",
       "\n",
       "                                 Movie_Production_House  \\\n",
       "0     [{\"name\": \"Miramax Films\", \"id\": 14}, {\"name\":...   \n",
       "1     [{\"name\": \"Lucasfilm\", \"id\": 1}, {\"name\": \"Twe...   \n",
       "2        [{\"name\": \"Pixar Animation Studios\", \"id\": 3}]   \n",
       "3             [{\"name\": \"Paramount Pictures\", \"id\": 4}]   \n",
       "4     [{\"name\": \"DreamWorks SKG\", \"id\": 27}, {\"name\"...   \n",
       "...                                                 ...   \n",
       "4755                                                 []   \n",
       "4756                                                 []   \n",
       "4757     [{\"name\": \"After Eden Pictures\", \"id\": 85248}]   \n",
       "4758    [{\"name\": \"New Kingdom Pictures\", \"id\": 41671}]   \n",
       "4759   [{\"name\": \"Eyeline Entertainment\", \"id\": 60343}]   \n",
       "\n",
       "                               Movie_Production_Country  \\\n",
       "0     [{\"iso_3166_1\": \"US\", \"name\": \"United States o...   \n",
       "1     [{\"iso_3166_1\": \"US\", \"name\": \"United States o...   \n",
       "2     [{\"iso_3166_1\": \"US\", \"name\": \"United States o...   \n",
       "3     [{\"iso_3166_1\": \"US\", \"name\": \"United States o...   \n",
       "4     [{\"iso_3166_1\": \"US\", \"name\": \"United States o...   \n",
       "...                                                 ...   \n",
       "4755                                                 []   \n",
       "4756                                                 []   \n",
       "4757  [{\"iso_3166_1\": \"US\", \"name\": \"United States o...   \n",
       "4758  [{\"iso_3166_1\": \"US\", \"name\": \"United States o...   \n",
       "4759   [{\"iso_3166_1\": \"GB\", \"name\": \"United Kingdom\"}]   \n",
       "\n",
       "                         Movie_Spoken_Language  \\\n",
       "0     [{\"iso_639_1\": \"en\", \"name\": \"English\"}]   \n",
       "1     [{\"iso_639_1\": \"en\", \"name\": \"English\"}]   \n",
       "2     [{\"iso_639_1\": \"en\", \"name\": \"English\"}]   \n",
       "3     [{\"iso_639_1\": \"en\", \"name\": \"English\"}]   \n",
       "4     [{\"iso_639_1\": \"en\", \"name\": \"English\"}]   \n",
       "...                                        ...   \n",
       "4755  [{\"iso_639_1\": \"en\", \"name\": \"English\"}]   \n",
       "4756  [{\"iso_639_1\": \"en\", \"name\": \"English\"}]   \n",
       "4757  [{\"iso_639_1\": \"en\", \"name\": \"English\"}]   \n",
       "4758                                        []   \n",
       "4759                                        []   \n",
       "\n",
       "                                          Movie_Tagline  \\\n",
       "0     Twelve outrageous guests. Four scandalous requ...   \n",
       "1          A long time ago in a galaxy far, far away...   \n",
       "2     There are 3.7 trillion fish in the ocean, they...   \n",
       "3     The world will never be the same, once you've ...   \n",
       "4                                          Look closer.   \n",
       "...                                                 ...   \n",
       "4755                The hot spot where Satan's waitin'.   \n",
       "4756           It’s better to stand out than to fit in.   \n",
       "4757           She never knew it could happen to her...   \n",
       "4758                                                NaN   \n",
       "4759                                                NaN   \n",
       "\n",
       "                                             Movie_Cast  \\\n",
       "0     Tim Roth Antonio Banderas Jennifer Beals Madon...   \n",
       "1     Mark Hamill Harrison Ford Carrie Fisher Peter ...   \n",
       "2     Albert Brooks Ellen DeGeneres Alexander Gould ...   \n",
       "3     Tom Hanks Robin Wright Gary Sinise Mykelti Wil...   \n",
       "4     Kevin Spacey Annette Bening Thora Birch Wes Be...   \n",
       "...                                                 ...   \n",
       "4755  Lisa Hart Carroll Michael Des Barres Paul Drak...   \n",
       "4756  Roni Akurati Brighton Sharbino Jason Lee Anjul...   \n",
       "4757  Nicole Smolen Kim Baldwin Ariana Stephens Brys...   \n",
       "4758                                                NaN   \n",
       "4759                                    Tony Oppedisano   \n",
       "\n",
       "                                             Movie_Crew     Movie_Director  \n",
       "0     [{'name': 'Allison Anders', 'gender': 1, 'depa...     Allison Anders  \n",
       "1     [{'name': 'George Lucas', 'gender': 2, 'depart...       George Lucas  \n",
       "2     [{'name': 'Andrew Stanton', 'gender': 2, 'depa...     Andrew Stanton  \n",
       "3     [{'name': 'Alan Silvestri', 'gender': 2, 'depa...    Robert Zemeckis  \n",
       "4     [{'name': 'Thomas Newman', 'gender': 2, 'depar...         Sam Mendes  \n",
       "...                                                 ...                ...  \n",
       "4755  [{'name': 'Pece Dingo', 'gender': 0, 'departme...         Pece Dingo  \n",
       "4756  [{'name': 'Frank Lotito', 'gender': 0, 'depart...       Frank Lotito  \n",
       "4757  [{'name': 'Jaco Booyens', 'gender': 0, 'depart...       Jaco Booyens  \n",
       "4758                                                 []                NaN  \n",
       "4759  [{'name': 'Simon Napier-Bell', 'gender': 0, 'd...  Simon Napier-Bell  \n",
       "\n",
       "[4760 rows x 21 columns]"
      ]
     },
     "execution_count": 2,
     "metadata": {},
     "output_type": "execute_result"
    }
   ],
   "source": [
    "pd.read_csv('https://github.com/YBIFoundation/Dataset/raw/main/Movies%20Recommendation.csv')"
   ]
  },
  {
   "cell_type": "code",
   "execution_count": 3,
   "id": "193e3fed",
   "metadata": {},
   "outputs": [],
   "source": [
    "df = pd.read_csv('https://github.com/YBIFoundation/Dataset/raw/main/Movies%20Recommendation.csv')"
   ]
  },
  {
   "cell_type": "code",
   "execution_count": 4,
   "id": "0edcdce0",
   "metadata": {},
   "outputs": [
    {
     "data": {
      "text/html": [
       "<div>\n",
       "<style scoped>\n",
       "    .dataframe tbody tr th:only-of-type {\n",
       "        vertical-align: middle;\n",
       "    }\n",
       "\n",
       "    .dataframe tbody tr th {\n",
       "        vertical-align: top;\n",
       "    }\n",
       "\n",
       "    .dataframe thead th {\n",
       "        text-align: right;\n",
       "    }\n",
       "</style>\n",
       "<table border=\"1\" class=\"dataframe\">\n",
       "  <thead>\n",
       "    <tr style=\"text-align: right;\">\n",
       "      <th></th>\n",
       "      <th>Movie_ID</th>\n",
       "      <th>Movie_Title</th>\n",
       "      <th>Movie_Genre</th>\n",
       "      <th>Movie_Language</th>\n",
       "      <th>Movie_Budget</th>\n",
       "      <th>Movie_Popularity</th>\n",
       "      <th>Movie_Release_Date</th>\n",
       "      <th>Movie_Revenue</th>\n",
       "      <th>Movie_Runtime</th>\n",
       "      <th>Movie_Vote</th>\n",
       "      <th>...</th>\n",
       "      <th>Movie_Homepage</th>\n",
       "      <th>Movie_Keywords</th>\n",
       "      <th>Movie_Overview</th>\n",
       "      <th>Movie_Production_House</th>\n",
       "      <th>Movie_Production_Country</th>\n",
       "      <th>Movie_Spoken_Language</th>\n",
       "      <th>Movie_Tagline</th>\n",
       "      <th>Movie_Cast</th>\n",
       "      <th>Movie_Crew</th>\n",
       "      <th>Movie_Director</th>\n",
       "    </tr>\n",
       "  </thead>\n",
       "  <tbody>\n",
       "    <tr>\n",
       "      <th>0</th>\n",
       "      <td>1</td>\n",
       "      <td>Four Rooms</td>\n",
       "      <td>Crime Comedy</td>\n",
       "      <td>en</td>\n",
       "      <td>4000000</td>\n",
       "      <td>22.876230</td>\n",
       "      <td>09-12-1995</td>\n",
       "      <td>4300000</td>\n",
       "      <td>98.0</td>\n",
       "      <td>6.5</td>\n",
       "      <td>...</td>\n",
       "      <td>NaN</td>\n",
       "      <td>hotel new year's eve witch bet hotel room</td>\n",
       "      <td>It's Ted the Bellhop's first night on the job....</td>\n",
       "      <td>[{\"name\": \"Miramax Films\", \"id\": 14}, {\"name\":...</td>\n",
       "      <td>[{\"iso_3166_1\": \"US\", \"name\": \"United States o...</td>\n",
       "      <td>[{\"iso_639_1\": \"en\", \"name\": \"English\"}]</td>\n",
       "      <td>Twelve outrageous guests. Four scandalous requ...</td>\n",
       "      <td>Tim Roth Antonio Banderas Jennifer Beals Madon...</td>\n",
       "      <td>[{'name': 'Allison Anders', 'gender': 1, 'depa...</td>\n",
       "      <td>Allison Anders</td>\n",
       "    </tr>\n",
       "    <tr>\n",
       "      <th>1</th>\n",
       "      <td>2</td>\n",
       "      <td>Star Wars</td>\n",
       "      <td>Adventure Action Science Fiction</td>\n",
       "      <td>en</td>\n",
       "      <td>11000000</td>\n",
       "      <td>126.393695</td>\n",
       "      <td>25-05-1977</td>\n",
       "      <td>775398007</td>\n",
       "      <td>121.0</td>\n",
       "      <td>8.1</td>\n",
       "      <td>...</td>\n",
       "      <td>http://www.starwars.com/films/star-wars-episod...</td>\n",
       "      <td>android galaxy hermit death star lightsaber</td>\n",
       "      <td>Princess Leia is captured and held hostage by ...</td>\n",
       "      <td>[{\"name\": \"Lucasfilm\", \"id\": 1}, {\"name\": \"Twe...</td>\n",
       "      <td>[{\"iso_3166_1\": \"US\", \"name\": \"United States o...</td>\n",
       "      <td>[{\"iso_639_1\": \"en\", \"name\": \"English\"}]</td>\n",
       "      <td>A long time ago in a galaxy far, far away...</td>\n",
       "      <td>Mark Hamill Harrison Ford Carrie Fisher Peter ...</td>\n",
       "      <td>[{'name': 'George Lucas', 'gender': 2, 'depart...</td>\n",
       "      <td>George Lucas</td>\n",
       "    </tr>\n",
       "    <tr>\n",
       "      <th>2</th>\n",
       "      <td>3</td>\n",
       "      <td>Finding Nemo</td>\n",
       "      <td>Animation Family</td>\n",
       "      <td>en</td>\n",
       "      <td>94000000</td>\n",
       "      <td>85.688789</td>\n",
       "      <td>30-05-2003</td>\n",
       "      <td>940335536</td>\n",
       "      <td>100.0</td>\n",
       "      <td>7.6</td>\n",
       "      <td>...</td>\n",
       "      <td>http://movies.disney.com/finding-nemo</td>\n",
       "      <td>father son relationship harbor underwater fish...</td>\n",
       "      <td>Nemo, an adventurous young clownfish, is unexp...</td>\n",
       "      <td>[{\"name\": \"Pixar Animation Studios\", \"id\": 3}]</td>\n",
       "      <td>[{\"iso_3166_1\": \"US\", \"name\": \"United States o...</td>\n",
       "      <td>[{\"iso_639_1\": \"en\", \"name\": \"English\"}]</td>\n",
       "      <td>There are 3.7 trillion fish in the ocean, they...</td>\n",
       "      <td>Albert Brooks Ellen DeGeneres Alexander Gould ...</td>\n",
       "      <td>[{'name': 'Andrew Stanton', 'gender': 2, 'depa...</td>\n",
       "      <td>Andrew Stanton</td>\n",
       "    </tr>\n",
       "    <tr>\n",
       "      <th>3</th>\n",
       "      <td>4</td>\n",
       "      <td>Forrest Gump</td>\n",
       "      <td>Comedy Drama Romance</td>\n",
       "      <td>en</td>\n",
       "      <td>55000000</td>\n",
       "      <td>138.133331</td>\n",
       "      <td>06-07-1994</td>\n",
       "      <td>677945399</td>\n",
       "      <td>142.0</td>\n",
       "      <td>8.2</td>\n",
       "      <td>...</td>\n",
       "      <td>NaN</td>\n",
       "      <td>vietnam veteran hippie mentally disabled runni...</td>\n",
       "      <td>A man with a low IQ has accomplished great thi...</td>\n",
       "      <td>[{\"name\": \"Paramount Pictures\", \"id\": 4}]</td>\n",
       "      <td>[{\"iso_3166_1\": \"US\", \"name\": \"United States o...</td>\n",
       "      <td>[{\"iso_639_1\": \"en\", \"name\": \"English\"}]</td>\n",
       "      <td>The world will never be the same, once you've ...</td>\n",
       "      <td>Tom Hanks Robin Wright Gary Sinise Mykelti Wil...</td>\n",
       "      <td>[{'name': 'Alan Silvestri', 'gender': 2, 'depa...</td>\n",
       "      <td>Robert Zemeckis</td>\n",
       "    </tr>\n",
       "    <tr>\n",
       "      <th>4</th>\n",
       "      <td>5</td>\n",
       "      <td>American Beauty</td>\n",
       "      <td>Drama</td>\n",
       "      <td>en</td>\n",
       "      <td>15000000</td>\n",
       "      <td>80.878605</td>\n",
       "      <td>15-09-1999</td>\n",
       "      <td>356296601</td>\n",
       "      <td>122.0</td>\n",
       "      <td>7.9</td>\n",
       "      <td>...</td>\n",
       "      <td>http://www.dreamworks.com/ab/</td>\n",
       "      <td>male nudity female nudity adultery midlife cri...</td>\n",
       "      <td>Lester Burnham, a depressed suburban father in...</td>\n",
       "      <td>[{\"name\": \"DreamWorks SKG\", \"id\": 27}, {\"name\"...</td>\n",
       "      <td>[{\"iso_3166_1\": \"US\", \"name\": \"United States o...</td>\n",
       "      <td>[{\"iso_639_1\": \"en\", \"name\": \"English\"}]</td>\n",
       "      <td>Look closer.</td>\n",
       "      <td>Kevin Spacey Annette Bening Thora Birch Wes Be...</td>\n",
       "      <td>[{'name': 'Thomas Newman', 'gender': 2, 'depar...</td>\n",
       "      <td>Sam Mendes</td>\n",
       "    </tr>\n",
       "  </tbody>\n",
       "</table>\n",
       "<p>5 rows × 21 columns</p>\n",
       "</div>"
      ],
      "text/plain": [
       "   Movie_ID      Movie_Title                       Movie_Genre Movie_Language  \\\n",
       "0         1       Four Rooms                      Crime Comedy             en   \n",
       "1         2        Star Wars  Adventure Action Science Fiction             en   \n",
       "2         3     Finding Nemo                  Animation Family             en   \n",
       "3         4     Forrest Gump              Comedy Drama Romance             en   \n",
       "4         5  American Beauty                             Drama             en   \n",
       "\n",
       "   Movie_Budget  Movie_Popularity Movie_Release_Date  Movie_Revenue  \\\n",
       "0       4000000         22.876230         09-12-1995        4300000   \n",
       "1      11000000        126.393695         25-05-1977      775398007   \n",
       "2      94000000         85.688789         30-05-2003      940335536   \n",
       "3      55000000        138.133331         06-07-1994      677945399   \n",
       "4      15000000         80.878605         15-09-1999      356296601   \n",
       "\n",
       "   Movie_Runtime  Movie_Vote  ...  \\\n",
       "0           98.0         6.5  ...   \n",
       "1          121.0         8.1  ...   \n",
       "2          100.0         7.6  ...   \n",
       "3          142.0         8.2  ...   \n",
       "4          122.0         7.9  ...   \n",
       "\n",
       "                                      Movie_Homepage  \\\n",
       "0                                                NaN   \n",
       "1  http://www.starwars.com/films/star-wars-episod...   \n",
       "2              http://movies.disney.com/finding-nemo   \n",
       "3                                                NaN   \n",
       "4                      http://www.dreamworks.com/ab/   \n",
       "\n",
       "                                      Movie_Keywords  \\\n",
       "0          hotel new year's eve witch bet hotel room   \n",
       "1        android galaxy hermit death star lightsaber   \n",
       "2  father son relationship harbor underwater fish...   \n",
       "3  vietnam veteran hippie mentally disabled runni...   \n",
       "4  male nudity female nudity adultery midlife cri...   \n",
       "\n",
       "                                      Movie_Overview  \\\n",
       "0  It's Ted the Bellhop's first night on the job....   \n",
       "1  Princess Leia is captured and held hostage by ...   \n",
       "2  Nemo, an adventurous young clownfish, is unexp...   \n",
       "3  A man with a low IQ has accomplished great thi...   \n",
       "4  Lester Burnham, a depressed suburban father in...   \n",
       "\n",
       "                              Movie_Production_House  \\\n",
       "0  [{\"name\": \"Miramax Films\", \"id\": 14}, {\"name\":...   \n",
       "1  [{\"name\": \"Lucasfilm\", \"id\": 1}, {\"name\": \"Twe...   \n",
       "2     [{\"name\": \"Pixar Animation Studios\", \"id\": 3}]   \n",
       "3          [{\"name\": \"Paramount Pictures\", \"id\": 4}]   \n",
       "4  [{\"name\": \"DreamWorks SKG\", \"id\": 27}, {\"name\"...   \n",
       "\n",
       "                            Movie_Production_Country  \\\n",
       "0  [{\"iso_3166_1\": \"US\", \"name\": \"United States o...   \n",
       "1  [{\"iso_3166_1\": \"US\", \"name\": \"United States o...   \n",
       "2  [{\"iso_3166_1\": \"US\", \"name\": \"United States o...   \n",
       "3  [{\"iso_3166_1\": \"US\", \"name\": \"United States o...   \n",
       "4  [{\"iso_3166_1\": \"US\", \"name\": \"United States o...   \n",
       "\n",
       "                      Movie_Spoken_Language  \\\n",
       "0  [{\"iso_639_1\": \"en\", \"name\": \"English\"}]   \n",
       "1  [{\"iso_639_1\": \"en\", \"name\": \"English\"}]   \n",
       "2  [{\"iso_639_1\": \"en\", \"name\": \"English\"}]   \n",
       "3  [{\"iso_639_1\": \"en\", \"name\": \"English\"}]   \n",
       "4  [{\"iso_639_1\": \"en\", \"name\": \"English\"}]   \n",
       "\n",
       "                                       Movie_Tagline  \\\n",
       "0  Twelve outrageous guests. Four scandalous requ...   \n",
       "1       A long time ago in a galaxy far, far away...   \n",
       "2  There are 3.7 trillion fish in the ocean, they...   \n",
       "3  The world will never be the same, once you've ...   \n",
       "4                                       Look closer.   \n",
       "\n",
       "                                          Movie_Cast  \\\n",
       "0  Tim Roth Antonio Banderas Jennifer Beals Madon...   \n",
       "1  Mark Hamill Harrison Ford Carrie Fisher Peter ...   \n",
       "2  Albert Brooks Ellen DeGeneres Alexander Gould ...   \n",
       "3  Tom Hanks Robin Wright Gary Sinise Mykelti Wil...   \n",
       "4  Kevin Spacey Annette Bening Thora Birch Wes Be...   \n",
       "\n",
       "                                          Movie_Crew   Movie_Director  \n",
       "0  [{'name': 'Allison Anders', 'gender': 1, 'depa...   Allison Anders  \n",
       "1  [{'name': 'George Lucas', 'gender': 2, 'depart...     George Lucas  \n",
       "2  [{'name': 'Andrew Stanton', 'gender': 2, 'depa...   Andrew Stanton  \n",
       "3  [{'name': 'Alan Silvestri', 'gender': 2, 'depa...  Robert Zemeckis  \n",
       "4  [{'name': 'Thomas Newman', 'gender': 2, 'depar...       Sam Mendes  \n",
       "\n",
       "[5 rows x 21 columns]"
      ]
     },
     "execution_count": 4,
     "metadata": {},
     "output_type": "execute_result"
    }
   ],
   "source": [
    "df.head()"
   ]
  },
  {
   "cell_type": "code",
   "execution_count": 5,
   "id": "a6ca3df4",
   "metadata": {},
   "outputs": [
    {
     "name": "stdout",
     "output_type": "stream",
     "text": [
      "<class 'pandas.core.frame.DataFrame'>\n",
      "RangeIndex: 4760 entries, 0 to 4759\n",
      "Data columns (total 21 columns):\n",
      " #   Column                    Non-Null Count  Dtype  \n",
      "---  ------                    --------------  -----  \n",
      " 0   Movie_ID                  4760 non-null   int64  \n",
      " 1   Movie_Title               4760 non-null   object \n",
      " 2   Movie_Genre               4760 non-null   object \n",
      " 3   Movie_Language            4760 non-null   object \n",
      " 4   Movie_Budget              4760 non-null   int64  \n",
      " 5   Movie_Popularity          4760 non-null   float64\n",
      " 6   Movie_Release_Date        4760 non-null   object \n",
      " 7   Movie_Revenue             4760 non-null   int64  \n",
      " 8   Movie_Runtime             4758 non-null   float64\n",
      " 9   Movie_Vote                4760 non-null   float64\n",
      " 10  Movie_Vote_Count          4760 non-null   int64  \n",
      " 11  Movie_Homepage            1699 non-null   object \n",
      " 12  Movie_Keywords            4373 non-null   object \n",
      " 13  Movie_Overview            4757 non-null   object \n",
      " 14  Movie_Production_House    4760 non-null   object \n",
      " 15  Movie_Production_Country  4760 non-null   object \n",
      " 16  Movie_Spoken_Language     4760 non-null   object \n",
      " 17  Movie_Tagline             3942 non-null   object \n",
      " 18  Movie_Cast                4733 non-null   object \n",
      " 19  Movie_Crew                4760 non-null   object \n",
      " 20  Movie_Director            4738 non-null   object \n",
      "dtypes: float64(3), int64(4), object(14)\n",
      "memory usage: 781.1+ KB\n"
     ]
    }
   ],
   "source": [
    "df.info()"
   ]
  },
  {
   "cell_type": "code",
   "execution_count": 6,
   "id": "ab3ed614",
   "metadata": {},
   "outputs": [
    {
     "data": {
      "text/html": [
       "<div>\n",
       "<style scoped>\n",
       "    .dataframe tbody tr th:only-of-type {\n",
       "        vertical-align: middle;\n",
       "    }\n",
       "\n",
       "    .dataframe tbody tr th {\n",
       "        vertical-align: top;\n",
       "    }\n",
       "\n",
       "    .dataframe thead th {\n",
       "        text-align: right;\n",
       "    }\n",
       "</style>\n",
       "<table border=\"1\" class=\"dataframe\">\n",
       "  <thead>\n",
       "    <tr style=\"text-align: right;\">\n",
       "      <th></th>\n",
       "      <th>Movie_ID</th>\n",
       "      <th>Movie_Budget</th>\n",
       "      <th>Movie_Popularity</th>\n",
       "      <th>Movie_Revenue</th>\n",
       "      <th>Movie_Runtime</th>\n",
       "      <th>Movie_Vote</th>\n",
       "      <th>Movie_Vote_Count</th>\n",
       "    </tr>\n",
       "  </thead>\n",
       "  <tbody>\n",
       "    <tr>\n",
       "      <th>count</th>\n",
       "      <td>4760.000000</td>\n",
       "      <td>4.760000e+03</td>\n",
       "      <td>4760.000000</td>\n",
       "      <td>4.760000e+03</td>\n",
       "      <td>4758.000000</td>\n",
       "      <td>4760.000000</td>\n",
       "      <td>4760.000000</td>\n",
       "    </tr>\n",
       "    <tr>\n",
       "      <th>mean</th>\n",
       "      <td>2382.566387</td>\n",
       "      <td>2.920129e+07</td>\n",
       "      <td>21.599510</td>\n",
       "      <td>8.263743e+07</td>\n",
       "      <td>107.184111</td>\n",
       "      <td>6.113866</td>\n",
       "      <td>692.508403</td>\n",
       "    </tr>\n",
       "    <tr>\n",
       "      <th>std</th>\n",
       "      <td>1377.270159</td>\n",
       "      <td>4.075620e+07</td>\n",
       "      <td>31.887919</td>\n",
       "      <td>1.630554e+08</td>\n",
       "      <td>21.960332</td>\n",
       "      <td>1.141294</td>\n",
       "      <td>1235.007337</td>\n",
       "    </tr>\n",
       "    <tr>\n",
       "      <th>min</th>\n",
       "      <td>1.000000</td>\n",
       "      <td>0.000000e+00</td>\n",
       "      <td>0.000372</td>\n",
       "      <td>0.000000e+00</td>\n",
       "      <td>0.000000</td>\n",
       "      <td>0.000000</td>\n",
       "      <td>0.000000</td>\n",
       "    </tr>\n",
       "    <tr>\n",
       "      <th>25%</th>\n",
       "      <td>1190.750000</td>\n",
       "      <td>9.257500e+05</td>\n",
       "      <td>4.807074</td>\n",
       "      <td>0.000000e+00</td>\n",
       "      <td>94.000000</td>\n",
       "      <td>5.600000</td>\n",
       "      <td>55.000000</td>\n",
       "    </tr>\n",
       "    <tr>\n",
       "      <th>50%</th>\n",
       "      <td>2380.500000</td>\n",
       "      <td>1.500000e+07</td>\n",
       "      <td>13.119058</td>\n",
       "      <td>1.944716e+07</td>\n",
       "      <td>104.000000</td>\n",
       "      <td>6.200000</td>\n",
       "      <td>238.000000</td>\n",
       "    </tr>\n",
       "    <tr>\n",
       "      <th>75%</th>\n",
       "      <td>3572.250000</td>\n",
       "      <td>4.000000e+07</td>\n",
       "      <td>28.411929</td>\n",
       "      <td>9.341276e+07</td>\n",
       "      <td>118.000000</td>\n",
       "      <td>6.800000</td>\n",
       "      <td>740.250000</td>\n",
       "    </tr>\n",
       "    <tr>\n",
       "      <th>max</th>\n",
       "      <td>4788.000000</td>\n",
       "      <td>3.800000e+08</td>\n",
       "      <td>875.581305</td>\n",
       "      <td>2.787965e+09</td>\n",
       "      <td>338.000000</td>\n",
       "      <td>10.000000</td>\n",
       "      <td>13752.000000</td>\n",
       "    </tr>\n",
       "  </tbody>\n",
       "</table>\n",
       "</div>"
      ],
      "text/plain": [
       "          Movie_ID  Movie_Budget  Movie_Popularity  Movie_Revenue  \\\n",
       "count  4760.000000  4.760000e+03       4760.000000   4.760000e+03   \n",
       "mean   2382.566387  2.920129e+07         21.599510   8.263743e+07   \n",
       "std    1377.270159  4.075620e+07         31.887919   1.630554e+08   \n",
       "min       1.000000  0.000000e+00          0.000372   0.000000e+00   \n",
       "25%    1190.750000  9.257500e+05          4.807074   0.000000e+00   \n",
       "50%    2380.500000  1.500000e+07         13.119058   1.944716e+07   \n",
       "75%    3572.250000  4.000000e+07         28.411929   9.341276e+07   \n",
       "max    4788.000000  3.800000e+08        875.581305   2.787965e+09   \n",
       "\n",
       "       Movie_Runtime   Movie_Vote  Movie_Vote_Count  \n",
       "count    4758.000000  4760.000000       4760.000000  \n",
       "mean      107.184111     6.113866        692.508403  \n",
       "std        21.960332     1.141294       1235.007337  \n",
       "min         0.000000     0.000000          0.000000  \n",
       "25%        94.000000     5.600000         55.000000  \n",
       "50%       104.000000     6.200000        238.000000  \n",
       "75%       118.000000     6.800000        740.250000  \n",
       "max       338.000000    10.000000      13752.000000  "
      ]
     },
     "execution_count": 6,
     "metadata": {},
     "output_type": "execute_result"
    }
   ],
   "source": [
    "df.describe()"
   ]
  },
  {
   "cell_type": "code",
   "execution_count": 7,
   "id": "17251bea",
   "metadata": {},
   "outputs": [
    {
     "data": {
      "text/plain": [
       "Index(['Movie_ID', 'Movie_Title', 'Movie_Genre', 'Movie_Language',\n",
       "       'Movie_Budget', 'Movie_Popularity', 'Movie_Release_Date',\n",
       "       'Movie_Revenue', 'Movie_Runtime', 'Movie_Vote', 'Movie_Vote_Count',\n",
       "       'Movie_Homepage', 'Movie_Keywords', 'Movie_Overview',\n",
       "       'Movie_Production_House', 'Movie_Production_Country',\n",
       "       'Movie_Spoken_Language', 'Movie_Tagline', 'Movie_Cast', 'Movie_Crew',\n",
       "       'Movie_Director'],\n",
       "      dtype='object')"
      ]
     },
     "execution_count": 7,
     "metadata": {},
     "output_type": "execute_result"
    }
   ],
   "source": [
    "df.columns"
   ]
  },
  {
   "cell_type": "code",
   "execution_count": 8,
   "id": "381c3892",
   "metadata": {},
   "outputs": [
    {
     "data": {
      "text/plain": [
       "(4760, 21)"
      ]
     },
     "execution_count": 8,
     "metadata": {},
     "output_type": "execute_result"
    }
   ],
   "source": [
    "df.shape"
   ]
  },
  {
   "cell_type": "markdown",
   "id": "45405a26",
   "metadata": {},
   "source": [
    "## Get Feature Selection"
   ]
  },
  {
   "cell_type": "markdown",
   "id": "f9cc5dc3",
   "metadata": {},
   "source": [
    "     Selected five existing features to recommend movies. it may vary from one project to another. Like one can add 'Movie_Vote_Count', 'Movie_Budget', 'Movie_Language' etc."
   ]
  },
  {
   "cell_type": "markdown",
   "id": "3442e4ac",
   "metadata": {},
   "source": [
    "The fillna() function replaces the NULL values (NA/NaN) with a specified value. "
   ]
  },
  {
   "cell_type": "code",
   "execution_count": 9,
   "id": "e4c6b7cb",
   "metadata": {},
   "outputs": [],
   "source": [
    "df_features = df[['Movie_Genre', 'Movie_Title', 'Movie_Production_House', 'Movie_Cast', 'Movie_Director']].fillna('')"
   ]
  },
  {
   "cell_type": "code",
   "execution_count": 10,
   "id": "d0926169",
   "metadata": {},
   "outputs": [
    {
     "data": {
      "text/plain": [
       "(4760, 5)"
      ]
     },
     "execution_count": 10,
     "metadata": {},
     "output_type": "execute_result"
    }
   ],
   "source": [
    "df_features.shape"
   ]
  },
  {
   "cell_type": "code",
   "execution_count": 11,
   "id": "f7fac776",
   "metadata": {},
   "outputs": [
    {
     "data": {
      "text/html": [
       "<div>\n",
       "<style scoped>\n",
       "    .dataframe tbody tr th:only-of-type {\n",
       "        vertical-align: middle;\n",
       "    }\n",
       "\n",
       "    .dataframe tbody tr th {\n",
       "        vertical-align: top;\n",
       "    }\n",
       "\n",
       "    .dataframe thead th {\n",
       "        text-align: right;\n",
       "    }\n",
       "</style>\n",
       "<table border=\"1\" class=\"dataframe\">\n",
       "  <thead>\n",
       "    <tr style=\"text-align: right;\">\n",
       "      <th></th>\n",
       "      <th>Movie_Genre</th>\n",
       "      <th>Movie_Title</th>\n",
       "      <th>Movie_Production_House</th>\n",
       "      <th>Movie_Cast</th>\n",
       "      <th>Movie_Director</th>\n",
       "    </tr>\n",
       "  </thead>\n",
       "  <tbody>\n",
       "    <tr>\n",
       "      <th>0</th>\n",
       "      <td>Crime Comedy</td>\n",
       "      <td>Four Rooms</td>\n",
       "      <td>[{\"name\": \"Miramax Films\", \"id\": 14}, {\"name\":...</td>\n",
       "      <td>Tim Roth Antonio Banderas Jennifer Beals Madon...</td>\n",
       "      <td>Allison Anders</td>\n",
       "    </tr>\n",
       "    <tr>\n",
       "      <th>1</th>\n",
       "      <td>Adventure Action Science Fiction</td>\n",
       "      <td>Star Wars</td>\n",
       "      <td>[{\"name\": \"Lucasfilm\", \"id\": 1}, {\"name\": \"Twe...</td>\n",
       "      <td>Mark Hamill Harrison Ford Carrie Fisher Peter ...</td>\n",
       "      <td>George Lucas</td>\n",
       "    </tr>\n",
       "    <tr>\n",
       "      <th>2</th>\n",
       "      <td>Animation Family</td>\n",
       "      <td>Finding Nemo</td>\n",
       "      <td>[{\"name\": \"Pixar Animation Studios\", \"id\": 3}]</td>\n",
       "      <td>Albert Brooks Ellen DeGeneres Alexander Gould ...</td>\n",
       "      <td>Andrew Stanton</td>\n",
       "    </tr>\n",
       "    <tr>\n",
       "      <th>3</th>\n",
       "      <td>Comedy Drama Romance</td>\n",
       "      <td>Forrest Gump</td>\n",
       "      <td>[{\"name\": \"Paramount Pictures\", \"id\": 4}]</td>\n",
       "      <td>Tom Hanks Robin Wright Gary Sinise Mykelti Wil...</td>\n",
       "      <td>Robert Zemeckis</td>\n",
       "    </tr>\n",
       "    <tr>\n",
       "      <th>4</th>\n",
       "      <td>Drama</td>\n",
       "      <td>American Beauty</td>\n",
       "      <td>[{\"name\": \"DreamWorks SKG\", \"id\": 27}, {\"name\"...</td>\n",
       "      <td>Kevin Spacey Annette Bening Thora Birch Wes Be...</td>\n",
       "      <td>Sam Mendes</td>\n",
       "    </tr>\n",
       "    <tr>\n",
       "      <th>...</th>\n",
       "      <td>...</td>\n",
       "      <td>...</td>\n",
       "      <td>...</td>\n",
       "      <td>...</td>\n",
       "      <td>...</td>\n",
       "    </tr>\n",
       "    <tr>\n",
       "      <th>4755</th>\n",
       "      <td>Horror</td>\n",
       "      <td>Midnight Cabaret</td>\n",
       "      <td>[]</td>\n",
       "      <td>Lisa Hart Carroll Michael Des Barres Paul Drak...</td>\n",
       "      <td>Pece Dingo</td>\n",
       "    </tr>\n",
       "    <tr>\n",
       "      <th>4756</th>\n",
       "      <td>Comedy Family Drama</td>\n",
       "      <td>Growing Up Smith</td>\n",
       "      <td>[]</td>\n",
       "      <td>Roni Akurati Brighton Sharbino Jason Lee Anjul...</td>\n",
       "      <td>Frank Lotito</td>\n",
       "    </tr>\n",
       "    <tr>\n",
       "      <th>4757</th>\n",
       "      <td>Thriller Drama</td>\n",
       "      <td>8 Days</td>\n",
       "      <td>[{\"name\": \"After Eden Pictures\", \"id\": 85248}]</td>\n",
       "      <td>Nicole Smolen Kim Baldwin Ariana Stephens Brys...</td>\n",
       "      <td>Jaco Booyens</td>\n",
       "    </tr>\n",
       "    <tr>\n",
       "      <th>4758</th>\n",
       "      <td>Family</td>\n",
       "      <td>Running Forever</td>\n",
       "      <td>[{\"name\": \"New Kingdom Pictures\", \"id\": 41671}]</td>\n",
       "      <td></td>\n",
       "      <td></td>\n",
       "    </tr>\n",
       "    <tr>\n",
       "      <th>4759</th>\n",
       "      <td>Documentary</td>\n",
       "      <td>To Be Frank, Sinatra at 100</td>\n",
       "      <td>[{\"name\": \"Eyeline Entertainment\", \"id\": 60343}]</td>\n",
       "      <td>Tony Oppedisano</td>\n",
       "      <td>Simon Napier-Bell</td>\n",
       "    </tr>\n",
       "  </tbody>\n",
       "</table>\n",
       "<p>4760 rows × 5 columns</p>\n",
       "</div>"
      ],
      "text/plain": [
       "                           Movie_Genre                  Movie_Title  \\\n",
       "0                         Crime Comedy                   Four Rooms   \n",
       "1     Adventure Action Science Fiction                    Star Wars   \n",
       "2                     Animation Family                 Finding Nemo   \n",
       "3                 Comedy Drama Romance                 Forrest Gump   \n",
       "4                                Drama              American Beauty   \n",
       "...                                ...                          ...   \n",
       "4755                            Horror             Midnight Cabaret   \n",
       "4756               Comedy Family Drama             Growing Up Smith   \n",
       "4757                    Thriller Drama                       8 Days   \n",
       "4758                            Family              Running Forever   \n",
       "4759                       Documentary  To Be Frank, Sinatra at 100   \n",
       "\n",
       "                                 Movie_Production_House  \\\n",
       "0     [{\"name\": \"Miramax Films\", \"id\": 14}, {\"name\":...   \n",
       "1     [{\"name\": \"Lucasfilm\", \"id\": 1}, {\"name\": \"Twe...   \n",
       "2        [{\"name\": \"Pixar Animation Studios\", \"id\": 3}]   \n",
       "3             [{\"name\": \"Paramount Pictures\", \"id\": 4}]   \n",
       "4     [{\"name\": \"DreamWorks SKG\", \"id\": 27}, {\"name\"...   \n",
       "...                                                 ...   \n",
       "4755                                                 []   \n",
       "4756                                                 []   \n",
       "4757     [{\"name\": \"After Eden Pictures\", \"id\": 85248}]   \n",
       "4758    [{\"name\": \"New Kingdom Pictures\", \"id\": 41671}]   \n",
       "4759   [{\"name\": \"Eyeline Entertainment\", \"id\": 60343}]   \n",
       "\n",
       "                                             Movie_Cast     Movie_Director  \n",
       "0     Tim Roth Antonio Banderas Jennifer Beals Madon...     Allison Anders  \n",
       "1     Mark Hamill Harrison Ford Carrie Fisher Peter ...       George Lucas  \n",
       "2     Albert Brooks Ellen DeGeneres Alexander Gould ...     Andrew Stanton  \n",
       "3     Tom Hanks Robin Wright Gary Sinise Mykelti Wil...    Robert Zemeckis  \n",
       "4     Kevin Spacey Annette Bening Thora Birch Wes Be...         Sam Mendes  \n",
       "...                                                 ...                ...  \n",
       "4755  Lisa Hart Carroll Michael Des Barres Paul Drak...         Pece Dingo  \n",
       "4756  Roni Akurati Brighton Sharbino Jason Lee Anjul...       Frank Lotito  \n",
       "4757  Nicole Smolen Kim Baldwin Ariana Stephens Brys...       Jaco Booyens  \n",
       "4758                                                                        \n",
       "4759                                    Tony Oppedisano  Simon Napier-Bell  \n",
       "\n",
       "[4760 rows x 5 columns]"
      ]
     },
     "execution_count": 11,
     "metadata": {},
     "output_type": "execute_result"
    }
   ],
   "source": [
    "df_features"
   ]
  },
  {
   "cell_type": "markdown",
   "id": "69df4e56",
   "metadata": {},
   "source": [
    "## Step3: define target (y) and features (x), where (y) is a dependant variable and (x) is an independent variable."
   ]
  },
  {
   "cell_type": "code",
   "execution_count": 12,
   "id": "a3a0f5ba",
   "metadata": {},
   "outputs": [],
   "source": [
    "x = df_features['Movie_Genre'] + ' ' + df_features['Movie_Title'] + ' ' + df_features['Movie_Production_House'] + ' ' + df_features['Movie_Cast'] + ' ' + df_features['Movie_Director']"
   ]
  },
  {
   "cell_type": "code",
   "execution_count": 13,
   "id": "e3f7654c",
   "metadata": {},
   "outputs": [
    {
     "data": {
      "text/plain": [
       "0       Crime Comedy Four Rooms [{\"name\": \"Miramax Fil...\n",
       "1       Adventure Action Science Fiction Star Wars [{\"...\n",
       "2       Animation Family Finding Nemo [{\"name\": \"Pixar...\n",
       "3       Comedy Drama Romance Forrest Gump [{\"name\": \"P...\n",
       "4       Drama American Beauty [{\"name\": \"DreamWorks SK...\n",
       "                              ...                        \n",
       "4755    Horror Midnight Cabaret [] Lisa Hart Carroll M...\n",
       "4756    Comedy Family Drama Growing Up Smith [] Roni A...\n",
       "4757    Thriller Drama 8 Days [{\"name\": \"After Eden Pi...\n",
       "4758    Family Running Forever [{\"name\": \"New Kingdom ...\n",
       "4759    Documentary To Be Frank, Sinatra at 100 [{\"nam...\n",
       "Length: 4760, dtype: object"
      ]
     },
     "execution_count": 13,
     "metadata": {},
     "output_type": "execute_result"
    }
   ],
   "source": [
    "x"
   ]
  },
  {
   "cell_type": "markdown",
   "id": "a6fa71d4",
   "metadata": {},
   "source": [
    "## Get Feature Text Conversion to Tokens"
   ]
  },
  {
   "cell_type": "markdown",
   "id": "4bb9e6a1",
   "metadata": {},
   "source": [
    "## Step5: select a model"
   ]
  },
  {
   "cell_type": "code",
   "execution_count": 14,
   "id": "e42a3f85",
   "metadata": {},
   "outputs": [],
   "source": [
    "from sklearn.feature_extraction.text import TfidfVectorizer"
   ]
  },
  {
   "cell_type": "code",
   "execution_count": 15,
   "id": "61f745e9",
   "metadata": {},
   "outputs": [],
   "source": [
    "tfidf = TfidfVectorizer()"
   ]
  },
  {
   "cell_type": "markdown",
   "id": "57c407c7",
   "metadata": {},
   "source": [
    "## Step6: train the model (fit the model)"
   ]
  },
  {
   "cell_type": "code",
   "execution_count": 16,
   "id": "9417a3e2",
   "metadata": {},
   "outputs": [],
   "source": [
    "x = tfidf.fit_transform(x)"
   ]
  },
  {
   "cell_type": "code",
   "execution_count": 17,
   "id": "587bd802",
   "metadata": {},
   "outputs": [
    {
     "data": {
      "text/plain": [
       "(4760, 23097)"
      ]
     },
     "execution_count": 17,
     "metadata": {},
     "output_type": "execute_result"
    }
   ],
   "source": [
    "x.shape"
   ]
  },
  {
   "cell_type": "code",
   "execution_count": 18,
   "id": "32d5aa08",
   "metadata": {},
   "outputs": [
    {
     "name": "stdout",
     "output_type": "stream",
     "text": [
      "  (0, 5628)\t0.25914808200873757\n",
      "  (0, 5471)\t0.22418997114414788\n",
      "  (0, 21082)\t0.23251632748205375\n",
      "  (0, 15166)\t0.22570685465331933\n",
      "  (0, 14922)\t0.26334603226949976\n",
      "  (0, 6481)\t0.26810527574937926\n",
      "  (0, 13168)\t0.1552618906436257\n",
      "  (0, 6285)\t0.21999202088338565\n",
      "  (0, 5748)\t0.21283983981038057\n",
      "  (0, 18704)\t0.21393658427620538\n",
      "  (0, 20997)\t0.1659472995623158\n",
      "  (0, 3787)\t0.26810527574937926\n",
      "  (0, 5768)\t0.25914808200873757\n",
      "  (0, 6282)\t0.26334603226949976\n",
      "  (0, 806)\t0.1751537347578006\n",
      "  (0, 12698)\t0.07632278934972617\n",
      "  (0, 10646)\t0.077093194674185\n",
      "  (0, 15845)\t0.1715866218997742\n",
      "  (0, 16307)\t0.076290658285133\n",
      "  (0, 18667)\t0.3127554802627942\n",
      "  (0, 10875)\t0.21283983981038057\n",
      "  (0, 8398)\t0.07192906644759677\n",
      "  (0, 8709)\t0.1041237193480267\n",
      "  (1, 14761)\t0.21262472860182458\n",
      "  (1, 11289)\t0.16894153185043742\n",
      "  :\t:\n",
      "  (4758, 18802)\t0.4549052317764399\n",
      "  (4758, 10841)\t0.4642273704936807\n",
      "  (4758, 13783)\t0.4275717939584319\n",
      "  (4758, 16458)\t0.23447213413517717\n",
      "  (4758, 17445)\t0.10968627277313324\n",
      "  (4758, 10396)\t0.19427112121752613\n",
      "  (4758, 12698)\t0.06475000553778167\n",
      "  (4758, 16307)\t0.06472274648936287\n",
      "  (4759, 16883)\t0.33794702806265975\n",
      "  (4759, 3832)\t0.33794702806265975\n",
      "  (4759, 10329)\t0.33794702806265975\n",
      "  (4759, 19699)\t0.32233167759758174\n",
      "  (4759, 16320)\t0.3112524101241987\n",
      "  (4759, 6475)\t0.2578631742472765\n",
      "  (4759, 9468)\t0.1832673103338867\n",
      "  (4759, 6024)\t0.2455988227189051\n",
      "  (4759, 19688)\t0.19735217359538026\n",
      "  (4759, 3)\t0.3026586626275239\n",
      "  (4759, 10914)\t0.1954017723869644\n",
      "  (4759, 21043)\t0.18292190718529058\n",
      "  (4759, 21105)\t0.19588019087367955\n",
      "  (4759, 6579)\t0.21031045728376924\n",
      "  (4759, 10110)\t0.08949485838611003\n",
      "  (4759, 12698)\t0.04123518445227505\n",
      "  (4759, 16307)\t0.041217824887898075\n"
     ]
    }
   ],
   "source": [
    "print(x)"
   ]
  },
  {
   "cell_type": "markdown",
   "id": "44c6f363",
   "metadata": {},
   "source": [
    "# Get Similarity Score using Cosine Similarity"
   ]
  },
  {
   "cell_type": "markdown",
   "id": "c7a8e99f",
   "metadata": {},
   "source": [
    "    sklearn.metrics.pairwise.cosine_similarity(X, Y=None, dense_output=True)\n",
    "\n",
    "Computes cosine similarity between samples in X and Y.\n"
   ]
  },
  {
   "cell_type": "markdown",
   "id": "9363089b",
   "metadata": {},
   "source": [
    "    Cosine similarity is a measure of similarity between two non-zero vectors of an inner product space based on the cosine of the angle between them, resulting in a value between -1 and 1. The value -1 means that the vectors are opposite, 0 represents orthogonal vectors, and value 1 signifies similar vectors."
   ]
  },
  {
   "cell_type": "markdown",
   "id": "e6fc56af",
   "metadata": {},
   "source": [
    "Cosine similarity, or the cosine kernel, computes similarity as the normalized dot product of X and Y:\n",
    "\n",
    "K(X, Y) = <X, Y> / (||X||*||Y||)\n",
    "\n",
    "On L2-normalized data, this function is equivalent to linear_kernel."
   ]
  },
  {
   "cell_type": "code",
   "execution_count": 19,
   "id": "49191219",
   "metadata": {},
   "outputs": [],
   "source": [
    "from sklearn.metrics.pairwise import cosine_similarity"
   ]
  },
  {
   "cell_type": "code",
   "execution_count": 20,
   "id": "ec19521c",
   "metadata": {},
   "outputs": [],
   "source": [
    "Similarity_Score = cosine_similarity(x)"
   ]
  },
  {
   "cell_type": "code",
   "execution_count": 21,
   "id": "bdad3953",
   "metadata": {},
   "outputs": [
    {
     "data": {
      "text/plain": [
       "array([[1.        , 0.01227099, 0.00587817, ..., 0.00575614, 0.00987964,\n",
       "        0.00629172],\n",
       "       [0.01227099, 1.        , 0.00619393, ..., 0.00606534, 0.01041034,\n",
       "        0.00662969],\n",
       "       [0.00587817, 0.00619393, 1.        , ..., 0.00290548, 0.02744209,\n",
       "        0.00317582],\n",
       "       ...,\n",
       "       [0.00575614, 0.00606534, 0.00290548, ..., 1.        , 0.01189297,\n",
       "        0.00310989],\n",
       "       [0.00987964, 0.01041034, 0.02744209, ..., 0.01189297, 1.        ,\n",
       "        0.00533771],\n",
       "       [0.00629172, 0.00662969, 0.00317582, ..., 0.00310989, 0.00533771,\n",
       "        1.        ]])"
      ]
     },
     "execution_count": 21,
     "metadata": {},
     "output_type": "execute_result"
    }
   ],
   "source": [
    "Similarity_Score"
   ]
  },
  {
   "cell_type": "code",
   "execution_count": 22,
   "id": "f5163350",
   "metadata": {},
   "outputs": [
    {
     "data": {
      "text/plain": [
       "(4760, 4760)"
      ]
     },
     "execution_count": 22,
     "metadata": {},
     "output_type": "execute_result"
    }
   ],
   "source": [
    "Similarity_Score.shape"
   ]
  },
  {
   "cell_type": "markdown",
   "id": "0f03edc0",
   "metadata": {},
   "source": [
    "# Get Movie Name as an Input from the User and Validate for Closest Spelling"
   ]
  },
  {
   "cell_type": "code",
   "execution_count": 23,
   "id": "7b426e37",
   "metadata": {},
   "outputs": [
    {
     "name": "stdout",
     "output_type": "stream",
     "text": [
      "Enter Your Favourite Movie Name: Spider Man\n"
     ]
    }
   ],
   "source": [
    "Favourite_Movie_Name = input(\"Enter Your Favourite Movie Name: \")"
   ]
  },
  {
   "cell_type": "markdown",
   "id": "b6072ed2",
   "metadata": {},
   "source": [
    "    Pandas tolist() is used to convert a series to a list. Initially the series is of type pandas.core.series.Series and applying tolist() method, it is converted into a list data type.\n",
    "    \n",
    "    Syntax: Series.tolist()\n",
    "\n",
    "    Return type: Converted series into List"
   ]
  },
  {
   "cell_type": "code",
   "execution_count": 24,
   "id": "c1f5e0c6",
   "metadata": {},
   "outputs": [],
   "source": [
    "All_Movies_Title_List = df['Movie_Title'].tolist()"
   ]
  },
  {
   "cell_type": "code",
   "execution_count": 25,
   "id": "14069647",
   "metadata": {},
   "outputs": [],
   "source": [
    "import difflib"
   ]
  },
  {
   "cell_type": "code",
   "execution_count": 26,
   "id": "74bf2773",
   "metadata": {},
   "outputs": [],
   "source": [
    "Movie_Recommendation = difflib.get_close_matches(Favourite_Movie_Name, All_Movies_Title_List)"
   ]
  },
  {
   "cell_type": "code",
   "execution_count": 27,
   "id": "5086dfe5",
   "metadata": {},
   "outputs": [
    {
     "name": "stdout",
     "output_type": "stream",
     "text": [
      "['Spider-Man', 'Spider-Man 3', 'Spider-Man 2']\n"
     ]
    }
   ],
   "source": [
    "print(Movie_Recommendation)"
   ]
  },
  {
   "cell_type": "code",
   "execution_count": 28,
   "id": "73ee1287",
   "metadata": {},
   "outputs": [],
   "source": [
    "Close_Match = Movie_Recommendation[0]"
   ]
  },
  {
   "cell_type": "code",
   "execution_count": 29,
   "id": "a982c790",
   "metadata": {},
   "outputs": [
    {
     "name": "stdout",
     "output_type": "stream",
     "text": [
      "Spider-Man\n"
     ]
    }
   ],
   "source": [
    "print(Close_Match)"
   ]
  },
  {
   "cell_type": "code",
   "execution_count": 30,
   "id": "74b3b247",
   "metadata": {},
   "outputs": [],
   "source": [
    "Index_of_Close_Match_Movie = df[df.Movie_Title == Close_Match]['Movie_ID'].values[0]"
   ]
  },
  {
   "cell_type": "code",
   "execution_count": 31,
   "id": "a5c9ecde",
   "metadata": {},
   "outputs": [
    {
     "name": "stdout",
     "output_type": "stream",
     "text": [
      "231\n"
     ]
    }
   ],
   "source": [
    "print(Index_of_Close_Match_Movie)"
   ]
  },
  {
   "cell_type": "markdown",
   "id": "d9891039",
   "metadata": {},
   "source": [
    "## Getting a List of Similar Movies"
   ]
  },
  {
   "cell_type": "code",
   "execution_count": 32,
   "id": "943fc470",
   "metadata": {},
   "outputs": [],
   "source": [
    "Recommendation_Score = list(enumerate(Similarity_Score[Index_of_Close_Match_Movie]))"
   ]
  },
  {
   "cell_type": "code",
   "execution_count": 33,
   "id": "2044e70c",
   "metadata": {},
   "outputs": [
    {
     "name": "stdout",
     "output_type": "stream",
     "text": [
      "[(0, 0.01683024951485814), (1, 0.03533495149554576), (2, 0.008495267523936367), (3, 0.014160977456037518), (4, 0.040690854827033524), (5, 0.07510406425171948), (6, 0.07266327909496363), (7, 0.05078591025804455), (8, 0.01949849226219765), (9, 0.04542365097264234), (10, 0.02735933835168792), (11, 0.059654850425758646), (12, 0.04051567635036635), (13, 0.05128683774226192), (14, 0.01578556847469876), (15, 0.10570506725030018), (16, 0.012115080829457177), (17, 0.07763523053466856), (18, 0.023589057785649455), (19, 0.025669806966709462), (20, 0.02221448660880799), (21, 0.1102933374507866), (22, 0.01278039734670651), (23, 0.05458539950968819), (24, 0.043821557318968855), (25, 0.04465144511686822), (26, 0.025864048345307145), (27, 0.04776060481797264), (28, 0.028029880210408867), (29, 0.007965215354538487), (30, 0.03251298726019963), (31, 0.03658938299847156), (32, 0.025840356982869215), (33, 0.022539046568324568), (34, 0.012203080500079497), (35, 0.03896042422877349), (36, 0.035030790374336), (37, 0.03754285082767864), (38, 0.032135857457971206), (39, 0.04881978145745072), (40, 0.03634450789259429), (41, 0.08911629401550683), (42, 0.02947960163386281), (43, 0.045557566123294854), (44, 0.01827505362915159), (45, 0.04566177619608398), (46, 0.05889087322461907), (47, 0.04459090067377283), (48, 0.021905645678229106), (49, 0.020669300346435625), (50, 0.02779071122725959), (51, 0.009421688765292355), (52, 0.014368139271753858), (53, 0.06584728552577941), (54, 0.044871442083233064), (55, 0.04619174360166305), (56, 0.0437246532369658), (57, 0.03886417030990938), (58, 0.026417356319441847), (59, 0.06068150916155843), (60, 0.04621617930145841), (61, 0.03932254798663456), (62, 0.028540648724364202), (63, 0.05895706259436452), (64, 0.03332699765983008), (65, 0.04002610951368285), (66, 0.008366812408565386), (67, 0.044794393402321525), (68, 0.04492404242552864), (69, 0.038380524787992296), (70, 0.04794796428518675), (71, 0.025036278406316628), (72, 0.0425133777385507), (73, 0.05676646544037221), (74, 0.03276144882090752), (75, 0.033396174113253234), (76, 0.04329844825718931), (77, 0.0428383343380083), (78, 0.04195595842072099), (79, 0.036008530261292325), (80, 0.043376549432906406), (81, 0.04779133781505632), (82, 0.014083798912324585), (83, 0.06088715745275734), (84, 0.05058207482973806), (85, 0.11764505593525151), (86, 0.009737536722650156), (87, 0.03951792925514801), (88, 0.031124998893619065), (89, 0.039539746538132234), (90, 0.031220790765784857), (91, 0.044278763480366704), (92, 0.027031851630899884), (93, 0.031827675634222424), (94, 0.027949412471867635), (95, 0.030668363293387686), (96, 0.014161954876098502), (97, 0.04741296132923148), (98, 0.019814277851899584), (99, 0.02462095645595063), (100, 0.039461672397172805), (101, 0.036888513896913756), (102, 0.052923562998738884), (103, 0.006736362075282304), (104, 0.06287679262602976), (105, 0.03800130451055551), (106, 0.017008863674181092), (107, 0.03974975699752979), (108, 0.04071049891022032), (109, 0.0425966998797987), (110, 0.01977164224460067), (111, 0.0200578363652288), (112, 0.012225519989649436), (113, 0.019619597332351895), (114, 0.014328351935781827), (115, 0.00828635508059821), (116, 0.03179093945713897), (117, 0.035770532282622836), (118, 0.08581287045501644), (119, 0.05168326617766366), (120, 0.02671577513687468), (121, 0.014891503554603551), (122, 0.0437584050509668), (123, 0.0514599738950963), (124, 0.017498891011618556), (125, 0.050454678710854385), (126, 0.008903358246696759), (127, 0.00836145934471964), (128, 0.06080857267181383), (129, 0.015410394361082599), (130, 0.05234233422754667), (131, 0.02183107069893016), (132, 0.008447153714756482), (133, 0.0), (134, 0.006954892605426305), (135, 0.059686500806188536), (136, 0.03442491385940456), (137, 0.03908897348984681), (138, 0.03663691423939873), (139, 0.030515029208625942), (140, 0.022839736730336714), (141, 0.04870575953317913), (142, 0.030182131770378234), (143, 0.04613443692669169), (144, 0.043276033188674616), (145, 0.028045382333318245), (146, 0.008330315314998948), (147, 0.039915411617778264), (148, 0.01597249406017015), (149, 0.026026042482884017), (150, 0.10325519853772971), (151, 0.03852708344055694), (152, 0.05975841980182708), (153, 0.04459321861839802), (154, 0.023189817983184237), (155, 0.022491313414414637), (156, 0.01923747039603742), (157, 0.006595448990657647), (158, 0.028410794740637478), (159, 0.012786197719906722), (160, 0.02959770619313261), (161, 0.03668690673132114), (162, 0.040855744607200595), (163, 0.017993230281081282), (164, 0.042907786393013216), (165, 0.039944588751395976), (166, 0.05804692576467601), (167, 0.02186972102108819), (168, 0.02389275504025439), (169, 0.11340247011966655), (170, 0.02601075840983213), (171, 0.07531491010021041), (172, 0.051639414526363885), (173, 0.007846418925493315), (174, 0.0405269647572505), (175, 0.01454543331849635), (176, 0.05083711901306183), (177, 0.024406604505348067), (178, 0.020688585118738965), (179, 0.032976835022732603), (180, 0.039329774434542594), (181, 0.03967215247133196), (182, 0.03250237000441394), (183, 0.06071942843581824), (184, 0.02147635085200012), (185, 0.03023534840289679), (186, 0.021018316617835982), (187, 0.035195875974719334), (188, 0.027181982191741314), (189, 0.05126455397325118), (190, 0.021764360490342166), (191, 0.06760359350076334), (192, 0.021018809156737667), (193, 0.06503152781292978), (194, 0.016083791522010497), (195, 0.029464662798978476), (196, 0.008766265305973882), (197, 0.015010872190534593), (198, 0.022622590256420636), (199, 0.032160382514258797), (200, 0.031120665791415945), (201, 0.047033617850661895), (202, 0.018884704146621745), (203, 0.025970321320831564), (204, 0.04014820565837498), (205, 0.01618975001172142), (206, 0.05882432599390494), (207, 0.026571957017142444), (208, 0.058333158832692314), (209, 0.00876737052833845), (210, 0.014560393950777375), (211, 0.06817544080721658), (212, 0.0322032439502461), (213, 0.0328052094676316), (214, 0.02761682266421778), (215, 0.015173504910863878), (216, 0.04214133489989273), (217, 0.03862994874264935), (218, 0.15129155945344613), (219, 0.022854030701847813), (220, 0.07302878647258726), (221, 0.01267074141468481), (222, 0.08533308987873654), (223, 0.039684075159883356), (224, 0.022394435061043123), (225, 0.009253577676568961), (226, 0.016014202048013043), (227, 0.06983828300186745), (228, 0.021631281704997556), (229, 0.05950403171455861), (230, 0.6747972702234764), (231, 1.0), (232, 0.7846681912559241), (233, 0.033943533514892266), (234, 0.07191494293086839), (235, 0.06055934027097568), (236, 0.06151126322953347), (237, 0.042662820497123694), (238, 0.0486955729080425), (239, 0.038185591816652764), (240, 0.013397164641067154), (241, 0.023329183314140158), (242, 0.02614120140823336), (243, 0.022080511686261198), (244, 0.0435284453021065), (245, 0.04064234203816112), (246, 0.03402470806592371), (247, 0.06806859627611347), (248, 0.027680579455082725), (249, 0.036327593806489554), (250, 0.051045166524351794), (251, 0.024103373571096223), (252, 0.02278207479337033), (253, 0.02948722504499719), (254, 0.028960946727382947), (255, 0.04552111887870446), (256, 0.03734983708376638), (257, 0.04603273065774861), (258, 0.0338205885552314), (259, 0.04152814675235687), (260, 0.050716396815404664), (261, 0.05148313358849817), (262, 0.019871187811273745), (263, 0.057047637637007306), (264, 0.07838825967856503), (265, 0.015317286179130966), (266, 0.05488343023451131), (267, 0.032536567828917715), (268, 0.019761582530348553), (269, 0.04090768667768313), (270, 0.04035297205164441), (271, 0.03684449337633431), (272, 0.018232359780296095), (273, 0.052098094556548596), (274, 0.0328021548511903), (275, 0.11758012140483488), (276, 0.025066940730542085), (277, 0.0299492837466278), (278, 0.0825133828612073), (279, 0.016151271226473203), (280, 0.0294021148708586), (281, 0.0085868514886129), (282, 0.02852236021565826), (283, 0.06613481653943337), (284, 0.039009287125374215), (285, 0.03164337201710367), (286, 0.05927005935956341), (287, 0.039277312765074235), (288, 0.039201002174291406), (289, 0.04006953808779339), (290, 0.03365442422511388), (291, 0.018814867740940308), (292, 0.05385387473015553), (293, 0.02160501871274863), (294, 0.026124065677245043), (295, 0.03750848684451982), (296, 0.017350126704691438), (297, 0.07933965585306849), (298, 0.07673771560893046), (299, 0.045960232495689604), (300, 0.04669136658623245), (301, 0.03945431590320377), (302, 0.021441410902355715), (303, 0.062289252884924415), (304, 0.023952623371205246), (305, 0.043121290824199854), (306, 0.06762924814494584), (307, 0.03177555048848092), (308, 0.05090987077037523), (309, 0.026559879046074278), (310, 0.04053474893926834), (311, 0.013447208687786686), (312, 0.042461133559659775), (313, 0.023352288715214577), (314, 0.036193157937664935), (315, 0.03664424393769826), (316, 0.03070079756085504), (317, 0.014626173758641574), (318, 0.009289960260392721), (319, 0.024880077927838428), (320, 0.034589617014943556), (321, 0.03583261251419942), (322, 0.030777521668984904), (323, 0.040463059218842454), (324, 0.04722533133444587), (325, 0.03358609030943157), (326, 0.048667581728801625), (327, 0.030692862943408367), (328, 0.02294288765254642), (329, 0.036678276718604304), (330, 0.05356833645968734), (331, 0.05735710720140051), (332, 0.07397348701290268), (333, 0.05622045141763912), (334, 0.03712546912706763), (335, 0.01266345212685799), (336, 0.039580947444409), (337, 0.1007272477942491), (338, 0.11018117555967953), (339, 0.1173578196114836), (340, 0.03914907653118663), (341, 0.016078450974024418), (342, 0.009342963960420541), (343, 0.018906102138451012), (344, 0.01720679600330311), (345, 0.024776713169975845), (346, 0.030721826414377006), (347, 0.03860150843343624), (348, 0.04956796926202354), (349, 0.04972216133235648), (350, 0.07206675628830503), (351, 0.015892650353759193), (352, 0.029490586346103888), (353, 0.028675019289371134), (354, 0.02195812646273758), (355, 0.08738479230258996), (356, 0.044421922592226146), (357, 0.01783615506602107), (358, 0.04121548654435242), (359, 0.10315204650895377), (360, 0.026423434219793353), (361, 0.04356001357967055), (362, 0.04331175135450721), (363, 0.040835226731005196), (364, 0.030447827002505656), (365, 0.03954384779689596), (366, 0.012873513359660138), (367, 0.04735524415388316), (368, 0.023982823583024178), (369, 0.03406453161258821), (370, 0.029086700113798908), (371, 0.03965218475455676), (372, 0.014451258952859621), (373, 0.016273918350895082), (374, 0.051456963207407475), (375, 0.036333359362863804), (376, 0.03971916671819967), (377, 0.029551493791983706), (378, 0.03977174117250119), (379, 0.024626284048590193), (380, 0.021590486686126432), (381, 0.04266951283759962), (382, 0.060392848078905936), (383, 0.014859836919455159), (384, 0.06845997327610599), (385, 0.03236077527792812), (386, 0.03550014924294718), (387, 0.044957645768951934), (388, 0.028005530294786703), (389, 0.021615833417338283), (390, 0.04221421631489075), (391, 0.009137968958297599), (392, 0.009165884245850691), (393, 0.008108995323642617), (394, 0.064309735571564), (395, 0.016615225269926495), (396, 0.024499510024410115), (397, 0.03908452689817214), (398, 0.0081003087932738), (399, 0.021899416844115515), (400, 0.06083305309045709), (401, 0.051370116164535365), (402, 0.015318269332541854), (403, 0.007255587342683067), (404, 0.044844444137135106), (405, 0.02006338901434421), (406, 0.007691714885323558), (407, 0.008144043490545778), (408, 0.015309538059439212), (409, 0.031614837324088395), (410, 0.0736422632942759), (411, 0.04529479633829074), (412, 0.01959237665964706), (413, 0.046787726081328807), (414, 0.030724597012037287), (415, 0.03037609209717203), (416, 0.029199753643625464), (417, 0.04006647689852044), (418, 0.041024719831565845), (419, 0.02188836356307235), (420, 0.024695512307490897), (421, 0.023693733099511047), (422, 0.021214528736155206), (423, 0.021582024358092415), (424, 0.042312929138039995), (425, 0.04781149007738974), (426, 0.0528474291934863), (427, 0.014668390626063836), (428, 0.03476773910614645), (429, 0.041286261378858255), (430, 0.028032091863110054), (431, 0.009083693411047627), (432, 0.015044482428703277), (433, 0.06305236756710512), (434, 0.04369563669430484), (435, 0.03464636752466549), (436, 0.040102790699314814), (437, 0.01080625758890275), (438, 0.03867962032486249), (439, 0.020782776763853244), (440, 0.03378994760274618), (441, 0.05728729923720266), (442, 0.0500206402287474), (443, 0.03053270347291979), (444, 0.035558038974563264), (445, 0.024711773341324114), (446, 0.06698611659999092), (447, 0.055739545581414765), (448, 0.0732282306870778), (449, 0.055026501182932806), (450, 0.040910406218395604), (451, 0.18415720310758146), (452, 0.04277523135796299), (453, 0.022769242448556385), (454, 0.020442323007131363), (455, 0.046725441656343805), (456, 0.0330721002643033), (457, 0.03209556591411684), (458, 0.0629584754322271), (459, 0.01923858778562504), (460, 0.02908649422670509), (461, 0.03884018156635726), (462, 0.018637763626899895), (463, 0.027793797406294167), (464, 0.10726390131616953), (465, 0.015462112588053398), (466, 0.00880602435771104), (467, 0.030014386817328837), (468, 0.03760474434282271), (469, 0.037032552267443605), (470, 0.057481535642172545), (471, 0.025241217799078328), (472, 0.0906052031134434), (473, 0.006697325814622888), (474, 0.022560124432458292), (475, 0.019346501416968746), (476, 0.060515234387844584), (477, 0.04868536516773045), (478, 0.06932041672512865), (479, 0.007963964516314582), (480, 0.02792751798870151), (481, 0.035108905282333125), (482, 0.030255132630325338), (483, 0.046091860426727305), (484, 0.048467323999179926), (485, 0.020100999903395835), (486, 0.03455511455954895), (487, 0.07093560981944158), (488, 0.01221852500724341), (489, 0.027900981658721766), (490, 0.12601244664049308), (491, 0.07738894200893759), (492, 0.051189124664084186), (493, 0.05486811406002562), (494, 0.03890923776285031), (495, 0.024950076808405504), (496, 0.06172489842531591), (497, 0.02587607189248894), (498, 0.042971720644668546), (499, 0.058142769244190616), (500, 0.05346819316539332), (501, 0.03151222269775533), (502, 0.04046944536649945), (503, 0.015551446950059911), (504, 0.04358443209357181), (505, 0.025024954804445155), (506, 0.00846647271447078), (507, 0.037385764408446646), (508, 0.025769838389772207), (509, 0.03989468008052318), (510, 0.007298655243955822), (511, 0.03324033004583826), (512, 0.06591383452808633), (513, 0.027600884997251787), (514, 0.07216937834816685), (515, 0.028957253797013586), (516, 0.03831175380476722), (517, 0.0245072830199215), (518, 0.009054889497962541), (519, 0.04093362696988294), (520, 0.058585333916369386), (521, 0.0497699544080424), (522, 0.046619457115534765), (523, 0.04843250356648396), (524, 0.012010374302488025), (525, 0.10272835869539716), (526, 0.04223946387115423), (527, 0.022966316907734617), (528, 0.05723314492661343), (529, 0.03750034348756514), (530, 0.04517612110305689), (531, 0.04349085695670947), (532, 0.04616348506041203), (533, 0.024329825831834462), (534, 0.04981129777351309), (535, 0.020770352738199778), (536, 0.019426309933336914), (537, 0.04771756570735497), (538, 0.061783693441021206), (539, 0.02801732667818283), (540, 0.03511728817058421), (541, 0.0663833436502082), (542, 0.04132454272073254), (543, 0.04836395161957886), (544, 0.02191350710441432), (545, 0.030982827137583723), (546, 0.04101514676218451), (547, 0.020067164911690825), (548, 0.049261825000475705), (549, 0.03307768975499478), (550, 0.0823278578434517), (551, 0.037450702815228346), (552, 0.03726819431721053), (553, 0.04214111311905705), (554, 0.02646825280739973), (555, 0.02525474401018233), (556, 0.033958176125086434), (557, 0.02208510181674441), (558, 0.023705666448703665), (559, 0.007206780368523298), (560, 0.04540836447436643), (561, 0.020084046996209005), (562, 0.04723738533063035), (563, 0.06970706960507428), (564, 0.0202574508258962), (565, 0.08052759605784751), (566, 0.02491033504466648), (567, 0.10408637214874432), (568, 0.0546842889004232), (569, 0.06011714922823749), (570, 0.060789138640003945), (571, 0.023020222344952136), (572, 0.06390817473035791), (573, 0.023794274228479937), (574, 0.015665243624692737), (575, 0.024957134385462473), (576, 0.026761291310631707), (577, 0.015431800817053098), (578, 0.04245282106046626), (579, 0.021771419414688485), (580, 0.08031401164599264), (581, 0.013512671565292182), (582, 0.025392037866732515), (583, 0.05047176927338967), (584, 0.03946529654580137), (585, 0.02098439466405891), (586, 0.04769458114834038), (587, 0.04946666100754777), (588, 0.04232228782122137), (589, 0.03778584900136627), (590, 0.031831387870224624), (591, 0.06821324366601347), (592, 0.05023043349855601), (593, 0.00808758204207844), (594, 0.11084049164313249), (595, 0.023908105568425236), (596, 0.0234246006216286), (597, 0.044812157522641456), (598, 0.10927551878456407), (599, 0.0322763254752894), (600, 0.03394512437190405), (601, 0.025078086958513005), (602, 0.02420369756349043), (603, 0.024438487486982737), (604, 0.029677038171882244), (605, 0.00866282754436636), (606, 0.030946498314666893), (607, 0.04754927983943442), (608, 0.01728289035851813), (609, 0.01510598931856997), (610, 0.043109291228138495), (611, 0.04235783525016995), (612, 0.01659694247822322), (613, 0.05046578121927786), (614, 0.18251866788805018), (615, 0.37564336245814284), (616, 0.00787227967255335), (617, 0.05391181122717691), (618, 0.03371812514496217), (619, 0.04348001234510977), (620, 0.04122633534720601), (621, 0.03390194909727091), (622, 0.03660328479607086), (623, 0.048938347346663066), (624, 0.06625283829059422), (625, 0.0430068788855809), (626, 0.040473018399204745), (627, 0.03874863313531174), (628, 0.009625571155109463), (629, 0.03524084448784591), (630, 0.06958923405969836), (631, 0.055081571896022356), (632, 0.04206097946306305), (633, 0.04045677532948955), (634, 0.043884247474999305), (635, 0.15264365992212325), (636, 0.049319931638639444), (637, 0.022704076101170374), (638, 0.028711394072794594), (639, 0.06836752942514801), (640, 0.0655352543271041), (641, 0.04019618719139631), (642, 0.01609214050870919), (643, 0.0657292421528561), (644, 0.019551867600163177), (645, 0.04852292449558407), (646, 0.049960988820428584), (647, 0.03667455918846568), (648, 0.05128764308591847), (649, 0.0542310709646969), (650, 0.03878302830781767), (651, 0.05358635332851221), (652, 0.05433265749170722), (653, 0.07581322920399491), (654, 0.10154439383891964), (655, 0.031161741046582273), (656, 0.06094456655292302), (657, 0.02963518489115124), (658, 0.04016722206751927), (659, 0.02021362335441995), (660, 0.008798931237117101), (661, 0.04707901656263323), (662, 0.03430028101196201), (663, 0.03742428313354349), (664, 0.043687839806239706), (665, 0.00919093228811636), (666, 0.15134976117325508), (667, 0.045468796082713016), (668, 0.02811243851191675), (669, 0.02650049392216152), (670, 0.03526825855943335), (671, 0.03823975077883386), (672, 0.03984246867820975), (673, 0.029464903759423094), (674, 0.07865793730742876), (675, 0.026588124276979985), (676, 0.06375697568758056), (677, 0.032358242209015044), (678, 0.05342038223889119), (679, 0.016844032028973006), (680, 0.03483204657455595), (681, 0.07243840150243043), (682, 0.04139575090085461), (683, 0.04928903005464543), (684, 0.0243556590110409), (685, 0.02177196252699993), (686, 0.044095756177824616), (687, 0.02883597370345893), (688, 0.034760165534565485), (689, 0.008755026882632173), (690, 0.022721953888375203), (691, 0.03358808612158202), (692, 0.07139210299331013), (693, 0.0), (694, 0.05072057323248482), (695, 0.04778003075881588), (696, 0.031642656028455104), (697, 0.022589620681038085), (698, 0.01939656809428801), (699, 0.075909568906108), (700, 0.06622975349466527), (701, 0.04489931175101076), (702, 0.11662714788365465), (703, 0.03724507867011894), (704, 0.02816121927863114), (705, 0.035318862788306336), (706, 0.05666225531097812), (707, 0.048034101056561994), (708, 0.02300068645450329), (709, 0.0324263747061528), (710, 0.028186032064149852), (711, 0.022585529929486432), (712, 0.03598125812492834), (713, 0.036912612869961066), (714, 0.050056999545151144), (715, 0.050365290978590806), (716, 0.0392036297296736), (717, 0.05821582815310923), (718, 0.008020484407680207), (719, 0.06603889825062971), (720, 0.06409267140894655), (721, 0.011745255925764333), (722, 0.020492028405053653), (723, 0.051090681547698275), (724, 0.0531821220998851), (725, 0.06535787206705546), (726, 0.034758484924702196), (727, 0.04662798380161924), (728, 0.04043096333677915), (729, 0.038467582805328505), (730, 0.05354965114194751), (731, 0.04736346517358335), (732, 0.03686875420159072), (733, 0.008118486212396556), (734, 0.018746107040575895), (735, 0.03388188496454758), (736, 0.03089280772566455), (737, 0.021707470855608313), (738, 0.04882682605994887), (739, 0.04664101574963601), (740, 0.008550522652237068), (741, 0.03258256115716121), (742, 0.03535555359033018), (743, 0.014160006924823018), (744, 0.03684407519990583), (745, 0.04299657834286004), (746, 0.017538266718655698), (747, 0.016247852464525248), (748, 0.016048662541101495), (749, 0.01691991020880861), (750, 0.030449270531779468), (751, 0.11589872950594599), (752, 0.07924897232328829), (753, 0.043489323700957344), (754, 0.0257157336355445), (755, 0.016194306442731045), (756, 0.08041704971861215), (757, 0.04064289501889474), (758, 0.03245038948434323), (759, 0.015129727503585998), (760, 0.019794408722382223), (761, 0.006801432586274877), (762, 0.014749791483946988), (763, 0.024986604720653446), (764, 0.008903509317856904), (765, 0.16665586139395117), (766, 0.04765951274319449), (767, 0.012977386350561762), (768, 0.03117165144892698), (769, 0.01571905881266992), (770, 0.04632272668198311), (771, 0.014800780079008966), (772, 0.05396347183899078), (773, 0.04710753895159393), (774, 0.05112622748360144), (775, 0.016451470891001622), (776, 0.0), (777, 0.021555414776400477), (778, 0.030640130789406417), (779, 0.03711552872696773), (780, 0.020940453014046657), (781, 0.03689159084790784), (782, 0.0365808184865776), (783, 0.007450104706499551), (784, 0.008527827127843864), (785, 0.02824419594106962), (786, 0.011820281737573688), (787, 0.01673233459108854), (788, 0.04841560532982958), (789, 0.025987390197207205), (790, 0.028511108647678734), (791, 0.030552966300422202), (792, 0.02654339478534997), (793, 0.04660872736618026), (794, 0.014584858604936676), (795, 0.07527445474978287), (796, 0.020951705959751432), (797, 0.027921127871116426), (798, 0.056102270446359265), (799, 0.03540016073245679), (800, 0.028214626962874), (801, 0.028927958548728098), (802, 0.032698066884795984), (803, 0.05542258685066791), (804, 0.03374155797250833), (805, 0.062231374452442624), (806, 0.030990432770627005), (807, 0.06336376919810374), (808, 0.02418548065378169), (809, 0.03283428541291589), (810, 0.03582198324736045), (811, 0.0347681712558692), (812, 0.03725511611662404), (813, 0.029780733564490906), (814, 0.04086234552459661), (815, 0.034076021062299094), (816, 0.03377187742653995), (817, 0.04346252665974812), (818, 0.05778755813252291), (819, 0.04846677139676608), (820, 0.03667408115938166), (821, 0.036167955284937645), (822, 0.033139505839548555), (823, 0.01975849027071882), (824, 0.03966144219086727), (825, 0.03186741567717882), (826, 0.04453580273139261), (827, 0.03857977634405238), (828, 0.008806615207478219), (829, 0.048667647013203315), (830, 0.07319667118738922), (831, 0.011240062909352758), (832, 0.05759444772046832), (833, 0.017401492421909612), (834, 0.033969718535254184), (835, 0.026114436625559956), (836, 0.030501346307240523), (837, 0.0406453555046026), (838, 0.006689840338037812), (839, 0.020400856032153886), (840, 0.009930732899111823), (841, 0.009141117675935655), (842, 0.05715523887335574), (843, 0.04833057918802735), (844, 0.04003781063403915), (845, 0.04384538212900657), (846, 0.030610034736799782), (847, 0.008969552188904394), (848, 0.0559433965024965), (849, 0.0668630368578287), (850, 0.14881132947507397), (851, 0.07228319241632551), (852, 0.03960237568200473), (853, 0.03187491392867688), (854, 0.07367084100194933), (855, 0.05036708068581038), (856, 0.07115634296026464), (857, 0.028253023666020026), (858, 0.023383391490072757), (859, 0.06564806535399599), (860, 0.02013360732790287), (861, 0.028271439625199703), (862, 0.027208853968807956), (863, 0.027758433516761383), (864, 0.05182877313685295), (865, 0.06714755344454582), (866, 0.030464368278903323), (867, 0.032568135844011664), (868, 0.05787256410323392), (869, 0.04805061161674542), (870, 0.05436313140815781), (871, 0.02444168093434067), (872, 0.06042566174044363), (873, 0.03900874122350727), (874, 0.04190509663061401), (875, 0.05816840039016659), (876, 0.05083149404575045), (877, 0.039701550317113955), (878, 0.0483757014066291), (879, 0.04476926587868837), (880, 0.03901212447387271), (881, 0.008283909675003403), (882, 0.041649988614493), (883, 0.04482475926338476), (884, 0.03968172185564823), (885, 0.02328040525559868), (886, 0.02153939679668539), (887, 0.06940353735732357), (888, 0.026913580046005314), (889, 0.008811933419039762), (890, 0.026904712710997366), (891, 0.0397765846038817), (892, 0.02403260285211955), (893, 0.04412136569703669), (894, 0.04422388851864319), (895, 0.029724471782551436), (896, 0.026690975631039043), (897, 0.03507737365003833), (898, 0.10080420948527599), (899, 0.06881508488170923), (900, 0.020145151074644974), (901, 0.008634344118473782), (902, 0.05392640034747544), (903, 0.012221851654468444), (904, 0.015858114983098245), (905, 0.016018286427693592), (906, 0.03937740555873954), (907, 0.013253278296480177), (908, 0.023493272928645823), (909, 0.041823793761314315), (910, 0.008658691513523418), (911, 0.044070568143120506), (912, 0.035852269865532346), (913, 0.047932383712018856), (914, 0.041919234049525765), (915, 0.02904790743469681), (916, 0.032316621349137084), (917, 0.03142978635969604), (918, 0.030370543295935692), (919, 0.07728006401286368), (920, 0.032648227410882164), (921, 0.03700050553790464), (922, 0.06370433287182088), (923, 0.00782394479372405), (924, 0.020448237242268567), (925, 0.012562533433884962), (926, 0.02408643798829049), (927, 0.05483451297633943), (928, 0.077413822043611), (929, 0.010329970735512738), (930, 0.04394665915587498), (931, 0.10009863643197697), (932, 0.021374048667582447), (933, 0.0), (934, 0.035767496413751404), (935, 0.03671608751172211), (936, 0.05502041032483991), (937, 0.045252601993701236), (938, 0.021201444460086333), (939, 0.013207495697335266), (940, 0.06230676409118801), (941, 0.006145232949007772), (942, 0.02769168125096609), (943, 0.013348282716996764), (944, 0.031564236027678175), (945, 0.05319899030012271), (946, 0.049760393564418005), (947, 0.01654310510024659), (948, 0.05648744641484353), (949, 0.026857706623241343), (950, 0.044268768625022895), (951, 0.04805647012040499), (952, 0.04093422578981315), (953, 0.03738146483290228), (954, 0.061074971634529435), (955, 0.0209574813801982), (956, 0.05718827788495734), (957, 0.05193595686982537), (958, 0.008052848953893972), (959, 0.00869227766744851), (960, 0.03960962125133129), (961, 0.07846844912878885), (962, 0.008902471759424251), (963, 0.05001514147201421), (964, 0.029135235153084096), (965, 0.049852061139359014), (966, 0.05664408932687266), (967, 0.05485808508118186), (968, 0.032039936562172064), (969, 0.03379796554187064), (970, 0.039310060873295825), (971, 0.04187682250013672), (972, 0.041807295687378156), (973, 0.025278978500002276), (974, 0.01496356106347263), (975, 0.013961943342028292), (976, 0.04760678679722509), (977, 0.08079425337261512), (978, 0.030637037771689822), (979, 0.02970219255046111), (980, 0.037186975769134954), (981, 0.04243443617789026), (982, 0.025306336043833273), (983, 0.020642793594513792), (984, 0.04658005291636311), (985, 0.043437716535293054), (986, 0.037886060935849994), (987, 0.034581951087008414), (988, 0.07649227489724067), (989, 0.03831913050856199), (990, 0.06295584504013807), (991, 0.030376298156634507), (992, 0.028372126732460184), (993, 0.031607139421558066), (994, 0.1544162362518546), (995, 0.09091792958501184), (996, 0.024161228614083763), (997, 0.028437214649849364), (998, 0.012822277377512417), (999, 0.008474751414936489), (1000, 0.03502872368273022), (1001, 0.04785681219753304), (1002, 0.026376975125598216), (1003, 0.015627572119507875), (1004, 0.022142574120790424), (1005, 0.03602890571288073), (1006, 0.028087543823165344), (1007, 0.08228077716781967), (1008, 0.027679458011814248), (1009, 0.15186764177702758), (1010, 0.034726298254417184), (1011, 0.043146883872886704), (1012, 0.061553291892006055), (1013, 0.06061457722374763), (1014, 0.06028026467134003), (1015, 0.0626259059157324), (1016, 0.02214848545210412), (1017, 0.042048372668700346), (1018, 0.014203357737650552), (1019, 0.006853620549585103), (1020, 0.035914427898619344), (1021, 0.0131127012102341), (1022, 0.027750510420688816), (1023, 0.036244291239864605), (1024, 0.04538862843587305), (1025, 0.014439157001150112), (1026, 0.05611958465276061), (1027, 0.04303869585322312), (1028, 0.03926054858245122), (1029, 0.01669934638827119), (1030, 0.00841172675543268), (1031, 0.03712499960879454), (1032, 0.036207835327259186), (1033, 0.02461862933277907), (1034, 0.008720853205936512), (1035, 0.014552195505221705), (1036, 0.008122712928711754), (1037, 0.017801204682753466), (1038, 0.019924428441861285), (1039, 0.014322162494174224), (1040, 0.033371620288267), (1041, 0.032915387468026976), (1042, 0.050168933764464574), (1043, 0.04874610614024301), (1044, 0.023457608473182644), (1045, 0.04655346378450753), (1046, 0.04270128136826695), (1047, 0.016841897810002893), (1048, 0.02786564878702547), (1049, 0.04226951764520446), (1050, 0.02041375245545244), (1051, 0.07834393538162135), (1052, 0.05030840064097789), (1053, 0.022776685515419323), (1054, 0.049133283461755564), (1055, 0.029426558089328477), (1056, 0.029183276377819586), (1057, 0.028085393784521344), (1058, 0.03809666934515823), (1059, 0.028625661698108804), (1060, 0.02242730819973299), (1061, 0.05509865033852855), (1062, 0.04168664306348047), (1063, 0.03270269423182008), (1064, 0.015831425475887978), (1065, 0.045362711930708684), (1066, 0.05359168786473368), (1067, 0.04426320663353564), (1068, 0.05824716420887856), (1069, 0.05128904985962521), (1070, 0.043526381019725766), (1071, 0.0363584289845816), (1072, 0.08431885429923858), (1073, 0.03607812237691228), (1074, 0.03860777750149148), (1075, 0.02989980321281264), (1076, 0.033516016372578075), (1077, 0.03190121264864778), (1078, 0.0337701387423802), (1079, 0.04563966173683271), (1080, 0.02587568959629393), (1081, 0.007540189625713822), (1082, 0.07729110390171916), (1083, 0.05503560955714664), (1084, 0.033080084826602976), (1085, 0.02324491700087945), (1086, 0.0071552429673512104), (1087, 0.03920693686754532), (1088, 0.03986992191218429), (1089, 0.046563120263935595), (1090, 0.030569885132638534), (1091, 0.060508758448789016), (1092, 0.033563157599583816), (1093, 0.06163673556642272), (1094, 0.03276397565801343), (1095, 0.02030141729776446), (1096, 0.05758512691817885), (1097, 0.06200646748368896), (1098, 0.03263417608873927), (1099, 0.05477510445791381), (1100, 0.03751495071507812), (1101, 0.013711913008551194), (1102, 0.035362305816842625), (1103, 0.02841995506969356), (1104, 0.03009673749777181), (1105, 0.015227770210559363), (1106, 0.030575729505749286), (1107, 0.029403090956190474), (1108, 0.040761176798591266), (1109, 0.05505251777605748), (1110, 0.03692327836387911), (1111, 0.052551960759649366), (1112, 0.009462718605286125), (1113, 0.0440443690335782), (1114, 0.0329057651678697), (1115, 0.027875828590755228), (1116, 0.008784988493243402), (1117, 0.03726633016115579), (1118, 0.05401560657414325), (1119, 0.05693823883648683), (1120, 0.04144867451262942), (1121, 0.032017777909783544), (1122, 0.04392699428168938), (1123, 0.045090130282690086), (1124, 0.00875091392064278), (1125, 0.0395284327346675), (1126, 0.030690596366789984), (1127, 0.06464937179145851), (1128, 0.0359530990856853), (1129, 0.04854829231388849), (1130, 0.014826476836784883), (1131, 0.02978709680536131), (1132, 0.017927223775257677), (1133, 0.015873087545156976), (1134, 0.029109752312349392), (1135, 0.06552920897713678), (1136, 0.02459306246930145), (1137, 0.05051234425628111), (1138, 0.033214768403463525), (1139, 0.022156814863241142), (1140, 0.035286017694578925), (1141, 0.02886904419442205), (1142, 0.04124707935495698), (1143, 0.03117333180607207), (1144, 0.012899417897569206), (1145, 0.038772905863515186), (1146, 0.0343602898320337), (1147, 0.011565555964810117), (1148, 0.04238665133625963), (1149, 0.026956647492621548), (1150, 0.05004799586042027), (1151, 0.03610148966479352), (1152, 0.015147336464463533), (1153, 0.04022567712194636), (1154, 0.042731625263501674), (1155, 0.03393970675364598), (1156, 0.012769231208524887), (1157, 0.013186535135071124), (1158, 0.028790751350505003), (1159, 0.01547486451960653), (1160, 0.06669181432987917), (1161, 0.015386047992202199), (1162, 0.0764364908453195), (1163, 0.012720364567425525), (1164, 0.040754971570960946), (1165, 0.030504395655303662), (1166, 0.022120926902842956), (1167, 0.02888477989315284), (1168, 0.03203860182376337), (1169, 0.041214987568705994), (1170, 0.008774891603631478), (1171, 0.02879257902429353), (1172, 0.07777868271318276), (1173, 0.0523548680005026), (1174, 0.026842045015786214), (1175, 0.062453621542747396), (1176, 0.04005714933153063), (1177, 0.03153185524799854), (1178, 0.05111399651332185), (1179, 0.03696734174396554), (1180, 0.04240893101261372), (1181, 0.03421854503742962), (1182, 0.04180782118789277), (1183, 0.025147789407411233), (1184, 0.022795148905712385), (1185, 0.04737401888614936), (1186, 0.03765036879377533), (1187, 0.012961431588053478), (1188, 0.030202680402994158), (1189, 0.03002406035768912), (1190, 0.0353797930269884), (1191, 0.04601184565115089), (1192, 0.03651181439877827), (1193, 0.04172693485105043), (1194, 0.03060998618042523), (1195, 0.04083253841774221), (1196, 0.045214538260394045), (1197, 0.007531660546434074), (1198, 0.03511756115894661), (1199, 0.008180725598682053), (1200, 0.019727163049684027), (1201, 0.056705826633382764), (1202, 0.021211437517244757), (1203, 0.03255438706089322), (1204, 0.012802156466321643), (1205, 0.029936470937560043), (1206, 0.05401207210684451), (1207, 0.04829238007414968), (1208, 0.014072658823468826), (1209, 0.04221215767274782), (1210, 0.04611791090853215), (1211, 0.01420825724712789), (1212, 0.028803100279335997), (1213, 0.03606402935036348), (1214, 0.048445925898836194), (1215, 0.05657740772272639), (1216, 0.041132016410798194), (1217, 0.03050600609901932), (1218, 0.05028865485237866), (1219, 0.051298296131162005), (1220, 0.028657582809678027), (1221, 0.055915461898352344), (1222, 0.021750754876977453), (1223, 0.0478319093499078), (1224, 0.04850565098673591), (1225, 0.047765864168245915), (1226, 0.07145677930633937), (1227, 0.052557956318367294), (1228, 0.04943558045943984), (1229, 0.05693457331538451), (1230, 0.02309170561044272), (1231, 0.027527920637457178), (1232, 0.027743304607274696), (1233, 0.08705717581724202), (1234, 0.014584360950070296), (1235, 0.020593787309447255), (1236, 0.018540853035865633), (1237, 0.013169204481346838), (1238, 0.024721455661366094), (1239, 0.07146953024358219), (1240, 0.047129909472803426), (1241, 0.025978006844340318), (1242, 0.031894737955062855), (1243, 0.0636630483879134), (1244, 0.06094946379130437), (1245, 0.02984346961182295), (1246, 0.08918387972514763), (1247, 0.024556129315379115), (1248, 0.016163170124046642), (1249, 0.07976699510266001), (1250, 0.022705822210963587), (1251, 0.021826784972549217), (1252, 0.05649637933674384), (1253, 0.035429232079772145), (1254, 0.05468115038478244), (1255, 0.022377537392259124), (1256, 0.050993597620823394), (1257, 0.030293956819267186), (1258, 0.059969498295675244), (1259, 0.04872256866952923), (1260, 0.017773660493026804), (1261, 0.07037982834022437), (1262, 0.055811968054424003), (1263, 0.038415754500999835), (1264, 0.008832730839788852), (1265, 0.12205697612023023), (1266, 0.05716551554564864), (1267, 0.026864600247315615), (1268, 0.027724378768518222), (1269, 0.02835228583568773), (1270, 0.01868206796850294), (1271, 0.022356992397221928), (1272, 0.05852256165341669), (1273, 0.029789770219150226), (1274, 0.026541203868763023), (1275, 0.05935009928015822), (1276, 0.03652791698818765), (1277, 0.010668198365521814), (1278, 0.027604612863712213), (1279, 0.04780599414005965), (1280, 0.04748248065642434), (1281, 0.07531352291010666), (1282, 0.036059029825047065), (1283, 0.06013317799603942), (1284, 0.045521379421094625), (1285, 0.030025760855615716), (1286, 0.07380421451303426), (1287, 0.033578121242190825), (1288, 0.022940984413917103), (1289, 0.06069335401815806), (1290, 0.015821460888480146), (1291, 0.05604351398001543), (1292, 0.16645898246290516), (1293, 0.027158510201216745), (1294, 0.06784018111195751), (1295, 0.04851547535028563), (1296, 0.05114505885094749), (1297, 0.022354827765909937), (1298, 0.014064000566289455), (1299, 0.020953735217748237), (1300, 0.034493393208227245), (1301, 0.03383999467776127), (1302, 0.03937169853268247), (1303, 0.021610594198285524), (1304, 0.02137569560468792), (1305, 0.08121918942343331), (1306, 0.03630661774913424), (1307, 0.031577745968626086), (1308, 0.04997256270886681), (1309, 0.031175305384192723), (1310, 0.04684346593946917), (1311, 0.034774033203373786), (1312, 0.007817233173082649), (1313, 0.008268457326864851), (1314, 0.03674609747117155), (1315, 0.04952331609343946), (1316, 0.013293460213169342), (1317, 0.0), (1318, 0.02238661852397472), (1319, 0.020186938344141862), (1320, 0.040014385028428266), (1321, 0.06176677598225641), (1322, 0.01936385782595562), (1323, 0.04030326719118049), (1324, 0.08791242276545241), (1325, 0.04285100116722391), (1326, 0.03806444569776356), (1327, 0.028658524213673726), (1328, 0.02470005709187044), (1329, 0.00849063176647391), (1330, 0.012722364863783902), (1331, 0.014734484296002989), (1332, 0.05280014299611139), (1333, 0.018417863400249916), (1334, 0.06057088976786126), (1335, 0.10457890789386357), (1336, 0.02275921344076851), (1337, 0.018539058217833606), (1338, 0.015534142950501194), (1339, 0.009486814765546412), (1340, 0.035470010732707405), (1341, 0.05486173195128748), (1342, 0.04550516443643712), (1343, 0.022607280747822908), (1344, 0.043103794739905256), (1345, 0.03276186626625753), (1346, 0.1383519085674339), (1347, 0.04591372887849339), (1348, 0.025363211698667232), (1349, 0.07766094425474561), (1350, 0.020419812842023592), (1351, 0.02270658189693798), (1352, 0.059482965531361356), (1353, 0.014297687291860223), (1354, 0.05081705517473553), (1355, 0.037840860607734804), (1356, 0.02183813094066045), (1357, 0.07887109879082263), (1358, 0.031884488145530326), (1359, 0.02859902381524954), (1360, 0.020284302492424033), (1361, 0.019748783920917425), (1362, 0.07512313344242995), (1363, 0.03246877818453486), (1364, 0.03263900641305421), (1365, 0.1376254570141222), (1366, 0.06024271629080332), (1367, 0.01967348613660339), (1368, 0.07908123395915735), (1369, 0.017210726605516605), (1370, 0.03681216679142408), (1371, 0.04382365198087598), (1372, 0.014203515090014246), (1373, 0.057083462651449604), (1374, 0.03821808972349737), (1375, 0.0861983092564715), (1376, 0.033070994823596774), (1377, 0.018781925809997747), (1378, 0.035048992404366715), (1379, 0.0409647088604177), (1380, 0.03749727976407126), (1381, 0.07316540642506243), (1382, 0.12327842550219134), (1383, 0.05220962356815563), (1384, 0.015570685352978328), (1385, 0.06246225880871356), (1386, 0.047567077170186906), (1387, 0.06831051993510205), (1388, 0.030218789889260363), (1389, 0.02543581066731446), (1390, 0.008220846787630794), (1391, 0.0324059794629399), (1392, 0.031083926299649532), (1393, 0.029462440080905483), (1394, 0.08608575389319978), (1395, 0.008758942933538603), (1396, 0.03842498996592184), (1397, 0.026777508711440235), (1398, 0.08863231052942817), (1399, 0.02666282925701894), (1400, 0.05642964580745706), (1401, 0.029643086236190032), (1402, 0.038272317146852974), (1403, 0.03299412337144765), (1404, 0.05369616879083794), (1405, 0.04104810562770759), (1406, 0.02603165452990649), (1407, 0.009146514416787967), (1408, 0.022861122833915358), (1409, 0.03971732813883681), (1410, 0.012331754499697088), (1411, 0.008635031555506333), (1412, 0.05181015348820744), (1413, 0.03698471562155208), (1414, 0.04252218196606454), (1415, 0.006405250984961449), (1416, 0.02861499444007256), (1417, 0.018483309238039883), (1418, 0.049916692310691554), (1419, 0.07224354306064595), (1420, 0.026235490408299835), (1421, 0.0), (1422, 0.05731448343794524), (1423, 0.01562056560128498), (1424, 0.00802865649787639), (1425, 0.04131284120175835), (1426, 0.0717409682622552), (1427, 0.02635840247937495), (1428, 0.02503345910757004), (1429, 0.008091883387268857), (1430, 0.017689241428733345), (1431, 0.024122508536110997), (1432, 0.04475402449116349), (1433, 0.042875004393663166), (1434, 0.010938789764905046), (1435, 0.04905059926722534), (1436, 0.030220942932293694), (1437, 0.07321916169863918), (1438, 0.03107306332528982), (1439, 0.025251641292256023), (1440, 0.04884227775056676), (1441, 0.03119136760241447), (1442, 0.02943375396035868), (1443, 0.05419340151997014), (1444, 0.01671407701378764), (1445, 0.02937232816316021), (1446, 0.02411665027342913), (1447, 0.06142352416484155), (1448, 0.022917469278146342), (1449, 0.0074226626015761864), (1450, 0.043543142260333796), (1451, 0.029090799317998465), (1452, 0.021068014365213827), (1453, 0.008726853130951522), (1454, 0.04966269174020471), (1455, 0.04147889977957204), (1456, 0.02165646296073909), (1457, 0.04023092589620031), (1458, 0.07491444586443512), (1459, 0.04528171244962554), (1460, 0.04074531423206225), (1461, 0.01306821260917006), (1462, 0.008296796798542252), (1463, 0.019923482383648945), (1464, 0.03413249740780605), (1465, 0.008879028557300116), (1466, 0.055622838364604674), (1467, 0.0470498633772186), (1468, 0.060612396999772486), (1469, 0.040848039836447955), (1470, 0.06282274593946316), (1471, 0.03814962569317507), (1472, 0.027349543028032674), (1473, 0.02186162151186101), (1474, 0.02573527313620738), (1475, 0.04221240651919155), (1476, 0.008596351013505366), (1477, 0.013218425584601665), (1478, 0.04863279795896103), (1479, 0.02773699305880143), (1480, 0.034850296651413495), (1481, 0.04135139460197567), (1482, 0.03437942911413934), (1483, 0.03240134317334215), (1484, 0.04323186069100537), (1485, 0.009408353659003946), (1486, 0.04293726790197295), (1487, 0.0), (1488, 0.036052173564080144), (1489, 0.10323353619862925), (1490, 0.03975929264020034), (1491, 0.03603159062162796), (1492, 0.02139967620895296), (1493, 0.05331547274790245), (1494, 0.10908532881629551), (1495, 0.05743420823533438), (1496, 0.06845027270838153), (1497, 0.04472421687285377), (1498, 0.04584437543111185), (1499, 0.0), (1500, 0.03256896512884866), (1501, 0.01238061672364834), (1502, 0.026724274166229044), (1503, 0.032398999566346384), (1504, 0.03914506840422004), (1505, 0.01598944421288107), (1506, 0.04871007399049359), (1507, 0.05357610266876288), (1508, 0.0641721106073704), (1509, 0.0381249806043796), (1510, 0.0866761876243004), (1511, 0.030522655886752854), (1512, 0.16279587146495267), (1513, 0.01464481453042056), (1514, 0.01793260707321402), (1515, 0.07437610641667329), (1516, 0.017072457678344782), (1517, 0.05187445297052017), (1518, 0.027861791105171882), (1519, 0.024768564414086758), (1520, 0.05341426385785434), (1521, 0.03577583306513755), (1522, 0.06629849808225793), (1523, 0.01354334622855025), (1524, 0.06862581857993912), (1525, 0.035095182144339584), (1526, 0.0073708400646266825), (1527, 0.03841314170472457), (1528, 0.008510852453827867), (1529, 0.04659800770307818), (1530, 0.0462657586079415), (1531, 0.06008190559180192), (1532, 0.02878532291049048), (1533, 0.03315839728680971), (1534, 0.017562027452104986), (1535, 0.0329249057428018), (1536, 0.03316795792053634), (1537, 0.0298924219195593), (1538, 0.030633756835490855), (1539, 0.07650549486861685), (1540, 0.04476474911000429), (1541, 0.03143863709785196), (1542, 0.03416350593637286), (1543, 0.015532873894303037), (1544, 0.02625927743563321), (1545, 0.030531668596862956), (1546, 0.02550757278952902), (1547, 0.051667528560123854), (1548, 0.24272216805969468), (1549, 0.11342975275801406), (1550, 0.052551924229831355), (1551, 0.016026857220686534), (1552, 0.03899560322993018), (1553, 0.026615345797757584), (1554, 0.03906267576767169), (1555, 0.04614485291994274), (1556, 0.02491910461630481), (1557, 0.027744166692546833), (1558, 0.02888943772093356), (1559, 0.030347676144437577), (1560, 0.028924765075581144), (1561, 0.025532118426956383), (1562, 0.01835225030259682), (1563, 0.05495949167305232), (1564, 0.02131552430701191), (1565, 0.04219133152870706), (1566, 0.07633420370474528), (1567, 0.0498702286028586), (1568, 0.012548236015968012), (1569, 0.06167066077298463), (1570, 0.023103436379555253), (1571, 0.02795510945140722), (1572, 0.04740807162398735), (1573, 0.0075814906422471875), (1574, 0.020797856165561047), (1575, 0.016330375186452563), (1576, 0.05723363502412032), (1577, 0.03443431650240065), (1578, 0.05918696211463212), (1579, 0.10472721556195219), (1580, 0.07064548054112604), (1581, 0.04253286129250092), (1582, 0.04384112852461936), (1583, 0.007619888934156438), (1584, 0.04445016892039324), (1585, 0.04809433805501495), (1586, 0.014710824471471467), (1587, 0.07332119135342921), (1588, 0.008135683419386839), (1589, 0.027269087528832555), (1590, 0.043918171711457364), (1591, 0.026260612374166808), (1592, 0.02798292716018071), (1593, 0.019005638962336688), (1594, 0.02047522317772528), (1595, 0.02443910880726645), (1596, 0.00864806904207798), (1597, 0.012997323267686205), (1598, 0.009358109482193), (1599, 0.11543048055700118), (1600, 0.04118898541332744), (1601, 0.0330896242010154), (1602, 0.022262166859609807), (1603, 0.08825500527056192), (1604, 0.057449134651567535), (1605, 0.01662987919182797), (1606, 0.017233456758967952), (1607, 0.022283649798132667), (1608, 0.03930342972601497), (1609, 0.05865654546163891), (1610, 0.04449681183967688), (1611, 0.0564732773255297), (1612, 0.030863993778031812), (1613, 0.05084739691065667), (1614, 0.039898809174424996), (1615, 0.038364816451453294), (1616, 0.06990083070711399), (1617, 0.015460738675981321), (1618, 0.0643399161003656), (1619, 0.018748616759879336), (1620, 0.020732179385200618), (1621, 0.1031676689969983), (1622, 0.011379793525234718), (1623, 0.013543638940728367), (1624, 0.036529732163099224), (1625, 0.012461984699365877), (1626, 0.01905622758108541), (1627, 0.03191150693627763), (1628, 0.01915814597009659), (1629, 0.04675210915727553), (1630, 0.020611040121821994), (1631, 0.01093447838241858), (1632, 0.022616421843524737), (1633, 0.02708339800632755), (1634, 0.024636899129903217), (1635, 0.008286854440720835), (1636, 0.016182068936485813), (1637, 0.0356912787094796), (1638, 0.02154057201338639), (1639, 0.02161095679073241), (1640, 0.06228236487533031), (1641, 0.037370501725171465), (1642, 0.01910069329848386), (1643, 0.02234871573542894), (1644, 0.03591451318322829), (1645, 0.07364896643696331), (1646, 0.029370608181835126), (1647, 0.028824166393982734), (1648, 0.025571279756314135), (1649, 0.04796044648958137), (1650, 0.044572911756679774), (1651, 0.03960650607871622), (1652, 0.03358751261769852), (1653, 0.016103033822123115), (1654, 0.017845674822520786), (1655, 0.03926491847349178), (1656, 0.02651241858187875), (1657, 0.023620135197905432), (1658, 0.06068188779202427), (1659, 0.022852873925126964), (1660, 0.024919709763190082), (1661, 0.008240079840333123), (1662, 0.049298730491588526), (1663, 0.05525519875984355), (1664, 0.03175926112004919), (1665, 0.015343388000334014), (1666, 0.12061199770559533), (1667, 0.02850412542488049), (1668, 0.009288533747725708), (1669, 0.0749695222251014), (1670, 0.026568791747630736), (1671, 0.01293994797353101), (1672, 0.025006509376700167), (1673, 0.028998004657223193), (1674, 0.016747834151189217), (1675, 0.045941992058578074), (1676, 0.008034148542610798), (1677, 0.030096739327349048), (1678, 0.02761350282267317), (1679, 0.00877038715266414), (1680, 0.022171189223723783), (1681, 0.05323859489463455), (1682, 0.03270913016148772), (1683, 0.02865873628962178), (1684, 0.02552139027811522), (1685, 0.02227903417352227), (1686, 0.04019887192392953), (1687, 0.04494315938023681), (1688, 0.03436839819786418), (1689, 0.009849296575102985), (1690, 0.00836319599412592), (1691, 0.00867403554765581), (1692, 0.04279669499443802), (1693, 0.04476791378906713), (1694, 0.026427812069230873), (1695, 0.024685312104995888), (1696, 0.05715834167290635), (1697, 0.03351777176379351), (1698, 0.09964457901441715), (1699, 0.008285941615987794), (1700, 0.03736952320115096), (1701, 0.03079804662131053), (1702, 0.07140786040670113), (1703, 0.032103543686824026), (1704, 0.008629941032484451), (1705, 0.0582663062134429), (1706, 0.02748884355718486), (1707, 0.02389505392739132), (1708, 0.038264849428715816), (1709, 0.019642348590357562), (1710, 0.03766442851436809), (1711, 0.012662655868536217), (1712, 0.01883874785270684), (1713, 0.05198601262734411), (1714, 0.027503359618413624), (1715, 0.019882584473734373), (1716, 0.009085451500156258), (1717, 0.030594928118986106), (1718, 0.020582540272383203), (1719, 0.016069460043940567), (1720, 0.018985732211238674), (1721, 0.014821217728914383), (1722, 0.013635456363585582), (1723, 0.021368146622681525), (1724, 0.008992288745213838), (1725, 0.026459315025784726), (1726, 0.04238593469634276), (1727, 0.028992614516698552), (1728, 0.0458478399751267), (1729, 0.06777999162520162), (1730, 0.052899801875951565), (1731, 0.057653445159854794), (1732, 0.04103889040869667), (1733, 0.009887935938431881), (1734, 0.00795136634243149), (1735, 0.014427076626959138), (1736, 0.029385369841190362), (1737, 0.02713321583043414), (1738, 0.03342332635710306), (1739, 0.019193171438983893), (1740, 0.02348054727269603), (1741, 0.010148252253965657), (1742, 0.05974512074957314), (1743, 0.016067815050358626), (1744, 0.03122740762540562), (1745, 0.019317911169583632), (1746, 0.038633454539309886), (1747, 0.01574514516549854), (1748, 0.045777969182655184), (1749, 0.015628794431490123), (1750, 0.03528382978671912), (1751, 0.060136343202287654), (1752, 0.014066438104297608), (1753, 0.0075206869574635845), (1754, 0.009578512045753924), (1755, 0.02633326023976651), (1756, 0.01189891447593915), (1757, 0.020993258920505034), (1758, 0.02583356319926349), (1759, 0.016374660949090417), (1760, 0.012775514134748315), (1761, 0.03125852696509692), (1762, 0.11123414216490979), (1763, 0.051875341308191686), (1764, 0.0395530169307689), (1765, 0.058352206418620434), (1766, 0.045148803291598726), (1767, 0.06535785869674), (1768, 0.013326490229443898), (1769, 0.046928807852691594), (1770, 0.035818431160629376), (1771, 0.05677073347185941), (1772, 0.030104849043453633), (1773, 0.03665068826999395), (1774, 0.04855645747721165), (1775, 0.02096883837678067), (1776, 0.02028745508456118), (1777, 0.053581270207544024), (1778, 0.032539259878348464), (1779, 0.033082432595675434), (1780, 0.028417050834303716), (1781, 0.04272219401386731), (1782, 0.016749310951313743), (1783, 0.02078289900887228), (1784, 0.04137592317552312), (1785, 0.012120199858902472), (1786, 0.03716977127473164), (1787, 0.03899133421913421), (1788, 0.04116577284788853), (1789, 0.03023057491584409), (1790, 0.008634607494846094), (1791, 0.03174177170936616), (1792, 0.0), (1793, 0.017391211730503685), (1794, 0.007813253505144935), (1795, 0.030489049157223433), (1796, 0.024075694381210058), (1797, 0.041083416372572124), (1798, 0.08783742257073157), (1799, 0.08109830214763832), (1800, 0.007608727889112201), (1801, 0.026674679584028325), (1802, 0.024938361918927315), (1803, 0.022744559570664395), (1804, 0.03523330486795698), (1805, 0.03143509756766197), (1806, 0.017677714842044792), (1807, 0.0), (1808, 0.060289282808580674), (1809, 0.04210920254424117), (1810, 0.04227894711950046), (1811, 0.062301531433446154), (1812, 0.042185759663774226), (1813, 0.00856280016076616), (1814, 0.04028758389164917), (1815, 0.03487071395337429), (1816, 0.04843690065694989), (1817, 0.053976503131879086), (1818, 0.03936599868011861), (1819, 0.027517761303368936), (1820, 0.024206171763700143), (1821, 0.02620407215698324), (1822, 0.015413203051352587), (1823, 0.04323579927793476), (1824, 0.032415471717611416), (1825, 0.055034428653699355), (1826, 0.0), (1827, 0.03344688610727276), (1828, 0.048386852515613504), (1829, 0.02074597603294703), (1830, 0.007587929854951459), (1831, 0.03833146695792639), (1832, 0.019903157140278162), (1833, 0.056452141338333844), (1834, 0.013120449219264183), (1835, 0.027685164994878143), (1836, 0.0162901473620224), (1837, 0.02257002518746773), (1838, 0.02732868529224432), (1839, 0.027373849271258723), (1840, 0.008727295023318348), (1841, 0.052567909705509175), (1842, 0.12781583761160847), (1843, 0.04238250361993655), (1844, 0.055370540132023006), (1845, 0.013026591900402182), (1846, 0.05465959351857133), (1847, 0.0420680860981783), (1848, 0.12435033853408893), (1849, 0.02169852049771546), (1850, 0.02483870486794416), (1851, 0.028596068970312118), (1852, 0.06098529372468559), (1853, 0.03993824498600301), (1854, 0.03183243187145822), (1855, 0.03583762305980959), (1856, 0.030195838604321342), (1857, 0.0364583732757843), (1858, 0.01951590774693663), (1859, 0.01876343585760716), (1860, 0.056057915915438426), (1861, 0.036557347063888496), (1862, 0.018962098426310487), (1863, 0.025768129331589847), (1864, 0.036625830450654095), (1865, 0.04220817910161747), (1866, 0.03159836322336701), (1867, 0.014165741088752102), (1868, 0.02032769339685599), (1869, 0.03771806751442615), (1870, 0.029369375503514383), (1871, 0.031406679371789974), (1872, 0.021153480346883077), (1873, 0.02980869476569764), (1874, 0.05709773754504681), (1875, 0.008021460491244116), (1876, 0.04886223668118486), (1877, 0.007912764362140301), (1878, 0.012133130318414773), (1879, 0.01259815536959065), (1880, 0.05526228413688683), (1881, 0.03801242963659915), (1882, 0.06438811385993082), (1883, 0.01784039916722708), (1884, 0.05265691744759453), (1885, 0.008534525326541996), (1886, 0.01892091484085394), (1887, 0.036550484566322664), (1888, 0.03148422132041542), (1889, 0.03547600544480839), (1890, 0.07205259002579908), (1891, 0.013270552521334373), (1892, 0.007134662056957187), (1893, 0.015217750193662137), (1894, 0.043265989324472946), (1895, 0.039791863321466586), (1896, 0.009438774829879516), (1897, 0.022689904195861855), (1898, 0.02435138767059526), (1899, 0.025714330101220765), (1900, 0.09113912484310287), (1901, 0.040759274981608626), (1902, 0.021337913732862607), (1903, 0.049906573335645806), (1904, 0.03140313179199832), (1905, 0.024786663129514858), (1906, 0.03726585292621536), (1907, 0.01258812373710705), (1908, 0.0606930862632311), (1909, 0.03147679991662384), (1910, 0.047031801478765296), (1911, 0.07173663863467007), (1912, 0.04819150257543191), (1913, 0.05040543086059167), (1914, 0.007669494548012268), (1915, 0.041576022600536625), (1916, 0.029382432054983466), (1917, 0.018403522498072256), (1918, 0.04431040801404486), (1919, 0.03538639652739228), (1920, 0.00899708884365092), (1921, 0.05079049685350177), (1922, 0.0507972442198405), (1923, 0.03653323543763597), (1924, 0.04328175740903641), (1925, 0.027062661254755285), (1926, 0.03927886563392139), (1927, 0.02618334836103877), (1928, 0.015506254265709556), (1929, 0.008848367960056452), (1930, 0.0389210898121439), (1931, 0.05474761158102675), (1932, 0.0656609354052802), (1933, 0.03432575373392354), (1934, 0.06574280382233125), (1935, 0.013011298030839096), (1936, 0.05441514217453323), (1937, 0.04363476808470933), (1938, 0.022549193326633375), (1939, 0.05811248135864992), (1940, 0.016672573768512174), (1941, 0.016288623982615522), (1942, 0.04139787726602494), (1943, 0.03973748868461052), (1944, 0.04391566931453184), (1945, 0.052344342490154926), (1946, 0.03515244032439424), (1947, 0.03921275269719088), (1948, 0.040695242770481845), (1949, 0.02690653890066521), (1950, 0.02773112525200434), (1951, 0.04459133468303149), (1952, 0.03270976652255419), (1953, 0.00803296396123392), (1954, 0.0), (1955, 0.048571529082764714), (1956, 0.015766575411675345), (1957, 0.041525228425494456), (1958, 0.01386086908295538), (1959, 0.009092626527951564), (1960, 0.0), (1961, 0.04097008708926546), (1962, 0.02205390685784598), (1963, 0.0496456561921281), (1964, 0.02144967099172733), (1965, 0.08343797263325811), (1966, 0.03655746961192405), (1967, 0.034097101056882906), (1968, 0.04477344715649731), (1969, 0.05696493622246733), (1970, 0.04137597479311109), (1971, 0.04408307608281223), (1972, 0.05329841442907377), (1973, 0.043970620231910645), (1974, 0.012680811886628975), (1975, 0.013769432832669525), (1976, 0.045098868328492706), (1977, 0.027333046377437612), (1978, 0.01662717509159614), (1979, 0.016973586738901925), (1980, 0.014690802581742983), (1981, 0.008115430705252096), (1982, 0.1598923063141243), (1983, 0.06756084980472339), (1984, 0.01405800496496064), (1985, 0.020018232553813117), (1986, 0.07822102977483965), (1987, 0.02723690867801299), (1988, 0.04605684707414221), (1989, 0.023451536939601666), (1990, 0.022890180473739877), (1991, 0.03222419968708189), (1992, 0.042143193257834645), (1993, 0.02135453054906353), (1994, 0.00610938056496517), (1995, 0.014619004538382368), (1996, 0.008204347236505143), (1997, 0.07357693248228135), (1998, 0.03760923693812555), (1999, 0.025186566520642013), (2000, 0.00802763168997693), (2001, 0.025538698385033726), (2002, 0.00633906330086954), (2003, 0.03650378785047818), (2004, 0.030119305568527828), (2005, 0.016300130182361358), (2006, 0.04714469488448654), (2007, 0.07407732839755114), (2008, 0.008671819797939377), (2009, 0.028875036884731788), (2010, 0.017918608502360864), (2011, 0.047793732213442866), (2012, 0.05386211128306928), (2013, 0.03007024831702044), (2014, 0.03265267643005156), (2015, 0.05778882600392936), (2016, 0.05955966248222457), (2017, 0.03355537001072198), (2018, 0.02960130473140196), (2019, 0.03935541134953603), (2020, 0.013818210401210729), (2021, 0.0366174804068043), (2022, 0.06456912151062284), (2023, 0.042458968122683696), (2024, 0.03502590209596888), (2025, 0.040649288185930964), (2026, 0.04316382095018331), (2027, 0.02122846735970475), (2028, 0.033608788857962396), (2029, 0.030908126102703257), (2030, 0.028265745422035582), (2031, 0.05405472876594404), (2032, 0.013255937034026822), (2033, 0.030304580846921766), (2034, 0.018620098174195264), (2035, 0.1335958047638288), (2036, 0.18215203781707484), (2037, 0.04303230831856776), (2038, 0.007285931269381463), (2039, 0.009308131343007977), (2040, 0.049682182680475986), (2041, 0.03316622393046198), (2042, 0.029425707430937982), (2043, 0.0719256443790803), (2044, 0.02289659997288132), (2045, 0.04622790028290118), (2046, 0.012897864209587436), (2047, 0.021123657446942584), (2048, 0.02624426694103378), (2049, 0.011386382572744791), (2050, 0.0391863913641594), (2051, 0.02461685444847967), (2052, 0.018902678512791017), (2053, 0.025613549665396036), (2054, 0.023480689871501204), (2055, 0.038231096346787605), (2056, 0.012147233726171519), (2057, 0.021251376191995963), (2058, 0.016582603370934385), (2059, 0.024743316568946114), (2060, 0.037442863157271855), (2061, 0.05639044149506243), (2062, 0.037377343001687276), (2063, 0.02380298234618807), (2064, 0.0190488953787692), (2065, 0.03704427512916172), (2066, 0.06735557855160774), (2067, 0.06761333745165667), (2068, 0.013194836099519788), (2069, 0.022672577081227354), (2070, 0.02102926241154222), (2071, 0.021642022030433177), (2072, 0.012496072946176492), (2073, 0.04790795631423067), (2074, 0.024918192124322773), (2075, 0.03479367648045847), (2076, 0.026868690447656), (2077, 0.022344673624082156), (2078, 0.03039000300909129), (2079, 0.026497032386364514), (2080, 0.01804509109370488), (2081, 0.021141818850742913), (2082, 0.06133186069825401), (2083, 0.029850445143850796), (2084, 0.06887813547565913), (2085, 0.113543090530822), (2086, 0.03434815155466355), (2087, 0.0), (2088, 0.040366406469837086), (2089, 0.0217348230202637), (2090, 0.014290986121606907), (2091, 0.029337169613562634), (2092, 0.0667422564998614), (2093, 0.04549985787850652), (2094, 0.05165623019500536), (2095, 0.04779758748921262), (2096, 0.02546978595170416), (2097, 0.013672816097472531), (2098, 0.04143682951807895), (2099, 0.019658198997920054), (2100, 0.05868123213513743), (2101, 0.013623411022837217), (2102, 0.021210889817494853), (2103, 0.04047395474517875), (2104, 0.03731557155939759), (2105, 0.03103804516550162), (2106, 0.03049878021832151), (2107, 0.04609429413257012), (2108, 0.0), (2109, 0.06261125916247469), (2110, 0.024756953621521607), (2111, 0.03733426751797887), (2112, 0.03644990062289556), (2113, 0.015740971519561806), (2114, 0.04131884035878447), (2115, 0.025109906036674796), (2116, 0.019388555047138503), (2117, 0.054953234110403745), (2118, 0.0), (2119, 0.01381228360358027), (2120, 0.025758919028754934), (2121, 0.01879912833019588), (2122, 0.03152884930905754), (2123, 0.02793599972837265), (2124, 0.021168858947830008), (2125, 0.025001823654500113), (2126, 0.008361173052264213), (2127, 0.037181906886072515), (2128, 0.06115544438126193), (2129, 0.012286848877471078), (2130, 0.0468178878615458), (2131, 0.044410181572068455), (2132, 0.02987576892223457), (2133, 0.0), (2134, 0.029286154162483164), (2135, 0.036507202250435494), (2136, 0.05516496157738053), (2137, 0.05375764755644336), (2138, 0.012840991622400696), (2139, 0.055608146375723484), (2140, 0.014071702430955409), (2141, 0.008231997872249383), (2142, 0.01367971967737763), (2143, 0.046055551934560304), (2144, 0.07322003650109693), (2145, 0.01993356286009431), (2146, 0.0), (2147, 0.010271393071591306), (2148, 0.061991977638122815), (2149, 0.03496682733600043), (2150, 0.034227935692354355), (2151, 0.06751836011968752), (2152, 0.007043925545856696), (2153, 0.03778183849035931), (2154, 0.0), (2155, 0.03260286606509704), (2156, 0.05135413662065232), (2157, 0.0), (2158, 0.027393897279165386), (2159, 0.01911359875005831), (2160, 0.038474182908533675), (2161, 0.025325239211780617), (2162, 0.07986722895382457), (2163, 0.020730285890400275), (2164, 0.050509835364048745), (2165, 0.014662752876184047), (2166, 0.0557542554961024), (2167, 0.0136488515823849), (2168, 0.022233444900772323), (2169, 0.03603448547042605), (2170, 0.037420839457345825), (2171, 0.026750618761947134), (2172, 0.03833734118308272), (2173, 0.02960514853960211), (2174, 0.05412746340088422), (2175, 0.0), (2176, 0.015095606965678753), (2177, 0.027664569463122554), (2178, 0.0349263392859539), (2179, 0.00779948209024537), (2180, 0.016019357284016482), (2181, 0.03696953484865602), (2182, 0.0475976371546904), (2183, 0.018141392091190388), (2184, 0.07021166184847158), (2185, 0.018298236655686057), (2186, 0.0), (2187, 0.021035373193004216), (2188, 0.015316046651791603), (2189, 0.03535877374096641), (2190, 0.007994296326599704), (2191, 0.012543981976185784), (2192, 0.02489774874541112), (2193, 0.03862845059161203), (2194, 0.007050830242279109), (2195, 0.012410630040635848), (2196, 0.02893777419643355), (2197, 0.02524024211691808), (2198, 0.038395149335563566), (2199, 0.009121919095487877), (2200, 0.025775472046250976), (2201, 0.026329777101012298), (2202, 0.02466746242488689), (2203, 0.057534004437789256), (2204, 0.008511057978853327), (2205, 0.05622902768786186), (2206, 0.04180843203471998), (2207, 0.006871733750964181), (2208, 0.019102955963041582), (2209, 0.0), (2210, 0.03068264620211766), (2211, 0.02445724329623481), (2212, 0.015508883450534375), (2213, 0.05129751271014843), (2214, 0.05271344543613947), (2215, 0.027696584514342884), (2216, 0.016712513831214505), (2217, 0.019092696905150384), (2218, 0.04694570048530819), (2219, 0.01846749717107988), (2220, 0.011810998592855955), (2221, 0.03746989765531059), (2222, 0.008151686486543831), (2223, 0.031003699665054184), (2224, 0.03611085280161985), (2225, 0.013926344718802847), (2226, 0.035792356181534736), (2227, 0.013201135766498584), (2228, 0.027396583375456467), (2229, 0.014105989946768371), (2230, 0.01806641302639682), (2231, 0.04986591130450332), (2232, 0.04883772221979368), (2233, 0.0502072938259625), (2234, 0.00829712767814368), (2235, 0.022198711805959497), (2236, 0.035491182941513044), (2237, 0.0640563987235653), (2238, 0.026581919995673983), (2239, 0.022591214527280096), (2240, 0.013931015218133617), (2241, 0.049798226405928035), (2242, 0.036790561272832215), (2243, 0.02923452578255309), (2244, 0.021409313460055465), (2245, 0.030083209755099434), (2246, 0.056722225273615916), (2247, 0.0), (2248, 0.0), (2249, 0.047527503160729234), (2250, 0.08848717862042389), (2251, 0.030714838217773936), (2252, 0.04300321650515302), (2253, 0.024986130740234223), (2254, 0.07420087249339008), (2255, 0.013601314905868717), (2256, 0.02526165167605193), (2257, 0.007835112956612298), (2258, 0.030589891541064076), (2259, 0.0378275943849212), (2260, 0.007872334421424619), (2261, 0.04956494054647926), (2262, 0.03375188038574632), (2263, 0.012064834608196852), (2264, 0.03556369487494633), (2265, 0.03511510106162869), (2266, 0.008829679179492785), (2267, 0.013395282629109655), (2268, 0.039131307940502985), (2269, 0.02878117076301753), (2270, 0.009267533746377645), (2271, 0.04993026654347753), (2272, 0.009033108714590687), (2273, 0.030930070902259413), (2274, 0.026405721788647706), (2275, 0.021083736751980733), (2276, 0.0353342250854496), (2277, 0.05492968051435834), (2278, 0.052956668659600345), (2279, 0.02218915985049097), (2280, 0.036132050242983854), (2281, 0.008821412911881536), (2282, 0.0), (2283, 0.04130865732146254), (2284, 0.06432420010119738), (2285, 0.04854410619317645), (2286, 0.027764848232696142), (2287, 0.03713474047743124), (2288, 0.02138839680427651), (2289, 0.00976590080297439), (2290, 0.06054649451312379), (2291, 0.011830993104757707), (2292, 0.030597628592447718), (2293, 0.046829823778068894), (2294, 0.08328838809587814), (2295, 0.020229607377854973), (2296, 0.049813052085074146), (2297, 0.026608765418519965), (2298, 0.025944340731899253), (2299, 0.01081308909303193), (2300, 0.01801864853853788), (2301, 0.00888802168828948), (2302, 0.008689443803409646), (2303, 0.056427703299778864), (2304, 0.016705936513901776), (2305, 0.026148473818092852), (2306, 0.01992541023440216), (2307, 0.007828359205152773), (2308, 0.027431618837902468), (2309, 0.014431082436235834), (2310, 0.031666215385856025), (2311, 0.01836776697941145), (2312, 0.022133096345306632), (2313, 0.04200170108479418), (2314, 0.0), (2315, 0.03895697219775277), (2316, 0.04293525425580187), (2317, 0.01962143810477101), (2318, 0.0551678055629059), (2319, 0.036759796510436184), (2320, 0.06128894888531763), (2321, 0.02623316811169234), (2322, 0.057691969513628594), (2323, 0.0), (2324, 0.020964914262507208), (2325, 0.01405241440427656), (2326, 0.023838799901246235), (2327, 0.019998489714817727), (2328, 0.0), (2329, 0.018547451005610834), (2330, 0.07420217440403258), (2331, 0.0059246202973266835), (2332, 0.025440699000451615), (2333, 0.008123791038878617), (2334, 0.008761186749606149), (2335, 0.034617250970283134), (2336, 0.026042722904308167), (2337, 0.01681556475122638), (2338, 0.05135099076635399), (2339, 0.037982209718000016), (2340, 0.04432049432441917), (2341, 0.028145261224005794), (2342, 0.04805443323233646), (2343, 0.008235302551310608), (2344, 0.013374065039411825), (2345, 0.02478379873324421), (2346, 0.0), (2347, 0.009062153018177348), (2348, 0.007095887183465265), (2349, 0.054521927068081295), (2350, 0.007930565144482631), (2351, 0.01747883985519303), (2352, 0.033321095662548705), (2353, 0.04120712868179385), (2354, 0.023555380264316955), (2355, 0.007083126700393211), (2356, 0.04265945421669201), (2357, 0.01759236096660078), (2358, 0.0), (2359, 0.026915178142796453), (2360, 0.037585363909958674), (2361, 0.04397115368361838), (2362, 0.016178612983131172), (2363, 0.018893396228702175), (2364, 0.02211834011787373), (2365, 0.017822086738834314), (2366, 0.015306445330999424), (2367, 0.03029786261005628), (2368, 0.012677700123955324), (2369, 0.007978796128515393), (2370, 0.03545651313969912), (2371, 0.03094967683914499), (2372, 0.015932279156567516), (2373, 0.03213963429696652), (2374, 0.03193581437974801), (2375, 0.023664746740397865), (2376, 0.029139757660926417), (2377, 0.03395789684599846), (2378, 0.024909936598875887), (2379, 0.013249631407344016), (2380, 0.04659710530743704), (2381, 0.07690093596017981), (2382, 0.02182104338147036), (2383, 0.030229265201926064), (2384, 0.020866083331081607), (2385, 0.021669879192765522), (2386, 0.023101246411786684), (2387, 0.02042694684772669), (2388, 0.013069505342510803), (2389, 0.04770241327587324), (2390, 0.027906531222613377), (2391, 0.01187685797052626), (2392, 0.02477076090012771), (2393, 0.036031360652326504), (2394, 0.0), (2395, 0.00917531452457157), (2396, 0.012134652533577182), (2397, 0.036772189587672685), (2398, 0.019745160304478253), (2399, 0.014073451487406699), (2400, 0.013047232548627666), (2401, 0.025749522934030523), (2402, 0.020465748406514505), (2403, 0.03082863170958141), (2404, 0.008066033677784513), (2405, 0.0243844868443258), (2406, 0.06950003121815859), (2407, 0.0), (2408, 0.016007752150102972), (2409, 0.030096497633523484), (2410, 0.02015156228234854), (2411, 0.02088883385185384), (2412, 0.025179623817862415), (2413, 0.05353393134867615), (2414, 0.03288452734159355), (2415, 0.028616668059840814), (2416, 0.03681642063863171), (2417, 0.00782515820864402), (2418, 0.008153799584635291), (2419, 0.02661919205748297), (2420, 0.0), (2421, 0.040154078067905885), (2422, 0.029334322034278958), (2423, 0.021973994539924678), (2424, 0.02022745238791676), (2425, 0.024551056660193173), (2426, 0.0350961284755268), (2427, 0.03319500097105048), (2428, 0.040498833806871026), (2429, 0.027972008405643095), (2430, 0.04687821620098567), (2431, 0.0), (2432, 0.04606174007107593), (2433, 0.0231530263016011), (2434, 0.025120263336893663), (2435, 0.016240742716642734), (2436, 0.013661304707745193), (2437, 0.05325401331942321), (2438, 0.027102596058610894), (2439, 0.013056627097273463), (2440, 0.008305555519344834), (2441, 0.01195286138087647), (2442, 0.028398879651544445), (2443, 0.0239248402314347), (2444, 0.021327206743313648), (2445, 0.04117656125157165), (2446, 0.008111099571537555), (2447, 0.02984934817039917), (2448, 0.012423702806430376), (2449, 0.020827227994213923), (2450, 0.05570687671680225), (2451, 0.017945142487125285), (2452, 0.012230085089872333), (2453, 0.008406039470197397), (2454, 0.0137498470791293), (2455, 0.021873778731208528), (2456, 0.021584692365264224), (2457, 0.01985386659522733), (2458, 0.00976560541778692), (2459, 0.03434048954892996), (2460, 0.031783612498455134), (2461, 0.0465326870333555), (2462, 0.01272888903759055), (2463, 0.012447069449192969), (2464, 0.011975017130287348), (2465, 0.013444283642754042), (2466, 0.00791130172191374), (2467, 0.007923725341253483), (2468, 0.015616907833115451), (2469, 0.010963023958495471), (2470, 0.0242859357886022), (2471, 0.015848141916922142), (2472, 0.025385344575640015), (2473, 0.044704962525516895), (2474, 0.058273063820948656), (2475, 0.03798119760952023), (2476, 0.01584424810097476), (2477, 0.03404766769388652), (2478, 0.0), (2479, 0.03200587801270759), (2480, 0.062412357900585295), (2481, 0.03905146783002619), (2482, 0.0285139308456769), (2483, 0.0), (2484, 0.04781593372190776), (2485, 0.039267881478350634), (2486, 0.04252749426592381), (2487, 0.045851960223312026), (2488, 0.009584681228479832), (2489, 0.04261426466788715), (2490, 0.04984658119375231), (2491, 0.024903590135509465), (2492, 0.03866310924845487), (2493, 0.029781572361404163), (2494, 0.08521779417149336), (2495, 0.013351471381600727), (2496, 0.026182853800090305), (2497, 0.031258420409463764), (2498, 0.019365985209887245), (2499, 0.016449526062761927), (2500, 0.035798941904240725), (2501, 0.040491227785057836), (2502, 0.009016017837141527), (2503, 0.008250558289612176), (2504, 0.03410027601824589), (2505, 0.020089477948736365), (2506, 0.020810033462647537), (2507, 0.03288007843737156), (2508, 0.01856736329319916), (2509, 0.011069377907294186), (2510, 0.16130262566943537), (2511, 0.02063074176421161), (2512, 0.010095472404849629), (2513, 0.033481576325281995), (2514, 0.03166246622273686), (2515, 0.0), (2516, 0.013115236308243704), (2517, 0.06289692305449687), (2518, 0.059049749719989345), (2519, 0.06415622994346731), (2520, 0.026864662039282776), (2521, 0.03279440623099572), (2522, 0.052167155749659896), (2523, 0.027859402261265327), (2524, 0.05339818606267062), (2525, 0.048178367225061254), (2526, 0.035037024858311894), (2527, 0.025913552382419533), (2528, 0.04395408477768471), (2529, 0.0781048505918575), (2530, 0.025027869263393114), (2531, 0.007711916194897914), (2532, 0.0415629895060599), (2533, 0.01822669762361315), (2534, 0.012231794721461967), (2535, 0.007681046358690441), (2536, 0.027252455493411456), (2537, 0.022828382357647236), (2538, 0.035201499111587604), (2539, 0.032397102055948694), (2540, 0.03930857642924173), (2541, 0.10784899006861873), (2542, 0.03695462841562832), (2543, 0.04451112000926871), (2544, 0.03224828957446941), (2545, 0.0476040522599849), (2546, 0.023780069536648362), (2547, 0.04943696187622593), (2548, 0.016291264970161576), (2549, 0.06387592254828707), (2550, 0.02248559096663455), (2551, 0.037577257372969325), (2552, 0.03353147358010812), (2553, 0.008544524610668364), (2554, 0.03622769315684392), (2555, 0.07157779750865213), (2556, 0.012079409632510755), (2557, 0.06123952571771837), (2558, 0.043561117955025784), (2559, 0.024867649130746485), (2560, 0.013985297031837646), (2561, 0.007722560175543819), (2562, 0.017694828369711965), (2563, 0.024464658385327694), (2564, 0.01853306328116612), (2565, 0.05044357554374426), (2566, 0.038417681949732746), (2567, 0.09147989674674062), (2568, 0.0), (2569, 0.024046503452157874), (2570, 0.02508303169516933), (2571, 0.044606651819287246), (2572, 0.008689596763891975), (2573, 0.030761203771189363), (2574, 0.07248052327500082), (2575, 0.06768648785365564), (2576, 0.055041726339843514), (2577, 0.03201130386471782), (2578, 0.04858195431449909), (2579, 0.007536839250171425), (2580, 0.03959704612393716), (2581, 0.032404599510854046), (2582, 0.12046898630242314), (2583, 0.03518044497365544), (2584, 0.047236671057811194), (2585, 0.0), (2586, 0.013535592024004804), (2587, 0.03585565014054469), (2588, 0.03955193689209909), (2589, 0.008220054733577252), (2590, 0.04255280366714906), (2591, 0.007762080964208894), (2592, 0.017340209151895998), (2593, 0.04290790389640395), (2594, 0.03386070843697658), (2595, 0.01720781019931661), (2596, 0.0), (2597, 0.014358347394505179), (2598, 0.0538744210533188), (2599, 0.019074251326010146), (2600, 0.049391943281374966), (2601, 0.03284324379329878), (2602, 0.011794717254512345), (2603, 0.026599139267540893), (2604, 0.015878343149430547), (2605, 0.0410552828092729), (2606, 0.012749918256775405), (2607, 0.01832879854424289), (2608, 0.023695465121149707), (2609, 0.051455903125285765), (2610, 0.02767207917136896), (2611, 0.017647205982294106), (2612, 0.024194523594605166), (2613, 0.0), (2614, 0.008943801247254187), (2615, 0.037369906206943346), (2616, 0.06257271535387102), (2617, 0.02396959417384111), (2618, 0.0), (2619, 0.01299349549134623), (2620, 0.01247957764364378), (2621, 0.05804473350695096), (2622, 0.02551582329498008), (2623, 0.03303629127373194), (2624, 0.04327844014663465), (2625, 0.05074661502249535), (2626, 0.017430269802572965), (2627, 0.01220166049363721), (2628, 0.027718254539070456), (2629, 0.043242407483977695), (2630, 0.03351750672566145), (2631, 0.011765150542437137), (2632, 0.008071260007638057), (2633, 0.007939253097413917), (2634, 0.017202545509333533), (2635, 0.03830230274003349), (2636, 0.020184791217116145), (2637, 0.024803438588047167), (2638, 0.03243500965767328), (2639, 0.03173668068817562), (2640, 0.04379614605157231), (2641, 0.08374229085446715), (2642, 0.030209084203493875), (2643, 0.03894160532276303), (2644, 0.019273631658494057), (2645, 0.009021113033739543), (2646, 0.045070916131393475), (2647, 0.032780169877185766), (2648, 0.02976892076537431), (2649, 0.06723758599177426), (2650, 0.015880671040668412), (2651, 0.021900360109379895), (2652, 0.021773690503214184), (2653, 0.041902102836493774), (2654, 0.034266026212248266), (2655, 0.0), (2656, 0.03713113528193246), (2657, 0.022442186028888148), (2658, 0.052677803756118524), (2659, 0.023209893272557312), (2660, 0.007423270668054777), (2661, 0.05038600566001496), (2662, 0.04073727197451659), (2663, 0.0), (2664, 0.051217915708215676), (2665, 0.039569608947663586), (2666, 0.012951834620047925), (2667, 0.03408045685212634), (2668, 0.057226798690586986), (2669, 0.0), (2670, 0.02927219543197801), (2671, 0.007128845814104537), (2672, 0.08399160760959863), (2673, 0.0), (2674, 0.012029120649017396), (2675, 0.03895522706064986), (2676, 0.015839567632352527), (2677, 0.03979168021823176), (2678, 0.0), (2679, 0.007975142976489769), (2680, 0.025600914269178765), (2681, 0.042174799612782234), (2682, 0.06865535919720041), (2683, 0.008338793196529307), (2684, 0.04085181252903216), (2685, 0.04610818451228564), (2686, 0.02473454747768275), (2687, 0.024650359658491838), (2688, 0.0360274971869649), (2689, 0.060460606412332335), (2690, 0.01656528980080703), (2691, 0.09552363488846127), (2692, 0.008777485175552003), (2693, 0.02025272078319818), (2694, 0.0500819304658142), (2695, 0.008437179970767362), (2696, 0.0), (2697, 0.012827546544782659), (2698, 0.022364288908675353), (2699, 0.022721566249352024), (2700, 0.0), (2701, 0.021790997412250004), (2702, 0.0), (2703, 0.0), (2704, 0.02147896658075365), (2705, 0.0), (2706, 0.03987938374952864), (2707, 0.039134146279107246), (2708, 0.02618220117991337), (2709, 0.0), (2710, 0.07109772453248452), (2711, 0.028464052501823215), (2712, 0.0), (2713, 0.05400455159434171), (2714, 0.034208574631912465), (2715, 0.0353316912346677), (2716, 0.03235877573924042), (2717, 0.028527552744944118), (2718, 0.058280707307348634), (2719, 0.014735890984032291), (2720, 0.024143177003705135), (2721, 0.013561028400592014), (2722, 0.01294410136670489), (2723, 0.040769277431862844), (2724, 0.0084347179236425), (2725, 0.050566487558510134), (2726, 0.00801938929423784), (2727, 0.04121915091526873), (2728, 0.06967248321626796), (2729, 0.07484342610203358), (2730, 0.04100466891716259), (2731, 0.015489558385967293), (2732, 0.016903541082223823), (2733, 0.021694752637944986), (2734, 0.0), (2735, 0.020547316967525077), (2736, 0.03209421777927212), (2737, 0.013922758066906323), (2738, 0.008212773308883115), (2739, 0.015873116110124107), (2740, 0.042248965789032436), (2741, 0.005796508569223993), (2742, 0.047909959605203), (2743, 0.02514456374348071), (2744, 0.019916089473520495), (2745, 0.0677927020363187), (2746, 0.01512253334417492), (2747, 0.0), (2748, 0.034159338389847596), (2749, 0.03263875553195033), (2750, 0.02147859453547679), (2751, 0.03673452822218071), (2752, 0.014777206214908245), (2753, 0.04849735429941665), (2754, 0.028572629413554707), (2755, 0.031763241836670134), (2756, 0.02019328278836946), (2757, 0.0), (2758, 0.04799369699569584), (2759, 0.013640433686201076), (2760, 0.009067502370128041), (2761, 0.043851053719236435), (2762, 0.016418204931257792), (2763, 0.045635441924799305), (2764, 0.0649461195084425), (2765, 0.022578216779789814), (2766, 0.12464281356203713), (2767, 0.043307218222596776), (2768, 0.015187805513742943), (2769, 0.009045749312965434), (2770, 0.02538396040002478), (2771, 0.027154741486337605), (2772, 0.02082661957720703), (2773, 0.0), (2774, 0.04233463060953525), (2775, 0.00793989844959686), (2776, 0.0), (2777, 0.013160274074458918), (2778, 0.021590485971962066), (2779, 0.012127831488113267), (2780, 0.047822989391531616), (2781, 0.05557582062681518), (2782, 0.026038331550059763), (2783, 0.05419343856809452), (2784, 0.021054681977833414), (2785, 0.02021826771388966), (2786, 0.013073674484826936), (2787, 0.035065799787395165), (2788, 0.023008483304932163), (2789, 0.047010320847113415), (2790, 0.06848749143231707), (2791, 0.08793000213284058), (2792, 0.028526590634572892), (2793, 0.01004145331797195), (2794, 0.04662715382416402), (2795, 0.01702386588847965), (2796, 0.0), (2797, 0.008023343428666277), (2798, 0.046335244631884875), (2799, 0.02268911653993057), (2800, 0.050340529788845984), (2801, 0.020676602288512924), (2802, 0.009123692039450388), (2803, 0.05825269033973278), (2804, 0.0361614063356583), (2805, 0.01865807237456767), (2806, 0.010403179923234609), (2807, 0.06373726679661797), (2808, 0.037062938916318414), (2809, 0.0089169945223911), (2810, 0.028997218803173054), (2811, 0.04280992092497526), (2812, 0.02670423024300552), (2813, 0.06591066147047983), (2814, 0.012884057528917673), (2815, 0.022643961017575966), (2816, 0.007825084269683438), (2817, 0.016663946304242734), (2818, 0.008827545242147093), (2819, 0.04716478404907769), (2820, 0.034474911957302096), (2821, 0.0), (2822, 0.05337962915899048), (2823, 0.03998396466814248), (2824, 0.02652644353748295), (2825, 0.016769582043354346), (2826, 0.05684595644360989), (2827, 0.020159321526259242), (2828, 0.017605517967373203), (2829, 0.0134347929238679), (2830, 0.05091352214166163), (2831, 0.016999322390175275), (2832, 0.0), (2833, 0.01693829560421426), (2834, 0.014386290252695045), (2835, 0.008632969150258081), (2836, 0.008656901985926897), (2837, 0.031589710460861974), (2838, 0.02162662106869373), (2839, 0.01903494083061287), (2840, 0.03870904436955594), (2841, 0.025406098812207064), (2842, 0.046680921350572196), (2843, 0.07533081523213297), (2844, 0.048733444085730555), (2845, 0.017269250955798243), (2846, 0.039691628512561694), (2847, 0.042800406218806764), (2848, 0.042090952610413464), (2849, 0.0206683890404533), (2850, 0.08332176862766973), (2851, 0.0), (2852, 0.0671263481174101), (2853, 0.027021107256078432), (2854, 0.01566552335667054), (2855, 0.010908247360633304), (2856, 0.028413769387280532), (2857, 0.0), (2858, 0.01607351617281857), (2859, 0.11292957059483272), (2860, 0.021958852373851714), (2861, 0.028254442047416388), (2862, 0.02085512220121477), (2863, 0.05237249210424884), (2864, 0.029262538033936903), (2865, 0.0252109347757249), (2866, 0.007431436429259624), (2867, 0.047107871008287144), (2868, 0.008630928093139527), (2869, 0.023832404679835432), (2870, 0.008203929765039038), (2871, 0.01717029988357767), (2872, 0.011575345360710096), (2873, 0.02991073491076724), (2874, 0.015548481530489879), (2875, 0.014277200270403967), (2876, 0.020115608994243243), (2877, 0.04230370981868889), (2878, 0.026947544093066086), (2879, 0.023850265424772074), (2880, 0.01437084166650353), (2881, 0.03188115220590064), (2882, 0.02548239293689864), (2883, 0.061759422750783936), (2884, 0.052819477067031016), (2885, 0.010845876663913475), (2886, 0.03320351954618342), (2887, 0.040410430425482216), (2888, 0.027632161584424143), (2889, 0.033908615580808675), (2890, 0.0), (2891, 0.008292887496578239), (2892, 0.04911331037369637), (2893, 0.008617982266235981), (2894, 0.05192350851817398), (2895, 0.06524711213889178), (2896, 0.029911385855576032), (2897, 0.029121055248290055), (2898, 0.024023669660914633), (2899, 0.03923286513902846), (2900, 0.0), (2901, 0.0), (2902, 0.007918981962120226), (2903, 0.030044332995145598), (2904, 0.03456594559785417), (2905, 0.012866619736869143), (2906, 0.013832127204779285), (2907, 0.02496256865654651), (2908, 0.02193937607606589), (2909, 0.05829757030521355), (2910, 0.05420646765154934), (2911, 0.030632425832872682), (2912, 0.00847397212742253), (2913, 0.02337771266321816), (2914, 0.007160282674816682), (2915, 0.04666996798424105), (2916, 0.007352413926984956), (2917, 0.02483681067286546), (2918, 0.050289247266358555), (2919, 0.03929176022330732), (2920, 0.03964653385070369), (2921, 0.04199338207041595), (2922, 0.03700389232883842), (2923, 0.025555422310066717), (2924, 0.020412758105608952), (2925, 0.0187352059442059), (2926, 0.007028151585513995), (2927, 0.04595646399437091), (2928, 0.007956380541653318), (2929, 0.014566446815439017), (2930, 0.032196416770925516), (2931, 0.04279574610854951), (2932, 0.007764839900136442), (2933, 0.006462748196942647), (2934, 0.0076398047110148755), (2935, 0.018894776693278652), (2936, 0.0), (2937, 0.019423931679978145), (2938, 0.024332653079840547), (2939, 0.014350947695576714), (2940, 0.14168426858773975), (2941, 0.0), (2942, 0.008274773897752765), (2943, 0.017863005636745727), (2944, 0.0440665241898336), (2945, 0.018896059798699464), (2946, 0.012684626099448398), (2947, 0.020464601411635835), (2948, 0.0), (2949, 0.01239925735172992), (2950, 0.027992672043084095), (2951, 0.017496295825710086), (2952, 0.0), (2953, 0.056733691809336614), (2954, 0.017616182139941473), (2955, 0.04192814999284549), (2956, 0.033977530818915344), (2957, 0.01575159720801261), (2958, 0.05548451556509107), (2959, 0.06189090663007733), (2960, 0.025043304268553904), (2961, 0.03627198047042657), (2962, 0.05523108947780378), (2963, 0.0473877246805946), (2964, 0.012553543473008742), (2965, 0.020678867965993622), (2966, 0.01726151234719166), (2967, 0.007982570291629881), (2968, 0.020552073896653658), (2969, 0.026767263684028098), (2970, 0.0), (2971, 0.03638162808620865), (2972, 0.023446629173867452), (2973, 0.006681023378670738), (2974, 0.013495537638268405), (2975, 0.03514811862546944), (2976, 0.03402884134818847), (2977, 0.008303765862791808), (2978, 0.018303025543321392), (2979, 0.013788944714889792), (2980, 0.03264005574872561), (2981, 0.022721370075444884), (2982, 0.026738220705170117), (2983, 0.019741717098398667), (2984, 0.026276537196192662), (2985, 0.008101095942777385), (2986, 0.0220041392982349), (2987, 0.0), (2988, 0.017691714716509082), (2989, 0.030043248585063707), (2990, 0.035651887503920295), (2991, 0.012154664468850752), (2992, 0.025637210237853654), (2993, 0.03221764750685245), (2994, 0.04480140641685049), (2995, 0.018037754492499457), (2996, 0.03572879468292758), (2997, 0.0), (2998, 0.04244217394260541), (2999, 0.0088595211819889), (3000, 0.03981430607754248), (3001, 0.038512908744640584), (3002, 0.03150908484378372), (3003, 0.01877286403315217), (3004, 0.03477345160680052), (3005, 0.0), (3006, 0.006424916240868369), (3007, 0.006932742405881466), (3008, 0.11156562565824764), (3009, 0.0), (3010, 0.009143730030718897), (3011, 0.01874716628489473), (3012, 0.018166699051899934), (3013, 0.0504062846999879), (3014, 0.01269099718865516), (3015, 0.028455090488928574), (3016, 0.0), (3017, 0.0), (3018, 0.036664548993727133), (3019, 0.0), (3020, 0.0), (3021, 0.012194062402474316), (3022, 0.01989162149236732), (3023, 0.014461514162491794), (3024, 0.012825805424920947), (3025, 0.028188867912159504), (3026, 0.01337535332638667), (3027, 0.03542902840951791), (3028, 0.01648092590084834), (3029, 0.0), (3030, 0.038879876219015494), (3031, 0.0517256271736002), (3032, 0.014546489023581076), (3033, 0.014474674817930194), (3034, 0.0), (3035, 0.03690436528783853), (3036, 0.015594438858273166), (3037, 0.011537968330723587), (3038, 0.046756984157999434), (3039, 0.007591405645325857), (3040, 0.04227273137857945), (3041, 0.007566380885233308), (3042, 0.00887510478635655), (3043, 0.03641920324833791), (3044, 0.02109964430526759), (3045, 0.04322204846976282), (3046, 0.05562241942028125), (3047, 0.025354934661911722), (3048, 0.013145854627706188), (3049, 0.01506077434217974), (3050, 0.0), (3051, 0.03410338142869569), (3052, 0.01315089656428645), (3053, 0.015179360819131796), (3054, 0.013643135294032228), (3055, 0.02998323548641933), (3056, 0.025568244749288854), (3057, 0.026449106799000484), (3058, 0.06990341483620661), (3059, 0.006446544397126027), (3060, 0.03891113721842607), (3061, 0.023295324460494142), (3062, 0.015293519170254928), (3063, 0.013893000584012601), (3064, 0.03099470297665842), (3065, 0.02854268959662172), (3066, 0.0483273309657814), (3067, 0.0), (3068, 0.012120480820138698), (3069, 0.057620806045004594), (3070, 0.0201901450874649), (3071, 0.007627381144527023), (3072, 0.008248699152935662), (3073, 0.025011639887720788), (3074, 0.0), (3075, 0.011795375010908167), (3076, 0.02722878434723351), (3077, 0.014851548688696698), (3078, 0.03523384107098439), (3079, 0.035776262375842735), (3080, 0.01937893800741622), (3081, 0.019009241880825964), (3082, 0.0), (3083, 0.04357065891365754), (3084, 0.05059152029616263), (3085, 0.02380652425752132), (3086, 0.007983821664808037), (3087, 0.0), (3088, 0.015119482839934929), (3089, 0.03280791523871988), (3090, 0.029997641381067693), (3091, 0.04597121427895874), (3092, 0.00739636043497363), (3093, 0.025257743416570253), (3094, 0.05229832136604262), (3095, 0.012209158926318358), (3096, 0.02959596074411924), (3097, 0.027789321999003608), (3098, 0.01572302139386375), (3099, 0.04888318710294873), (3100, 0.04200071321121174), (3101, 0.020693891158463856), (3102, 0.04652534615499904), (3103, 0.00831934003365005), (3104, 0.023618261936636346), (3105, 0.06336427633643275), (3106, 0.035906380229626125), (3107, 0.0), (3108, 0.020365579748974166), (3109, 0.012373330523025404), (3110, 0.008392886262751666), (3111, 0.012944469158365656), (3112, 0.059456212766302495), (3113, 0.021524477916620963), (3114, 0.03983038662084131), (3115, 0.02686829837414128), (3116, 0.028507827331553423), (3117, 0.013764286397370987), (3118, 0.007049186321363405), (3119, 0.008828371070839943), (3120, 0.030951368828692448), (3121, 0.03605493704453395), (3122, 0.028252643292591677), (3123, 0.013990686407923605), (3124, 0.044062780437700594), (3125, 0.011678747790709158), (3126, 0.13268187252166777), (3127, 0.012487163332565714), (3128, 0.0), (3129, 0.036557845156375356), (3130, 0.13022190457505747), (3131, 0.13856238572685853), (3132, 0.15515666527629507), (3133, 0.15073539376512252), (3134, 0.13959011407258523), (3135, 0.03112499423496601), (3136, 0.03548360578422893), (3137, 0.08400271855479731), (3138, 0.00708496787418275), (3139, 0.03695609082734518), (3140, 0.030352568500581708), (3141, 0.032279334951732595), (3142, 0.011998884587115857), (3143, 0.03843728979632759), (3144, 0.04550886083118887), (3145, 0.014870176620986348), (3146, 0.0076004101866390325), (3147, 0.056316711820715785), (3148, 0.019095387654455127), (3149, 0.012225371036901706), (3150, 0.0985098381424676), (3151, 0.01433460271864241), (3152, 0.015837571263492636), (3153, 0.08854311482478708), (3154, 0.016089056419778598), (3155, 0.02559045765838605), (3156, 0.041900302571478226), (3157, 0.0), (3158, 0.033088831685179884), (3159, 0.0), (3160, 0.02642599643401105), (3161, 0.0671684836377506), (3162, 0.022282032486874485), (3163, 0.12232410396923965), (3164, 0.016373235257216838), (3165, 0.01341109535631727), (3166, 0.02977591751930898), (3167, 0.051999785356752606), (3168, 0.029203997479114466), (3169, 0.074761161527645), (3170, 0.04335745198962508), (3171, 0.02303792987859277), (3172, 0.026450903530845837), (3173, 0.029792120201507462), (3174, 0.03885783966212683), (3175, 0.0), (3176, 0.0), (3177, 0.0), (3178, 0.008330261372946153), (3179, 0.0349608398396541), (3180, 0.038469883448829706), (3181, 0.01704225632024325), (3182, 0.016383592531894718), (3183, 0.03695408904559526), (3184, 0.05960225907611471), (3185, 0.03275250946675679), (3186, 0.09987652207974866), (3187, 0.029272741490400586), (3188, 0.03343176827640748), (3189, 0.0809180130893018), (3190, 0.08872631432120631), (3191, 0.0545461414099149), (3192, 0.06273360788103019), (3193, 0.054439975781414844), (3194, 0.021080248319877506), (3195, 0.02468430834700476), (3196, 0.016619036304148196), (3197, 0.05125193459010513), (3198, 0.0), (3199, 0.0), (3200, 0.03646223991024062), (3201, 0.034742978712417494), (3202, 0.06156282952909836), (3203, 0.006140744446338411), (3204, 0.009423156934486697), (3205, 0.02382875006977798), (3206, 0.020889155062707276), (3207, 0.029814355611471124), (3208, 0.019557967313885073), (3209, 0.048707142970738956), (3210, 0.04113366446151766), (3211, 0.02692858410945169), (3212, 0.019276965694615556), (3213, 0.03135817019714859), (3214, 0.04682469839618943), (3215, 0.04428729986698253), (3216, 0.017915905121320234), (3217, 0.01966802516759078), (3218, 0.016683998947267537), (3219, 0.008917605744937367), (3220, 0.0356869125105866), (3221, 0.04846582072356825), (3222, 0.0), (3223, 0.028277915346791145), (3224, 0.027967595141784173), (3225, 0.058062100195428554), (3226, 0.0078878872391927), (3227, 0.03968192756196502), (3228, 0.020438059218585238), (3229, 0.06186547507627245), (3230, 0.03595279442866343), (3231, 0.05033255553693845), (3232, 0.047283423711799395), (3233, 0.05628794185343362), (3234, 0.0), (3235, 0.0), (3236, 0.02528729147122466), (3237, 0.024821501272398662), (3238, 0.04220711268515841), (3239, 0.007414525478117764), (3240, 0.020357861642612128), (3241, 0.015191493966318807), (3242, 0.014744394725595706), (3243, 0.0), (3244, 0.012734645253596289), (3245, 0.017114196332808713), (3246, 0.01293032377045267), (3247, 0.03142035203497649), (3248, 0.0), (3249, 0.02463710331676172), (3250, 0.03853815125926986), (3251, 0.0), (3252, 0.014382318672990661), (3253, 0.02475370497764079), (3254, 0.013234267426260111), (3255, 0.0), (3256, 0.013556148869859551), (3257, 0.0), (3258, 0.0069264075922985165), (3259, 0.03253971193948018), (3260, 0.01919633873856315), (3261, 0.0), (3262, 0.008015250771609406), (3263, 0.014572055273619672), (3264, 0.012815092492475342), (3265, 0.008131337012294572), (3266, 0.008238024252745134), (3267, 0.03103810460927845), (3268, 0.007458096665005743), (3269, 0.0), (3270, 0.04166035049659782), (3271, 0.03201324544758444), (3272, 0.043227501550549136), (3273, 0.019290599406383665), (3274, 0.034838834966318594), (3275, 0.0424642749879631), (3276, 0.057242209523432896), (3277, 0.01945444120421605), (3278, 0.02945464120535576), (3279, 0.031167592623993233), (3280, 0.030550866620056374), (3281, 0.009740496506886971), (3282, 0.0), (3283, 0.020457378054404857), (3284, 0.05354276970346315), (3285, 0.0), (3286, 0.09085087043486818), (3287, 0.040821607858885334), (3288, 0.020841030148703674), (3289, 0.015806147256676898), (3290, 0.02829616437548725), (3291, 0.01879233280750621), (3292, 0.008733338387370459), (3293, 0.0033929074183977827), (3294, 0.018607351101326473), (3295, 0.01824087422725802), (3296, 0.020373982764483343), (3297, 0.008077498527950797), (3298, 0.02564233040078354), (3299, 0.009306462302281097), (3300, 0.014080122317550103), (3301, 0.05648981277353813), (3302, 0.024761720154558332), (3303, 0.026223310714351487), (3304, 0.011928238450368356), (3305, 0.039819279340784025), (3306, 0.02254161340672752), (3307, 0.02125369993889989), (3308, 0.058484473794709224), (3309, 0.01927392495510696), (3310, 0.07962299609954243), (3311, 0.05134516326367594), (3312, 0.02484561829239295), (3313, 0.008283912065168287), (3314, 0.023531209730721307), (3315, 0.07418058801802822), (3316, 0.03451465314533213), (3317, 0.022196362243320313), (3318, 0.02142655707186656), (3319, 0.008251853141281174), (3320, 0.0367970746904427), (3321, 0.012167603506261684), (3322, 0.008052202958004288), (3323, 0.015081321641832655), (3324, 0.0), (3325, 0.0), (3326, 0.008026997178170753), (3327, 0.026529989654444676), (3328, 0.023506055567164744), (3329, 0.00801329090181992), (3330, 0.015539082604802815), (3331, 0.007856021376855241), (3332, 0.046165003552934986), (3333, 0.02332309125835335), (3334, 0.023805699267214542), (3335, 0.013009388397858125), (3336, 0.04290743999066075), (3337, 0.045076915604630875), (3338, 0.029674509780811417), (3339, 0.04750807777579295), (3340, 0.035879137380584396), (3341, 0.024083325670874713), (3342, 0.08996514428341564), (3343, 0.06840285784263042), (3344, 0.03936382889601305), (3345, 0.0), (3346, 0.05685158653121075), (3347, 0.0180392294693021), (3348, 0.0), (3349, 0.011802009368468083), (3350, 0.02705755482527601), (3351, 0.05437022545198801), (3352, 0.03477643465923276), (3353, 0.045620880818536116), (3354, 0.0), (3355, 0.036849694353821905), (3356, 0.021923329734914086), (3357, 0.026143549199732503), (3358, 0.06264584525155284), (3359, 0.0), (3360, 0.034313592911750755), (3361, 0.04578986048369993), (3362, 0.04131740944441854), (3363, 0.049633654610835826), (3364, 0.02696818056159081), (3365, 0.03966182761638686), (3366, 0.12008555889787421), (3367, 0.046671649881494755), (3368, 0.04661451830245127), (3369, 0.007951716868451059), (3370, 0.022454288263749303), (3371, 0.0), (3372, 0.0), (3373, 0.04559162790286207), (3374, 0.018553437122270734), (3375, 0.030857047028266197), (3376, 0.0), (3377, 0.010605384501543644), (3378, 0.03288422316758998), (3379, 0.049410041489340445), (3380, 0.0688616804116919), (3381, 0.016056065668563706), (3382, 0.04822470975361996), (3383, 0.006690393462428606), (3384, 0.06160367803202493), (3385, 0.019804919603066913), (3386, 0.04787087000726997), (3387, 0.040786604943401056), (3388, 0.05196182928590724), (3389, 0.007110131501820317), (3390, 0.03770332164016948), (3391, 0.0), (3392, 0.028743381872376378), (3393, 0.052508060495747376), (3394, 0.027245697226719708), (3395, 0.025521699359354652), (3396, 0.0), (3397, 0.03231577291834925), (3398, 0.04595800090335371), (3399, 0.03651565402490399), (3400, 0.00705084630847395), (3401, 0.02567313182776228), (3402, 0.048495524609865934), (3403, 0.10920364463819016), (3404, 0.03635967525426987), (3405, 0.04452989155048709), (3406, 0.04064766109821759), (3407, 0.03114670260752389), (3408, 0.025863840187792593), (3409, 0.0223547715800839), (3410, 0.008399165848491395), (3411, 0.007643169410599813), (3412, 0.0690362126001431), (3413, 0.016587192296613082), (3414, 0.0), (3415, 0.051415598011457564), (3416, 0.05725275209950424), (3417, 0.02301202069865508), (3418, 0.016021660663483726), (3419, 0.019279608450624375), (3420, 0.0), (3421, 0.005903704317612364), (3422, 0.0), (3423, 0.020055064654358003), (3424, 0.00784266415025242), (3425, 0.01229817828085551), (3426, 0.028013465634355892), (3427, 0.0408288727380562), (3428, 0.0), (3429, 0.047360479800927696), (3430, 0.023184811350172137), (3431, 0.006178763437487126), (3432, 0.05048418990287952), (3433, 0.035628205087090636), (3434, 0.017967589072873106), (3435, 0.040007178123728934), (3436, 0.051341563214935174), (3437, 0.012810425918747488), (3438, 0.04628584496219744), (3439, 0.009102850959595352), (3440, 0.03382380512899949), (3441, 0.00794350682573592), (3442, 0.0165351964661642), (3443, 0.035054978427120846), (3444, 0.03197911933673612), (3445, 0.061041734100699574), (3446, 0.040694193163463746), (3447, 0.02917224891897495), (3448, 0.057606154469410434), (3449, 0.021720660713886585), (3450, 0.04194689743467977), (3451, 0.045048900752782006), (3452, 0.04770250603428461), (3453, 0.06019290078597884), (3454, 0.059575320165808264), (3455, 0.0), (3456, 0.007610077512390536), (3457, 0.00861655456788181), (3458, 0.03406670515812131), (3459, 0.040418689775860696), (3460, 0.03558767177780119), (3461, 0.03542317989794453), (3462, 0.03844703432260303), (3463, 0.08985648794681914), (3464, 0.05226640922098176), (3465, 0.014711886434625569), (3466, 0.10442838506310395), (3467, 0.03276213899242091), (3468, 0.058659293876909636), (3469, 0.10690077121772903), (3470, 0.03529400369351082), (3471, 0.027639660401545883), (3472, 0.036548254386892964), (3473, 0.042492985810471826), (3474, 0.015395307379660876), (3475, 0.01810271637956736), (3476, 0.025399237724394237), (3477, 0.03885833566030844), (3478, 0.049492925184326374), (3479, 0.01631293799028861), (3480, 0.02528993709566817), (3481, 0.01322215262645611), (3482, 0.016956590121875153), (3483, 0.023976697227788273), (3484, 0.020214073042078055), (3485, 0.036232422197329354), (3486, 0.03798951071943021), (3487, 0.011278473831353622), (3488, 0.007645635754404369), (3489, 0.021591599625649764), (3490, 0.04415170329883077), (3491, 0.028949231223990388), (3492, 0.04171001043852371), (3493, 0.009318017884981081), (3494, 0.028935724107269318), (3495, 0.022791260070735536), (3496, 0.02987137709471779), (3497, 0.02685196853950258), (3498, 0.0284413888808125), (3499, 0.03359842840838398), (3500, 0.02379597443493885), (3501, 0.0), (3502, 0.021085583075038345), (3503, 0.06104087023644963), (3504, 0.022787144425138905), (3505, 0.018736459888917676), (3506, 0.0), (3507, 0.039913346940499916), (3508, 0.017216930072287397), (3509, 0.025717789611430418), (3510, 0.0), (3511, 0.01606337616251694), (3512, 0.007462235031103982), (3513, 0.018794862475619442), (3514, 0.0479541147043866), (3515, 0.02664892239472988), (3516, 0.0591556363316159), (3517, 0.013535563805035601), (3518, 0.0336471711831994), (3519, 0.03993583964449751), (3520, 0.04701768993446024), (3521, 0.0), (3522, 0.0642966962038894), (3523, 0.0), (3524, 0.01362980361173376), (3525, 0.04519613773039273), (3526, 0.024134494098301054), (3527, 0.04349751764771734), (3528, 0.046187656069209014), (3529, 0.008366246924823144), (3530, 0.0), (3531, 0.02271378452759188), (3532, 0.049106444666897904), (3533, 0.02338555184717507), (3534, 0.03800450949015004), (3535, 0.0), (3536, 0.012772853914224754), (3537, 0.010306171075483584), (3538, 0.023526520093978282), (3539, 0.027531994259616617), (3540, 0.014129984626388908), (3541, 0.024456759256383277), (3542, 0.007262020946711064), (3543, 0.04600018232427775), (3544, 0.0), (3545, 0.0), (3546, 0.017303345078115175), (3547, 0.02039745918224886), (3548, 0.03494718747395215), (3549, 0.03224208976140408), (3550, 0.02457460931409583), (3551, 0.0411730814562694), (3552, 0.0), (3553, 0.0), (3554, 0.015247902701436087), (3555, 0.06060150069612853), (3556, 0.007435294669226677), (3557, 0.029900552748048002), (3558, 0.0), (3559, 0.03587170087656398), (3560, 0.021767246766722724), (3561, 0.018146874688512067), (3562, 0.007611479103209665), (3563, 0.0524894967516422), (3564, 0.02217914601533416), (3565, 0.030525323690545482), (3566, 0.052240621291276566), (3567, 0.06829558252626011), (3568, 0.06520055060415754), (3569, 0.029329266145474278), (3570, 0.01926021648661487), (3571, 0.03111576669447564), (3572, 0.05522307990098661), (3573, 0.019413983103967324), (3574, 0.02336715135907113), (3575, 0.0), (3576, 0.01109220509852526), (3577, 0.018010929084699798), (3578, 0.024128523544062863), (3579, 0.0), (3580, 0.013199525018867102), (3581, 0.0274884463169607), (3582, 0.02998983685795778), (3583, 0.014707019387684463), (3584, 0.06602812496946214), (3585, 0.00711201765068151), (3586, 0.08594183727964597), (3587, 0.07161152325001463), (3588, 0.014109947823598324), (3589, 0.025730849276257434), (3590, 0.006659760841258374), (3591, 0.04090027614440898), (3592, 0.04855180200241599), (3593, 0.037605198657446985), (3594, 0.007489221496637966), (3595, 0.02822442134781729), (3596, 0.01797331174934483), (3597, 0.03487885908170143), (3598, 0.06888975718328468), (3599, 0.03429295089907264), (3600, 0.015148520898260619), (3601, 0.01225601668760861), (3602, 0.04206491993032044), (3603, 0.06903353717454032), (3604, 0.10850828829385474), (3605, 0.03846424676462896), (3606, 0.027821698305562845), (3607, 0.013803488102388708), (3608, 0.015524239142621285), (3609, 0.05518518204595517), (3610, 0.0456859349993584), (3611, 0.049955700434413955), (3612, 0.057308873749763053), (3613, 0.02334427635117917), (3614, 0.03839240261874306), (3615, 0.020843099248925533), (3616, 0.03662909212361058), (3617, 0.013231127257669631), (3618, 0.05182298409258215), (3619, 0.014407973038520133), (3620, 0.00813241393153881), (3621, 0.0331725414971121), (3622, 0.018673405705037262), (3623, 0.08933739052743198), (3624, 0.03927965151118172), (3625, 0.038022462224772666), (3626, 0.0), (3627, 0.007000831823368506), (3628, 0.038984090177396694), (3629, 0.026434321241180753), (3630, 0.044070441344509256), (3631, 0.0214231232272594), (3632, 0.06107642882480249), (3633, 0.013197477596915015), (3634, 0.09691223447851373), (3635, 0.03639484203587356), (3636, 0.0), (3637, 0.02505438132504356), (3638, 0.011902629340345427), (3639, 0.01569676038785512), (3640, 0.049077909645582625), (3641, 0.053458218328710304), (3642, 0.061403441905149875), (3643, 0.021671550931326555), (3644, 0.0088265622707316), (3645, 0.005692543348241101), (3646, 0.10485604398812563), (3647, 0.006834834052145309), (3648, 0.05054234390479208), (3649, 0.03325926932253259), (3650, 0.03220854347256463), (3651, 0.0), (3652, 0.02988055149896802), (3653, 0.028587985809189736), (3654, 0.029039592308926134), (3655, 0.11841980992120676), (3656, 0.033197534822723945), (3657, 0.05495350656169648), (3658, 0.09687444967453128), (3659, 0.04654274617563179), (3660, 0.044530133638127405), (3661, 0.029592507012846072), (3662, 0.02199456070567942), (3663, 0.0), (3664, 0.008219216246386402), (3665, 0.05072725839605904), (3666, 0.061795849833773245), (3667, 0.007832764212008845), (3668, 0.0062585750590538015), (3669, 0.010468339666844517), (3670, 0.05563698958496434), (3671, 0.03298303674479254), (3672, 0.0), (3673, 0.03809949504266731), (3674, 0.008418294585624705), (3675, 0.0), (3676, 0.005891236520818675), (3677, 0.02295905309225418), (3678, 0.008056149592336316), (3679, 0.0), (3680, 0.03593931767496689), (3681, 0.04064046008135763), (3682, 0.023860737250449408), (3683, 0.04022206816982144), (3684, 0.05034311229323864), (3685, 0.027499095469360288), (3686, 0.0), (3687, 0.012461732475516692), (3688, 0.007937197773843404), (3689, 0.03847701892247728), (3690, 0.10592368291884119), (3691, 0.06099572788046344), (3692, 0.054093382186402694), (3693, 0.04514419537798006), (3694, 0.04049408786314297), (3695, 0.1852979227167255), (3696, 0.027625823351140846), (3697, 0.06511118108409017), (3698, 0.05950153842124137), (3699, 0.017049003388744096), (3700, 0.06894015408933835), (3701, 0.12534153862315686), (3702, 0.0198795317423633), (3703, 0.008146682119184873), (3704, 0.0), (3705, 0.02514704712188195), (3706, 0.0574282902705532), (3707, 0.00635563877675951), (3708, 0.04810587420725249), (3709, 0.041797960372186464), (3710, 0.024565502459395216), (3711, 0.027384488148185764), (3712, 0.0), (3713, 0.02166986435384515), (3714, 0.014018488644516065), (3715, 0.007516255594794114), (3716, 0.007444482525021854), (3717, 0.0), (3718, 0.04764606435249127), (3719, 0.025516845457643576), (3720, 0.06255396501660282), (3721, 0.023800314943928855), (3722, 0.01398923285364203), (3723, 0.12103887780445972), (3724, 0.015122297642143092), (3725, 0.04898337814936256), (3726, 0.027799286336558524), (3727, 0.014122597217394249), (3728, 0.02751236888038005), (3729, 0.007811310688266404), (3730, 0.0553045042871427), (3731, 0.017168677963489053), (3732, 0.04092958497745216), (3733, 0.049826432007635785), (3734, 0.06740373225089616), (3735, 0.05892619153496148), (3736, 0.03985689934166632), (3737, 0.03751990565827263), (3738, 0.05274797727587979), (3739, 0.037894295835126206), (3740, 0.031788190163384106), (3741, 0.05917828847260859), (3742, 0.040737774797657056), (3743, 0.03758573131283301), (3744, 0.06224383730929292), (3745, 0.045474010108810387), (3746, 0.034945350450408016), (3747, 0.049405688318935576), (3748, 0.0), (3749, 0.0076843994619363), (3750, 0.0), (3751, 0.05951361623849591), (3752, 0.020479808300685857), (3753, 0.012547042325191484), (3754, 0.008252073198779426), (3755, 0.0), (3756, 0.03090038261708409), (3757, 0.008264839052310298), (3758, 0.019594615522351415), (3759, 0.049225661741995635), (3760, 0.02737505622533168), (3761, 0.0065016896603205905), (3762, 0.019693115837069987), (3763, 0.02818811973121181), (3764, 0.02668935338306424), (3765, 0.01478584197945207), (3766, 0.023087314496276466), (3767, 0.04744032752034548), (3768, 0.014647672031086023), (3769, 0.026101755703986977), (3770, 0.01489939203141728), (3771, 0.047502708595560356), (3772, 0.04288643231974665), (3773, 0.051671517079296986), (3774, 0.040473841526994694), (3775, 0.023587218711381933), (3776, 0.020052487337071816), (3777, 0.04335250072955035), (3778, 0.032371167305267234), (3779, 0.03169347740102098), (3780, 0.034684247558299616), (3781, 0.05310563624460904), (3782, 0.03483481961242602), (3783, 0.11198923153385007), (3784, 0.056412451592162086), (3785, 0.05874141997197008), (3786, 0.08891029505278351), (3787, 0.045502842309625), (3788, 0.013720852533501204), (3789, 0.008180331580842531), (3790, 0.07211449816488606), (3791, 0.013083525323380928), (3792, 0.030633544497589718), (3793, 0.014712661641957059), (3794, 0.018806962273256924), (3795, 0.055210211150819685), (3796, 0.0), (3797, 0.03630970239069854), (3798, 0.06430182127361533), (3799, 0.017133161953360405), (3800, 0.0), (3801, 0.04753526310969747), (3802, 0.007011029120226836), (3803, 0.045826950499002754), (3804, 0.0), (3805, 0.03168417058218575), (3806, 0.018167463734059044), (3807, 0.06138854937329069), (3808, 0.023759159814256886), (3809, 0.03530204522703582), (3810, 0.02248181895776038), (3811, 0.014941409977633227), (3812, 0.08699688420730432), (3813, 0.0112303689692524), (3814, 0.039346425478708605), (3815, 0.040627335863998304), (3816, 0.00921484690185835), (3817, 0.037511480710631484), (3818, 0.037647802741348074), (3819, 0.03149930114071993), (3820, 0.01902060276123584), (3821, 0.01787207810782158), (3822, 0.019911820627688342), (3823, 0.008590804998076306), (3824, 0.01349157087960255), (3825, 0.020695428282852434), (3826, 0.03722720852535412), (3827, 0.017148680342150315), (3828, 0.01729090985605837), (3829, 0.0575559117870805), (3830, 0.00918897175832514), (3831, 0.04736684795941889), (3832, 0.007452782268310715), (3833, 0.0321004059931282), (3834, 0.04976657356337319), (3835, 0.005157559770673144), (3836, 0.026326885612126656), (3837, 0.05318800144295015), (3838, 0.007796019846739833), (3839, 0.03130964187465661), (3840, 0.049580835198832864), (3841, 0.037104626668478295), (3842, 0.02343216324434009), (3843, 0.008071291064938209), (3844, 0.0), (3845, 0.030665621530227078), (3846, 0.06518560472808599), (3847, 0.023929771572258195), (3848, 0.007682579423306165), (3849, 0.036675382696399736), (3850, 0.04484558381700481), (3851, 0.035224817354275385), (3852, 0.020750631218659235), (3853, 0.05251011612804237), (3854, 0.022129744122841383), (3855, 0.007844476977889637), (3856, 0.00709914338064703), (3857, 0.023778153246721292), (3858, 0.04304718535858044), (3859, 0.0505822916794497), (3860, 0.050054065838073133), (3861, 0.029778904047438486), (3862, 0.04262391748373575), (3863, 0.0195717140154976), (3864, 0.02703346711648947), (3865, 0.01794384524201525), (3866, 0.009210692319603872), (3867, 0.033429706547776605), (3868, 0.05563749389911071), (3869, 0.05872286689084099), (3870, 0.041884798544203725), (3871, 0.03570320306430824), (3872, 0.035839185743931454), (3873, 0.04728087293157663), (3874, 0.0), (3875, 0.03799733946926409), (3876, 0.01912268160420922), (3877, 0.08126714338240487), (3878, 0.0), (3879, 0.11537696936971888), (3880, 0.03518010081443967), (3881, 0.013690830767656538), (3882, 0.008027176813012408), (3883, 0.03569788329541751), (3884, 0.0), (3885, 0.01255548870179873), (3886, 0.03450774401223742), (3887, 0.0), (3888, 0.053146974280195325), (3889, 0.017593951007142714), (3890, 0.007452565842827035), (3891, 0.0), (3892, 0.0), (3893, 0.014860552177082062), (3894, 0.014968581653958505), (3895, 0.008475748043924626), (3896, 0.007054842469506261), (3897, 0.01952319822676414), (3898, 0.0173376821610033), (3899, 0.0), (3900, 0.007113055111244951), (3901, 0.031107136951991594), (3902, 0.021894895970221), (3903, 0.07355080886203083), (3904, 0.019589625031773833), (3905, 0.05283377615143571), (3906, 0.03232108452699744), (3907, 0.04588008722877085), (3908, 0.036364300029425464), (3909, 0.04876301371674009), (3910, 0.013791965302511006), (3911, 0.03653076022015346), (3912, 0.015472760050138909), (3913, 0.03567480562427546), (3914, 0.03298111138975143), (3915, 0.023353542437962567), (3916, 0.0663031127015953), (3917, 0.05370441382629914), (3918, 0.011571229842433061), (3919, 0.028663328799541116), (3920, 0.031394942093051305), (3921, 0.0421924667277027), (3922, 0.007622134944660743), (3923, 0.02966899335206376), (3924, 0.03432881890106534), (3925, 0.04078837163101413), (3926, 0.013261741832809561), (3927, 0.0), (3928, 0.006564527831223511), (3929, 0.007121997414285621), (3930, 0.0), (3931, 0.0), (3932, 0.012481311078050006), (3933, 0.03279100899074062), (3934, 0.018533566858938703), (3935, 0.031156396533372283), (3936, 0.007904694025870376), (3937, 0.06327022710020153), (3938, 0.03459659397043591), (3939, 0.07775223009876744), (3940, 0.014513300467209778), (3941, 0.04009244231736582), (3942, 0.0), (3943, 0.02051792572315743), (3944, 0.021669693690870927), (3945, 0.0), (3946, 0.024133495174329517), (3947, 0.018401536386031078), (3948, 0.018259436612695405), (3949, 0.040246096936028035), (3950, 0.0), (3951, 0.006954579747709844), (3952, 0.0), (3953, 0.04188381467857616), (3954, 0.029271605651299715), (3955, 0.04970809575763827), (3956, 0.020368401740781063), (3957, 0.05190242755336906), (3958, 0.04060393826020278), (3959, 0.04151385554723255), (3960, 0.04657395468309135), (3961, 0.07012495685411504), (3962, 0.008060071804362023), (3963, 0.04824627918709619), (3964, 0.0), (3965, 0.052121423301059955), (3966, 0.008007381981852094), (3967, 0.012236139001709986), (3968, 0.06856311631342754), (3969, 0.03534008999617979), (3970, 0.02860149992588361), (3971, 0.023625348413189428), (3972, 0.06829637596212244), (3973, 0.019851403921489236), (3974, 0.0597696502580362), (3975, 0.012118221608092153), (3976, 0.03203713895619415), (3977, 0.03088139246506797), (3978, 0.04823980618499545), (3979, 0.2575684512478189), (3980, 0.07829167319115973), (3981, 0.0), (3982, 0.09852029445564907), (3983, 0.02671798669152515), (3984, 0.006503089930370437), (3985, 0.025980567400741957), (3986, 0.039647361182569604), (3987, 0.041395448314627076), (3988, 0.0), (3989, 0.03420425229899693), (3990, 0.03292378565510983), (3991, 0.027801932041419845), (3992, 0.04839967224687128), (3993, 0.048777779658808904), (3994, 0.02483833658750976), (3995, 0.0), (3996, 0.027952533764921232), (3997, 0.045893919246638375), (3998, 0.04543217488041559), (3999, 0.007908523726986038), (4000, 0.06652907375439004), (4001, 0.10693208398242678), (4002, 0.008220032366315794), (4003, 0.07033560893204845), (4004, 0.031771279839075336), (4005, 0.04174254776186652), (4006, 0.029033974062367168), (4007, 0.028787619022848113), (4008, 0.039448069507739464), (4009, 0.027060500800997585), (4010, 0.05160197906417251), (4011, 0.04365424857332151), (4012, 0.038245755901176626), (4013, 0.03639142351675076), (4014, 0.016671660074681856), (4015, 0.05739409132627617), (4016, 0.032054264173881034), (4017, 0.05842250992932416), (4018, 0.02157064988116563), (4019, 0.11634575816357733), (4020, 0.008100698265859144), (4021, 0.009767101799700167), (4022, 0.019914165854682454), (4023, 0.007690410403667929), (4024, 0.024848621006668514), (4025, 0.014813860790141731), (4026, 0.0), (4027, 0.014001733916943164), (4028, 0.012198094900284588), (4029, 0.03293908462653593), (4030, 0.0), (4031, 0.04891702200588882), (4032, 0.0), (4033, 0.028824363192059672), (4034, 0.03823229647914678), (4035, 0.05965984982043682), (4036, 0.06963296133354047), (4037, 0.022099993545018817), (4038, 0.050802710557484934), (4039, 0.022559830883636445), (4040, 0.007745046861359236), (4041, 0.08178377427242277), (4042, 0.01388772313648693), (4043, 0.022863671631283815), (4044, 0.04313101245769188), (4045, 0.017270663592796474), (4046, 0.02901929391136711), (4047, 0.0), (4048, 0.0), (4049, 0.04772670259130666), (4050, 0.02493262744746226), (4051, 0.021199202294678577), (4052, 0.028847997131221728), (4053, 0.08451318560211722), (4054, 0.016707886511525893), (4055, 0.0594110690794378), (4056, 0.04397782498590259), (4057, 0.022103768870115482), (4058, 0.04078333594359307), (4059, 0.019940620523629812), (4060, 0.022909168005280797), (4061, 0.07090156320237953), (4062, 0.01632648812777688), (4063, 0.02102636577661718), (4064, 0.0), (4065, 0.00991361617275752), (4066, 0.03896624117789296), (4067, 0.0), (4068, 0.029655699443350184), (4069, 0.06692555215513611), (4070, 0.11325610583501891), (4071, 0.020730260198278498), (4072, 0.02729167293861828), (4073, 0.01548862251342913), (4074, 0.029958032865713292), (4075, 0.1117182247695756), (4076, 0.024471651003359005), (4077, 0.036789979893660875), (4078, 0.024004244429106716), (4079, 0.006294752425929549), (4080, 0.027769514511500247), (4081, 0.1693656336120524), (4082, 0.048482126305231465), (4083, 0.0349653307091532), (4084, 0.01947524949460206), (4085, 0.022506559031766585), (4086, 0.036461386405740016), (4087, 0.018064645821477418), (4088, 0.06962011861886902), (4089, 0.03750860383493004), (4090, 0.01577766410850668), (4091, 0.05317452351583585), (4092, 0.0), (4093, 0.03881817905778532), (4094, 0.04709020016641727), (4095, 0.04304673012037572), (4096, 0.03898292126910695), (4097, 0.03821309079666929), (4098, 0.05283529297713932), (4099, 0.06750464062523158), (4100, 0.05673409409452805), (4101, 0.04404584274688548), (4102, 0.02388820350424103), (4103, 0.05612793125840758), (4104, 0.027624978747892846), (4105, 0.03840063813647858), (4106, 0.03617971372870096), (4107, 0.0), (4108, 0.027020927200758355), (4109, 0.007580268490002551), (4110, 0.01465725193919988), (4111, 0.0), (4112, 0.03984051328873775), (4113, 0.03778304713466615), (4114, 0.030410377044665746), (4115, 0.015864847625620057), (4116, 0.061210749283919993), (4117, 0.009106934699290341), (4118, 0.03535792138783023), (4119, 0.044274142636561264), (4120, 0.014796673797008077), (4121, 0.039223355683508376), (4122, 0.060674578202031454), (4123, 0.028182954004852726), (4124, 0.05752703733092063), (4125, 0.05201539092583899), (4126, 0.0), (4127, 0.03954256018430653), (4128, 0.04204175815908512), (4129, 0.019318800579245624), (4130, 0.046202060110800275), (4131, 0.006306442084596355), (4132, 0.06199397561222031), (4133, 0.007053053923000775), (4134, 0.0), (4135, 0.021386736278807696), (4136, 0.05812115034577617), (4137, 0.034419677934793905), (4138, 0.029829238217390336), (4139, 0.022037899718516857), (4140, 0.02428086308637255), (4141, 0.029686770991234998), (4142, 0.06784831896861511), (4143, 0.06948996354309749), (4144, 0.04175405629779921), (4145, 0.02494050304010905), (4146, 0.041369671803544145), (4147, 0.03789127546060185), (4148, 0.06567137056961492), (4149, 0.013800202856037308), (4150, 0.039729307988680594), (4151, 0.009117708682529332), (4152, 0.05842262269837103), (4153, 0.04658719538680634), (4154, 0.02822650820561258), (4155, 0.019165454239098257), (4156, 0.039070453516896225), (4157, 0.01370632011191255), (4158, 0.027346134281250878), (4159, 0.05137290457113272), (4160, 0.029139525195221568), (4161, 0.028699164353974772), (4162, 0.06717524778468795), (4163, 0.013876793092228681), (4164, 0.04184919125450477), (4165, 0.054351723628988366), (4166, 0.011643714555118586), (4167, 0.02029546034983647), (4168, 0.03495075860402333), (4169, 0.026023989498990686), (4170, 0.012338098579565701), (4171, 0.020864274942263082), (4172, 0.015320018283106383), (4173, 0.0573120522567373), (4174, 0.015625859314601753), (4175, 0.020325272383150746), (4176, 0.03736967193938032), (4177, 0.019405036057056898), (4178, 0.06231740457082122), (4179, 0.03606823006269216), (4180, 0.012635747005980955), (4181, 0.08444939142480609), (4182, 0.01949164474649237), (4183, 0.0313382247025312), (4184, 0.0183405342291052), (4185, 0.06004476550121751), (4186, 0.03953591819321882), (4187, 0.05324747427463838), (4188, 0.0376472320121216), (4189, 0.04368740724240386), (4190, 0.0), (4191, 0.021904032945832874), (4192, 0.022911529703946446), (4193, 0.04196376343177793), (4194, 0.02971706914638905), (4195, 0.025249570891176847), (4196, 0.018147225258534766), (4197, 0.013748562369219293), (4198, 0.008131939806599264), (4199, 0.01829481335160562), (4200, 0.020555494029064973), (4201, 0.0), (4202, 0.045776584567716494), (4203, 0.018807776451706566), (4204, 0.013174139172515637), (4205, 0.023165669429553948), (4206, 0.007792312903541198), (4207, 0.01561397203115612), (4208, 0.019230805904051233), (4209, 0.029997786256166975), (4210, 0.03667337283328005), (4211, 0.06497339214501252), (4212, 0.007990197547712982), (4213, 0.04853463575027776), (4214, 0.008611691534976023), (4215, 0.006229058506617226), (4216, 0.02876715505509209), (4217, 0.012147597087468648), (4218, 0.05194564633820426), (4219, 0.01466699336017268), (4220, 0.007672141467701076), (4221, 0.027066301020721474), (4222, 0.0), (4223, 0.04365933805055075), (4224, 0.04670409707923172), (4225, 0.02459109862182009), (4226, 0.015151114073479785), (4227, 0.04747223143937088), (4228, 0.015411062648790462), (4229, 0.010069811620023154), (4230, 0.0), (4231, 0.037064313237226046), (4232, 0.04715596671139187), (4233, 0.0982615806317786), (4234, 0.04844818784616978), (4235, 0.0240247430064259), (4236, 0.023356989624067254), (4237, 0.013329564187371933), (4238, 0.055747649314464756), (4239, 0.014755065840715655), (4240, 0.0537034274974026), (4241, 0.057019665270303055), (4242, 0.0714463739445108), (4243, 0.010898738623641789), (4244, 0.04014616239319709), (4245, 0.06535365698526817), (4246, 0.047800957102403806), (4247, 0.05097505708520584), (4248, 0.030976106807981005), (4249, 0.028633886743137146), (4250, 0.006317822137827214), (4251, 0.0), (4252, 0.02119225635686254), (4253, 0.025733670651587128), (4254, 0.012838392680783375), (4255, 0.06236444412811711), (4256, 0.03446082393784958), (4257, 0.04550776582924135), (4258, 0.067507826231198), (4259, 0.05256514053161746), (4260, 0.0), (4261, 0.06420714194818246), (4262, 0.012258542969271148), (4263, 0.03564621112933724), (4264, 0.04047628827346185), (4265, 0.04412397455327979), (4266, 0.023058951686636277), (4267, 0.04586217475033217), (4268, 0.030385430301181057), (4269, 0.016235531971861197), (4270, 0.045822462184960014), (4271, 0.0), (4272, 0.07342351199063164), (4273, 0.025880653271990364), (4274, 0.07728575966624598), (4275, 0.04062212699745963), (4276, 0.01871924215725386), (4277, 0.04014592300664931), (4278, 0.020124608790703748), (4279, 0.042871798491550775), (4280, 0.03615230599623367), (4281, 0.05907469848568258), (4282, 0.01733039347046625), (4283, 0.06851739943563201), (4284, 0.03618241450761178), (4285, 0.0211024592293642), (4286, 0.03094914548545252), (4287, 0.025591222191631242), (4288, 0.02816761339449651), (4289, 0.0833238933502914), (4290, 0.02277621891738595), (4291, 0.03263408554362108), (4292, 0.03702866316668964), (4293, 0.014815347941053264), (4294, 0.05644808422129591), (4295, 0.028061503321021475), (4296, 0.039672070385049746), (4297, 0.01470517523764608), (4298, 0.02429678472555957), (4299, 0.08418127461030786), (4300, 0.03674030183226655), (4301, 0.005415292150314233), (4302, 0.012628638803630757), (4303, 0.030969849669045934), (4304, 0.02282218481715247), (4305, 0.037662759207883895), (4306, 0.054475558872364896), (4307, 0.02644211048350717), (4308, 0.041714580295769806), (4309, 0.04954543058987367), (4310, 0.04050339467219909), (4311, 0.01070910434964891), (4312, 0.014451614638947192), (4313, 0.04370704995862117), (4314, 0.022501977886805934), (4315, 0.007698693689296971), (4316, 0.012813645695907332), (4317, 0.007191639501362823), (4318, 0.02443221472283878), (4319, 0.022306313738851606), (4320, 0.07539231520718777), (4321, 0.02427676684194715), (4322, 0.029681507586156314), (4323, 0.08062352784673345), (4324, 0.06559966659962421), (4325, 0.02042439681995238), (4326, 0.006082374400442631), (4327, 0.011943110384787518), (4328, 0.04797330594310157), (4329, 0.02981650478077008), (4330, 0.03968703824905131), (4331, 0.033815539048923086), (4332, 0.02326190630442427), (4333, 0.02541440166560531), (4334, 0.035980447572890935), (4335, 0.024229155172805144), (4336, 0.025070940865408904), (4337, 0.025062399559925248), (4338, 0.07920032386733974), (4339, 0.05469657257380581), (4340, 0.024796168264009325), (4341, 0.03654331813776769), (4342, 0.013897849131057311), (4343, 0.024863249572160004), (4344, 0.042343216046512575), (4345, 0.06326687753506172), (4346, 0.03491079005497213), (4347, 0.04478695346040153), (4348, 0.04088203671047313), (4349, 0.02295824699599086), (4350, 0.019744358419467204), (4351, 0.031627389301844944), (4352, 0.0), (4353, 0.09923225912440853), (4354, 0.054662424383045416), (4355, 0.008051717759516444), (4356, 0.019874303490024434), (4357, 0.038511783595504445), (4358, 0.035790067035595674), (4359, 0.04983825408265186), (4360, 0.027802961022849675), (4361, 0.018543489159117223), (4362, 0.015043286755811378), (4363, 0.02551045054526655), (4364, 0.02502558539432126), (4365, 0.020631763683168644), (4366, 0.05919141127763129), (4367, 0.03216347557597518), (4368, 0.03469765194806158), (4369, 0.025085767819479885), (4370, 0.1042091955337993), (4371, 0.026478583234406782), (4372, 0.0), (4373, 0.041773278247988675), (4374, 0.04360267086449211), (4375, 0.0434187714279566), (4376, 0.033573214305913396), (4377, 0.03376067276701364), (4378, 0.06253429861754463), (4379, 0.05385405293609783), (4380, 0.0), (4381, 0.03174808975480911), (4382, 0.03545250163685858), (4383, 0.018761332881555938), (4384, 0.034759538501281106), (4385, 0.05601675999591483), (4386, 0.018065554726282088), (4387, 0.015490470453793327), (4388, 0.02815362482333906), (4389, 0.027917715294297325), (4390, 0.025004610208506823), (4391, 0.022532030394289797), (4392, 0.0468811982828123), (4393, 0.01917607752083131), (4394, 0.032467128081542215), (4395, 0.012527111995270917), (4396, 0.020647702994745692), (4397, 0.0195074273609097), (4398, 0.008403881728335429), (4399, 0.026498896671590624), (4400, 0.06649038361522124), (4401, 0.12353567147945464), (4402, 0.008790710829368404), (4403, 0.015955177494185863), (4404, 0.030295888207310183), (4405, 0.0148753648543028), (4406, 0.08644752435993654), (4407, 0.0), (4408, 0.028042701238675256), (4409, 0.014744419030173058), (4410, 0.055667740933787756), (4411, 0.022586973512593138), (4412, 0.0), (4413, 0.02325665355366169), (4414, 0.02577402175805437), (4415, 0.015297474767015496), (4416, 0.025969576284127337), (4417, 0.014863529203588181), (4418, 0.01581673924055031), (4419, 0.032059148661543), (4420, 0.0210562555937649), (4421, 0.034953473784030034), (4422, 0.025536044916975663), (4423, 0.0), (4424, 0.0), (4425, 0.0), (4426, 0.0070192540578933055), (4427, 0.012262658663793134), (4428, 0.07494741792334259), (4429, 0.035959855107493416), (4430, 0.032132965484038), (4431, 0.03434045077156965), (4432, 0.037947542942770605), (4433, 0.031310806748784184), (4434, 0.014618437925213227), (4435, 0.03404665266512727), (4436, 0.051731740936927895), (4437, 0.0), (4438, 0.03362251334695701), (4439, 0.020704871889771912), (4440, 0.02202858239737142), (4441, 0.029230299583940765), (4442, 0.021715906002222007), (4443, 0.10859167594336241), (4444, 0.053844793743474076), (4445, 0.012207698628219467), (4446, 0.023257925231316007), (4447, 0.07336705106361632), (4448, 0.014561604010678802), (4449, 0.014264471370879255), (4450, 0.036328614763317654), (4451, 0.025117527275264694), (4452, 0.016856683845038425), (4453, 0.07352765848295621), (4454, 0.0733001345394252), (4455, 0.031290679475883), (4456, 0.05728139654941085), (4457, 0.06772980269904917), (4458, 0.017673995663247708), (4459, 0.05018703782813473), (4460, 0.025401750622428755), (4461, 0.010218725643070917), (4462, 0.05784579718372142), (4463, 0.013213317007201873), (4464, 0.023531973513436166), (4465, 0.049128715536534424), (4466, 0.048139001289714156), (4467, 0.04941488529125112), (4468, 0.017349699918486373), (4469, 0.0), (4470, 0.048139136969560264), (4471, 0.023689910599386403), (4472, 0.029780240392944562), (4473, 0.01517087424025603), (4474, 0.04664223638756003), (4475, 0.0069009246208616695), (4476, 0.03574034123309634), (4477, 0.04783764545981457), (4478, 0.05363536380821399), (4479, 0.024639276482420952), (4480, 0.0), (4481, 0.02869517330015034), (4482, 0.057817599363414504), (4483, 0.03582218018833343), (4484, 0.02842630544544123), (4485, 0.01706743982493059), (4486, 0.03540414367376962), (4487, 0.01774416838948604), (4488, 0.019546596040998027), (4489, 0.03260137888019886), (4490, 0.02014456587281341), (4491, 0.02237836792267061), (4492, 0.01888968563649937), (4493, 0.07498223786109583), (4494, 0.02940523358952663), (4495, 0.036336207394409646), (4496, 0.03626803165431716), (4497, 0.030565418260131476), (4498, 0.01981475309037361), (4499, 0.011347055371618925), (4500, 0.0), (4501, 0.034709072142876794), (4502, 0.021300164429462566), (4503, 0.03138526470085821), (4504, 0.03141372410867552), (4505, 0.014948615724114243), (4506, 0.03633170471806017), (4507, 0.03819658778060166), (4508, 0.0), (4509, 0.06006332188406293), (4510, 0.026192828399878944), (4511, 0.04098267035441637), (4512, 0.010724703276304008), (4513, 0.018333614609064554), (4514, 0.00704587959791853), (4515, 0.0), (4516, 0.05097496788368381), (4517, 0.010603039986538351), (4518, 0.022190423488193965), (4519, 0.0170322537307424), (4520, 0.007657776067706653), (4521, 0.0), (4522, 0.0), (4523, 0.08963155226314815), (4524, 0.02664100965124371), (4525, 0.04936908082783355), (4526, 0.026639510816500074), (4527, 0.035422813588309315), (4528, 0.059187007531161184), (4529, 0.03081689481266712), (4530, 0.025950869113102175), (4531, 0.041086028357028265), (4532, 0.014521718298340876), (4533, 0.05274865283355237), (4534, 0.05561666833566126), (4535, 0.05082574808802003), (4536, 0.011608065505906078), (4537, 0.019078627835910883), (4538, 0.03989515402991199), (4539, 0.019898657083558265), (4540, 0.0), (4541, 0.0), (4542, 0.0416190127536099), (4543, 0.01363760772736504), (4544, 0.0151710296930913), (4545, 0.008472265130808617), (4546, 0.0), (4547, 0.012455860918093344), (4548, 0.026236056754834404), (4549, 0.02680530430071293), (4550, 0.04509653307974679), (4551, 0.04863501699380114), (4552, 0.03912800853847046), (4553, 0.031312808323951086), (4554, 0.029861875069924958), (4555, 0.009614610183803957), (4556, 0.007727269040932983), (4557, 0.07828107057701368), (4558, 0.03828183695935329), (4559, 0.012373489554907868), (4560, 0.0189943820327459), (4561, 0.0), (4562, 0.04319688517762017), (4563, 0.04396515148534927), (4564, 0.07917408136157314), (4565, 0.015852679234930424), (4566, 0.0318936281817289), (4567, 0.0), (4568, 0.024974481337650685), (4569, 0.04279219363873952), (4570, 0.019669033264506648), (4571, 0.0), (4572, 0.0), (4573, 0.017263551749193338), (4574, 0.03726939793249875), (4575, 0.044475570379313496), (4576, 0.056797791035558196), (4577, 0.02701167223555942), (4578, 0.0), (4579, 0.013826553027941762), (4580, 0.02098648079098302), (4581, 0.05832930348707485), (4582, 0.02385273955757018), (4583, 0.019922650224596328), (4584, 0.02429294214190663), (4585, 0.034273594134002466), (4586, 0.027860255948325165), (4587, 0.0343353248503649), (4588, 0.05503048199589596), (4589, 0.0521843629969515), (4590, 0.05274155586106344), (4591, 0.03652377935486438), (4592, 0.007238868901333923), (4593, 0.0178419172984498), (4594, 0.00790999888381924), (4595, 0.024416605511990205), (4596, 0.019671487409321318), (4597, 0.04413048121596056), (4598, 0.005592494099671859), (4599, 0.030293356404524394), (4600, 0.03903164397531468), (4601, 0.0416992379278049), (4602, 0.020705017956607896), (4603, 0.03530103124553009), (4604, 0.0071465046200885375), (4605, 0.02277054668500876), (4606, 0.02726946454993845), (4607, 0.0), (4608, 0.028393054106288243), (4609, 0.08728954744456797), (4610, 0.023500294417941103), (4611, 0.03368965527942051), (4612, 0.030295082494474133), (4613, 0.09478633759951216), (4614, 0.03432586991797636), (4615, 0.04843601294154474), (4616, 0.012359057050976799), (4617, 0.008293191259461876), (4618, 0.0), (4619, 0.012947176839393488), (4620, 0.03310548734983456), (4621, 0.027101726525970378), (4622, 0.007145174103633476), (4623, 0.018397634643354532), (4624, 0.03639811385509481), (4625, 0.018636902779575998), (4626, 0.027668920891618657), (4627, 0.022613545706798778), (4628, 0.025888281893625735), (4629, 0.028991184905653042), (4630, 0.057591683124946245), (4631, 0.0072626468956524795), (4632, 0.030572149132502575), (4633, 0.05904323528341999), (4634, 0.008373898706308495), (4635, 0.016312832746313267), (4636, 0.029096633709707095), (4637, 0.007739591609749437), (4638, 0.02100801979843192), (4639, 0.04483353678852794), (4640, 0.05103202974747668), (4641, 0.061423102223070916), (4642, 0.03316357063068401), (4643, 0.03154670383437311), (4644, 0.0), (4645, 0.0), (4646, 0.02419066125849168), (4647, 0.03936620974618561), (4648, 0.01357877679356552), (4649, 0.04895179007026435), (4650, 0.0), (4651, 0.014107421643656033), (4652, 0.009918178534132528), (4653, 0.039596730351525875), (4654, 0.0), (4655, 0.03497465972087847), (4656, 0.0306947361288012), (4657, 0.0), (4658, 0.008977263022593027), (4659, 0.028776435176178658), (4660, 0.0), (4661, 0.03990719037909066), (4662, 0.03147389981982351), (4663, 0.06904399158567526), (4664, 0.03459133180416114), (4665, 0.019105338193353513), (4666, 0.014857056118160872), (4667, 0.02186618842132129), (4668, 0.049812548217598604), (4669, 0.03434387672394472), (4670, 0.01372135038421791), (4671, 0.0), (4672, 0.027577819515800336), (4673, 0.04119603210520231), (4674, 0.03566217470653135), (4675, 0.029747002918383246), (4676, 0.04894620635517452), (4677, 0.0253707899327539), (4678, 0.0438937927400431), (4679, 0.025295704753982975), (4680, 0.025203820123737074), (4681, 0.0), (4682, 0.06130450769561657), (4683, 0.020143070581258575), (4684, 0.034469199664857855), (4685, 0.026340477518097184), (4686, 0.023188350494550654), (4687, 0.02312912074899254), (4688, 0.024281497653013115), (4689, 0.00800195576304596), (4690, 0.04416349717293973), (4691, 0.01375880777428928), (4692, 0.014688629237289802), (4693, 0.0), (4694, 0.0), (4695, 0.02996326938976442), (4696, 0.01307248720726719), (4697, 0.02805576029326669), (4698, 0.006970633955434794), (4699, 0.007853254611414787), (4700, 0.015318608162341155), (4701, 0.012343306694643298), (4702, 0.007690128163187832), (4703, 0.03973505312921478), (4704, 0.02423157271962527), (4705, 0.015848222912074567), (4706, 0.0), (4707, 0.023482454260385307), (4708, 0.028703291376453513), (4709, 0.021512991668807616), (4710, 0.008228970907534678), (4711, 0.0), (4712, 0.0), (4713, 0.01914917823351042), (4714, 0.007735741178395991), (4715, 0.028455186148544954), (4716, 0.02384850957779297), (4717, 0.015832308009350517), (4718, 0.026774880275041636), (4719, 0.0), (4720, 0.0068836875555911906), (4721, 0.014213332526685836), (4722, 0.007571391277488338), (4723, 0.04054716982948266), (4724, 0.0), (4725, 0.03108546153559548), (4726, 0.027431729431575645), (4727, 0.013844354670353349), (4728, 0.012213684783362617), (4729, 0.0059097126635599935), (4730, 0.012076897281166569), (4731, 0.02014239061140565), (4732, 0.020911790318129522), (4733, 0.024050293584173515), (4734, 0.027087681172124727), (4735, 0.0), (4736, 0.024258222960148425), (4737, 0.025005167579130058), (4738, 0.02060406646267936), (4739, 0.02999778504977306), (4740, 0.007593509880345687), (4741, 0.025116381759154694), (4742, 0.03800696324904099), (4743, 0.013856444547061718), (4744, 0.010425404866233213), (4745, 0.02585439558377934), (4746, 0.0), (4747, 0.02547739618835196), (4748, 0.030333223750897406), (4749, 0.060926449755562384), (4750, 0.0), (4751, 0.0068337072823872694), (4752, 0.01194135827280678), (4753, 0.0), (4754, 0.041334375900982136), (4755, 0.03561656932514931), (4756, 0.0), (4757, 0.012299279075249745), (4758, 0.021110048558339603), (4759, 0.00909293867579904)]\n"
     ]
    }
   ],
   "source": [
    "print(Recommendation_Score)"
   ]
  },
  {
   "cell_type": "code",
   "execution_count": 34,
   "id": "e5b863fb",
   "metadata": {},
   "outputs": [
    {
     "data": {
      "text/plain": [
       "4760"
      ]
     },
     "execution_count": 34,
     "metadata": {},
     "output_type": "execute_result"
    }
   ],
   "source": [
    "len(Recommendation_Score)"
   ]
  },
  {
   "cell_type": "markdown",
   "id": "e650f753",
   "metadata": {},
   "source": [
    "# Get All Movies Sort Based on Recommendation Score with respect to (wrt) Favourite Movie"
   ]
  },
  {
   "cell_type": "markdown",
   "id": "bacaaedd",
   "metadata": {},
   "source": [
    "## Sorting the Movies Based on Their Similarity Score"
   ]
  },
  {
   "cell_type": "code",
   "execution_count": 35,
   "id": "d5bb14e1",
   "metadata": {},
   "outputs": [],
   "source": [
    "Sorted_Similar_Movies = sorted(Recommendation_Score, key = lambda x:x[1], reverse = True)"
   ]
  },
  {
   "cell_type": "code",
   "execution_count": 36,
   "id": "d5d12a05",
   "metadata": {},
   "outputs": [
    {
     "name": "stdout",
     "output_type": "stream",
     "text": [
      "[(231, 1.0), (232, 0.7846681912559241), (230, 0.6747972702234764), (615, 0.37564336245814284), (3979, 0.2575684512478189), (1548, 0.24272216805969468), (3695, 0.1852979227167255), (451, 0.18415720310758146), (614, 0.18251866788805018), (2036, 0.18215203781707484), (4081, 0.1693656336120524), (765, 0.16665586139395117), (1292, 0.16645898246290516), (1512, 0.16279587146495267), (2510, 0.16130262566943537), (1982, 0.1598923063141243), (3132, 0.15515666527629507), (994, 0.1544162362518546), (635, 0.15264365992212325), (1009, 0.15186764177702758), (666, 0.15134976117325508), (218, 0.15129155945344613), (3133, 0.15073539376512252), (850, 0.14881132947507397), (2940, 0.14168426858773975), (3134, 0.13959011407258523), (3131, 0.13856238572685853), (1346, 0.1383519085674339), (1365, 0.1376254570141222), (2035, 0.1335958047638288), (3126, 0.13268187252166777), (3130, 0.13022190457505747), (1842, 0.12781583761160847), (490, 0.12601244664049308), (3701, 0.12534153862315686), (2766, 0.12464281356203713), (1848, 0.12435033853408893), (4401, 0.12353567147945464), (1382, 0.12327842550219134), (3163, 0.12232410396923965), (1265, 0.12205697612023023), (3723, 0.12103887780445972), (1666, 0.12061199770559533), (2582, 0.12046898630242314), (3366, 0.12008555889787421), (3655, 0.11841980992120676), (85, 0.11764505593525151), (275, 0.11758012140483488), (339, 0.1173578196114836), (702, 0.11662714788365465), (4019, 0.11634575816357733), (751, 0.11589872950594599), (1599, 0.11543048055700118), (3879, 0.11537696936971888), (2085, 0.113543090530822), (1549, 0.11342975275801406), (169, 0.11340247011966655), (4070, 0.11325610583501891), (2859, 0.11292957059483272), (3783, 0.11198923153385007), (4075, 0.1117182247695756), (3008, 0.11156562565824764), (1762, 0.11123414216490979), (594, 0.11084049164313249), (21, 0.1102933374507866), (338, 0.11018117555967953), (598, 0.10927551878456407), (3403, 0.10920364463819016), (1494, 0.10908532881629551), (4443, 0.10859167594336241), (3604, 0.10850828829385474), (2541, 0.10784899006861873), (464, 0.10726390131616953), (4001, 0.10693208398242678), (3469, 0.10690077121772903), (3690, 0.10592368291884119), (15, 0.10570506725030018), (3646, 0.10485604398812563), (1579, 0.10472721556195219), (1335, 0.10457890789386357), (3466, 0.10442838506310395), (4370, 0.1042091955337993), (567, 0.10408637214874432), (150, 0.10325519853772971), (1489, 0.10323353619862925), (1621, 0.1031676689969983), (359, 0.10315204650895377), (525, 0.10272835869539716), (654, 0.10154439383891964), (898, 0.10080420948527599), (337, 0.1007272477942491), (931, 0.10009863643197697), (3186, 0.09987652207974866), (1698, 0.09964457901441715), (4353, 0.09923225912440853), (3982, 0.09852029445564907), (3150, 0.0985098381424676), (4233, 0.0982615806317786), (3634, 0.09691223447851373), (3658, 0.09687444967453128), (2691, 0.09552363488846127), (4613, 0.09478633759951216), (2567, 0.09147989674674062), (1900, 0.09113912484310287), (995, 0.09091792958501184), (3286, 0.09085087043486818), (472, 0.0906052031134434), (3342, 0.08996514428341564), (3463, 0.08985648794681914), (4523, 0.08963155226314815), (3623, 0.08933739052743198), (1246, 0.08918387972514763), (41, 0.08911629401550683), (3786, 0.08891029505278351), (3190, 0.08872631432120631), (1398, 0.08863231052942817), (3153, 0.08854311482478708), (2250, 0.08848717862042389), (1603, 0.08825500527056192), (2791, 0.08793000213284058), (1324, 0.08791242276545241), (1798, 0.08783742257073157), (355, 0.08738479230258996), (4609, 0.08728954744456797), (1233, 0.08705717581724202), (3812, 0.08699688420730432), (1510, 0.0866761876243004), (4406, 0.08644752435993654), (1375, 0.0861983092564715), (1394, 0.08608575389319978), (3586, 0.08594183727964597), (118, 0.08581287045501644), (222, 0.08533308987873654), (2494, 0.08521779417149336), (4053, 0.08451318560211722), (4181, 0.08444939142480609), (1072, 0.08431885429923858), (4299, 0.08418127461030786), (3137, 0.08400271855479731), (2672, 0.08399160760959863), (2641, 0.08374229085446715), (1965, 0.08343797263325811), (4289, 0.0833238933502914), (2850, 0.08332176862766973), (2294, 0.08328838809587814), (278, 0.0825133828612073), (550, 0.0823278578434517), (1007, 0.08228077716781967), (4041, 0.08178377427242277), (3877, 0.08126714338240487), (1305, 0.08121918942343331), (1799, 0.08109830214763832), (3189, 0.0809180130893018), (977, 0.08079425337261512), (4323, 0.08062352784673345), (565, 0.08052759605784751), (756, 0.08041704971861215), (580, 0.08031401164599264), (2162, 0.07986722895382457), (1249, 0.07976699510266001), (3310, 0.07962299609954243), (297, 0.07933965585306849), (752, 0.07924897232328829), (4338, 0.07920032386733974), (4564, 0.07917408136157314), (1368, 0.07908123395915735), (1357, 0.07887109879082263), (674, 0.07865793730742876), (961, 0.07846844912878885), (264, 0.07838825967856503), (1051, 0.07834393538162135), (3980, 0.07829167319115973), (4557, 0.07828107057701368), (1986, 0.07822102977483965), (2529, 0.0781048505918575), (1172, 0.07777868271318276), (3939, 0.07775223009876744), (1349, 0.07766094425474561), (17, 0.07763523053466856), (928, 0.077413822043611), (491, 0.07738894200893759), (1082, 0.07729110390171916), (4274, 0.07728575966624598), (919, 0.07728006401286368), (2381, 0.07690093596017981), (298, 0.07673771560893046), (1539, 0.07650549486861685), (988, 0.07649227489724067), (1162, 0.0764364908453195), (1566, 0.07633420370474528), (699, 0.075909568906108), (653, 0.07581322920399491), (4320, 0.07539231520718777), (2843, 0.07533081523213297), (171, 0.07531491010021041), (1281, 0.07531352291010666), (795, 0.07527445474978287), (1362, 0.07512313344242995), (5, 0.07510406425171948), (4493, 0.07498223786109583), (1669, 0.0749695222251014), (4428, 0.07494741792334259), (1458, 0.07491444586443512), (2729, 0.07484342610203358), (3169, 0.074761161527645), (1515, 0.07437610641667329), (2330, 0.07420217440403258), (2254, 0.07420087249339008), (3315, 0.07418058801802822), (2007, 0.07407732839755114), (332, 0.07397348701290268), (1286, 0.07380421451303426), (854, 0.07367084100194933), (1645, 0.07364896643696331), (410, 0.0736422632942759), (1997, 0.07357693248228135), (3903, 0.07355080886203083), (4453, 0.07352765848295621), (4272, 0.07342351199063164), (4447, 0.07336705106361632), (1587, 0.07332119135342921), (4454, 0.0733001345394252), (448, 0.0732282306870778), (2144, 0.07322003650109693), (1437, 0.07321916169863918), (830, 0.07319667118738922), (1381, 0.07316540642506243), (220, 0.07302878647258726), (6, 0.07266327909496363), (2574, 0.07248052327500082), (681, 0.07243840150243043), (851, 0.07228319241632551), (1419, 0.07224354306064595), (514, 0.07216937834816685), (3790, 0.07211449816488606), (350, 0.07206675628830503), (1890, 0.07205259002579908), (2043, 0.0719256443790803), (234, 0.07191494293086839), (1426, 0.0717409682622552), (1911, 0.07173663863467007), (3587, 0.07161152325001463), (2555, 0.07157779750865213), (1239, 0.07146953024358219), (1226, 0.07145677930633937), (4242, 0.0714463739445108), (1702, 0.07140786040670113), (692, 0.07139210299331013), (856, 0.07115634296026464), (2710, 0.07109772453248452), (487, 0.07093560981944158), (4061, 0.07090156320237953), (1580, 0.07064548054112604), (1261, 0.07037982834022437), (4003, 0.07033560893204845), (2184, 0.07021166184847158), (3961, 0.07012495685411504), (3058, 0.06990341483620661), (1616, 0.06990083070711399), (227, 0.06983828300186745), (563, 0.06970706960507428), (2728, 0.06967248321626796), (4036, 0.06963296133354047), (4088, 0.06962011861886902), (630, 0.06958923405969836), (2406, 0.06950003121815859), (4143, 0.06948996354309749), (887, 0.06940353735732357), (478, 0.06932041672512865), (4663, 0.06904399158567526), (3412, 0.0690362126001431), (3603, 0.06903353717454032), (3700, 0.06894015408933835), (3598, 0.06888975718328468), (2084, 0.06887813547565913), (3380, 0.0688616804116919), (899, 0.06881508488170923), (2682, 0.06865535919720041), (1524, 0.06862581857993912), (3968, 0.06856311631342754), (4283, 0.06851739943563201), (2790, 0.06848749143231707), (384, 0.06845997327610599), (1496, 0.06845027270838153), (3343, 0.06840285784263042), (639, 0.06836752942514801), (1387, 0.06831051993510205), (3972, 0.06829637596212244), (3567, 0.06829558252626011), (591, 0.06821324366601347), (211, 0.06817544080721658), (247, 0.06806859627611347), (4142, 0.06784831896861511), (1294, 0.06784018111195751), (2745, 0.0677927020363187), (1729, 0.06777999162520162), (4457, 0.06772980269904917), (2575, 0.06768648785365564), (306, 0.06762924814494584), (2067, 0.06761333745165667), (191, 0.06760359350076334), (1983, 0.06756084980472339), (2151, 0.06751836011968752), (4258, 0.067507826231198), (4099, 0.06750464062523158), (3734, 0.06740373225089616), (2066, 0.06735557855160774), (2649, 0.06723758599177426), (4162, 0.06717524778468795), (3161, 0.0671684836377506), (865, 0.06714755344454582), (2852, 0.0671263481174101), (446, 0.06698611659999092), (4069, 0.06692555215513611), (849, 0.0668630368578287), (2092, 0.0667422564998614), (1160, 0.06669181432987917), (4000, 0.06652907375439004), (4400, 0.06649038361522124), (541, 0.0663833436502082), (3916, 0.0663031127015953), (1522, 0.06629849808225793), (624, 0.06625283829059422), (700, 0.06622975349466527), (283, 0.06613481653943337), (719, 0.06603889825062971), (3584, 0.06602812496946214), (512, 0.06591383452808633), (2813, 0.06591066147047983), (53, 0.06584728552577941), (1934, 0.06574280382233125), (643, 0.0657292421528561), (4148, 0.06567137056961492), (1932, 0.0656609354052802), (859, 0.06564806535399599), (4324, 0.06559966659962421), (640, 0.0655352543271041), (1135, 0.06552920897713678), (725, 0.06535787206705546), (1767, 0.06535785869674), (4245, 0.06535365698526817), (2895, 0.06524711213889178), (3568, 0.06520055060415754), (3846, 0.06518560472808599), (3697, 0.06511118108409017), (193, 0.06503152781292978), (4211, 0.06497339214501252), (2764, 0.0649461195084425), (1127, 0.06464937179145851), (2022, 0.06456912151062284), (1882, 0.06438811385993082), (1618, 0.0643399161003656), (2284, 0.06432420010119738), (394, 0.064309735571564), (3798, 0.06430182127361533), (3522, 0.0642966962038894), (4261, 0.06420714194818246), (1508, 0.0641721106073704), (2519, 0.06415622994346731), (720, 0.06409267140894655), (2237, 0.0640563987235653), (572, 0.06390817473035791), (2549, 0.06387592254828707), (676, 0.06375697568758056), (2807, 0.06373726679661797), (922, 0.06370433287182088), (1243, 0.0636630483879134), (3105, 0.06336427633643275), (807, 0.06336376919810374), (3937, 0.06327022710020153), (4345, 0.06326687753506172), (433, 0.06305236756710512), (458, 0.0629584754322271), (990, 0.06295584504013807), (2517, 0.06289692305449687), (104, 0.06287679262602976), (1470, 0.06282274593946316), (3192, 0.06273360788103019), (3358, 0.06264584525155284), (1015, 0.0626259059157324), (2109, 0.06261125916247469), (2616, 0.06257271535387102), (3720, 0.06255396501660282), (4378, 0.06253429861754463), (1385, 0.06246225880871356), (1175, 0.062453621542747396), (2480, 0.062412357900585295), (4255, 0.06236444412811711), (4178, 0.06231740457082122), (940, 0.06230676409118801), (1811, 0.062301531433446154), (303, 0.062289252884924415), (1640, 0.06228236487533031), (3744, 0.06224383730929292), (805, 0.062231374452442624), (1097, 0.06200646748368896), (4132, 0.06199397561222031), (2148, 0.061991977638122815), (2959, 0.06189090663007733), (3229, 0.06186547507627245), (3666, 0.061795849833773245), (538, 0.061783693441021206), (1321, 0.06176677598225641), (2883, 0.061759422750783936), (496, 0.06172489842531591), (1569, 0.06167066077298463), (1093, 0.06163673556642272), (3384, 0.06160367803202493), (3202, 0.06156282952909836), (1012, 0.061553291892006055), (236, 0.06151126322953347), (1447, 0.06142352416484155), (4641, 0.061423102223070916), (3642, 0.061403441905149875), (3807, 0.06138854937329069), (2082, 0.06133186069825401), (4682, 0.06130450769561657), (2320, 0.06128894888531763), (2557, 0.06123952571771837), (4116, 0.061210749283919993), (2128, 0.06115544438126193), (3632, 0.06107642882480249), (954, 0.061074971634529435), (3445, 0.061041734100699574), (3503, 0.06104087023644963), (3691, 0.06099572788046344), (1852, 0.06098529372468559), (1244, 0.06094946379130437), (656, 0.06094456655292302), (4749, 0.060926449755562384), (83, 0.06088715745275734), (400, 0.06083305309045709), (128, 0.06080857267181383), (570, 0.060789138640003945), (183, 0.06071942843581824), (1289, 0.06069335401815806), (1908, 0.0606930862632311), (1658, 0.06068188779202427), (59, 0.06068150916155843), (4122, 0.060674578202031454), (1013, 0.06061457722374763), (1468, 0.060612396999772486), (3555, 0.06060150069612853), (1334, 0.06057088976786126), (235, 0.06055934027097568), (2290, 0.06054649451312379), (476, 0.060515234387844584), (1091, 0.060508758448789016), (2689, 0.060460606412332335), (872, 0.06042566174044363), (382, 0.060392848078905936), (1808, 0.060289282808580674), (1014, 0.06028026467134003), (1366, 0.06024271629080332), (3453, 0.06019290078597884), (1751, 0.060136343202287654), (1283, 0.06013317799603942), (569, 0.06011714922823749), (1531, 0.06008190559180192), (4509, 0.06006332188406293), (4185, 0.06004476550121751), (1258, 0.059969498295675244), (3974, 0.0597696502580362), (152, 0.05975841980182708), (1742, 0.05974512074957314), (135, 0.059686500806188536), (4035, 0.05965984982043682), (11, 0.059654850425758646), (3184, 0.05960225907611471), (3454, 0.059575320165808264), (2016, 0.05955966248222457), (3751, 0.05951361623849591), (229, 0.05950403171455861), (3698, 0.05950153842124137), (1352, 0.059482965531361356), (3112, 0.059456212766302495), (4055, 0.0594110690794378), (1275, 0.05935009928015822), (286, 0.05927005935956341), (4366, 0.05919141127763129), (4528, 0.059187007531161184), (1578, 0.05918696211463212), (3741, 0.05917828847260859), (3516, 0.0591556363316159), (4281, 0.05907469848568258), (2518, 0.059049749719989345), (4633, 0.05904323528341999), (63, 0.05895706259436452), (3735, 0.05892619153496148), (46, 0.05889087322461907), (206, 0.05882432599390494), (3785, 0.05874141997197008), (3869, 0.05872286689084099), (2100, 0.05868123213513743), (3468, 0.058659293876909636), (1609, 0.05865654546163891), (520, 0.058585333916369386), (1272, 0.05852256165341669), (3308, 0.058484473794709224), (4152, 0.05842262269837103), (4017, 0.05842250992932416), (1765, 0.058352206418620434), (208, 0.058333158832692314), (4581, 0.05832930348707485), (2909, 0.05829757030521355), (2718, 0.058280707307348634), (2474, 0.058273063820948656), (1705, 0.0582663062134429), (2803, 0.05825269033973278), (1068, 0.05824716420887856), (717, 0.05821582815310923), (875, 0.05816840039016659), (499, 0.058142769244190616), (4136, 0.05812115034577617), (1939, 0.05811248135864992), (3225, 0.058062100195428554), (166, 0.05804692576467601), (2621, 0.05804473350695096), (868, 0.05787256410323392), (4462, 0.05784579718372142), (4482, 0.057817599363414504), (2015, 0.05778882600392936), (818, 0.05778755813252291), (2322, 0.057691969513628594), (1731, 0.057653445159854794), (3069, 0.057620806045004594), (3448, 0.057606154469410434), (832, 0.05759444772046832), (4630, 0.057591683124946245), (1096, 0.05758512691817885), (3829, 0.0575559117870805), (2203, 0.057534004437789256), (4124, 0.05752703733092063), (470, 0.057481535642172545), (1604, 0.057449134651567535), (1495, 0.05743420823533438), (3706, 0.0574282902705532), (4015, 0.05739409132627617), (331, 0.05735710720140051), (1422, 0.05731448343794524), (4173, 0.0573120522567373), (3612, 0.057308873749763053), (441, 0.05728729923720266), (4456, 0.05728139654941085), (3416, 0.05725275209950424), (3276, 0.057242209523432896), (1576, 0.05723363502412032), (528, 0.05723314492661343), (2668, 0.057226798690586986), (956, 0.05718827788495734), (1266, 0.05716551554564864), (1696, 0.05715834167290635), (842, 0.05715523887335574), (1874, 0.05709773754504681), (1373, 0.057083462651449604), (263, 0.057047637637007306), (4241, 0.057019665270303055), (1969, 0.05696493622246733), (1119, 0.05693823883648683), (1229, 0.05693457331538451), (3346, 0.05685158653121075), (2826, 0.05684595644360989), (4576, 0.056797791035558196), (1771, 0.05677073347185941), (73, 0.05676646544037221), (4100, 0.05673409409452805), (2953, 0.056733691809336614), (2246, 0.056722225273615916), (1201, 0.056705826633382764), (706, 0.05666225531097812), (966, 0.05664408932687266), (1215, 0.05657740772272639), (1252, 0.05649637933674384), (3301, 0.05648981277353813), (948, 0.05648744641484353), (1611, 0.0564732773255297), (1833, 0.056452141338333844), (4294, 0.05644808422129591), (1400, 0.05642964580745706), (2303, 0.056427703299778864), (3784, 0.056412451592162086), (2061, 0.05639044149506243), (3147, 0.056316711820715785), (3233, 0.05628794185343362), (2205, 0.05622902768786186), (333, 0.05622045141763912), (4103, 0.05612793125840758), (1026, 0.05611958465276061), (798, 0.056102270446359265), (1860, 0.056057915915438426), (1291, 0.05604351398001543), (4385, 0.05601675999591483), (848, 0.0559433965024965), (1221, 0.055915461898352344), (1262, 0.055811968054424003), (2166, 0.0557542554961024), (4238, 0.055747649314464756), (447, 0.055739545581414765), (2450, 0.05570687671680225), (4410, 0.055667740933787756), (3868, 0.05563749389911071), (3670, 0.05563698958496434), (1466, 0.055622838364604674), (3046, 0.05562241942028125), (4534, 0.05561666833566126), (2139, 0.055608146375723484), (2781, 0.05557582062681518), (2958, 0.05548451556509107), (803, 0.05542258685066791), (1844, 0.055370540132023006), (3730, 0.0553045042871427), (1880, 0.05526228413688683), (1663, 0.05525519875984355), (2962, 0.05523108947780378), (3572, 0.05522307990098661), (3795, 0.055210211150819685), (3609, 0.05518518204595517), (2318, 0.0551678055629059), (2136, 0.05516496157738053), (1061, 0.05509865033852855), (631, 0.055081571896022356), (1109, 0.05505251777605748), (2576, 0.055041726339843514), (1083, 0.05503560955714664), (1825, 0.055034428653699355), (4588, 0.05503048199589596), (449, 0.055026501182932806), (936, 0.05502041032483991), (1563, 0.05495949167305232), (3657, 0.05495350656169648), (2117, 0.054953234110403745), (2277, 0.05492968051435834), (266, 0.05488343023451131), (493, 0.05486811406002562), (1341, 0.05486173195128748), (967, 0.05485808508118186), (927, 0.05483451297633943), (1099, 0.05477510445791381), (1931, 0.05474761158102675), (4339, 0.05469657257380581), (568, 0.0546842889004232), (1254, 0.05468115038478244), (4354, 0.054662424383045416), (1846, 0.05465959351857133), (23, 0.05458539950968819), (3191, 0.0545461414099149), (2349, 0.054521927068081295), (4306, 0.054475558872364896), (3193, 0.054439975781414844), (1936, 0.05441514217453323), (3351, 0.05437022545198801), (870, 0.05436313140815781), (4165, 0.054351723628988366), (652, 0.05433265749170722), (649, 0.0542310709646969), (2910, 0.05420646765154934), (2783, 0.05419343856809452), (1443, 0.05419340151997014), (2174, 0.05412746340088422), (3692, 0.054093382186402694), (2031, 0.05405472876594404), (1118, 0.05401560657414325), (1206, 0.05401207210684451), (2713, 0.05400455159434171), (1817, 0.053976503131879086), (772, 0.05396347183899078), (902, 0.05392640034747544), (617, 0.05391181122717691), (2598, 0.0538744210533188), (2012, 0.05386211128306928), (4379, 0.05385405293609783), (292, 0.05385387473015553), (4444, 0.053844793743474076), (2137, 0.05375764755644336), (3917, 0.05370441382629914), (4240, 0.0537034274974026), (1404, 0.05369616879083794), (4478, 0.05363536380821399), (1066, 0.05359168786473368), (651, 0.05358635332851221), (1777, 0.053581270207544024), (1507, 0.05357610266876288), (330, 0.05356833645968734), (730, 0.05354965114194751), (3284, 0.05354276970346315), (2413, 0.05353393134867615), (500, 0.05346819316539332), (3641, 0.053458218328710304), (678, 0.05342038223889119), (1520, 0.05341426385785434), (2524, 0.05339818606267062), (2822, 0.05337962915899048), (1493, 0.05331547274790245), (1972, 0.05329841442907377), (2437, 0.05325401331942321), (4187, 0.05324747427463838), (1681, 0.05323859489463455), (945, 0.05319899030012271), (3837, 0.05318800144295015), (724, 0.0531821220998851), (4091, 0.05317452351583585), (3888, 0.053146974280195325), (3781, 0.05310563624460904), (2278, 0.052956668659600345), (102, 0.052923562998738884), (1730, 0.052899801875951565), (426, 0.0528474291934863), (4098, 0.05283529297713932), (3905, 0.05283377615143571), (2884, 0.052819477067031016), (1332, 0.05280014299611139), (4533, 0.05274865283355237), (3738, 0.05274797727587979), (4590, 0.05274155586106344), (2214, 0.05271344543613947), (2658, 0.052677803756118524), (1884, 0.05265691744759453), (1841, 0.052567909705509175), (4259, 0.05256514053161746), (1227, 0.052557956318367294), (1111, 0.052551960759649366), (1550, 0.052551924229831355), (3853, 0.05251011612804237), (3393, 0.052508060495747376), (3563, 0.0524894967516422), (2863, 0.05237249210424884), (1173, 0.0523548680005026), (1945, 0.052344342490154926), (130, 0.05234233422754667), (3094, 0.05229832136604262), (3464, 0.05226640922098176), (3566, 0.052240621291276566), (1383, 0.05220962356815563), (4589, 0.0521843629969515), (2522, 0.052167155749659896), (3965, 0.052121423301059955), (273, 0.052098094556548596), (4125, 0.05201539092583899), (3167, 0.051999785356752606), (1713, 0.05198601262734411), (3388, 0.05196182928590724), (4218, 0.05194564633820426), (957, 0.05193595686982537), (2894, 0.05192350851817398), (3957, 0.05190242755336906), (1763, 0.051875341308191686), (1517, 0.05187445297052017), (864, 0.05182877313685295), (3618, 0.05182298409258215), (1412, 0.05181015348820744), (4436, 0.051731740936927895), (3031, 0.0517256271736002), (119, 0.05168326617766366), (3773, 0.051671517079296986), (1547, 0.051667528560123854), (2094, 0.05165623019500536), (172, 0.051639414526363885), (4010, 0.05160197906417251), (261, 0.05148313358849817), (123, 0.0514599738950963), (374, 0.051456963207407475), (2609, 0.051455903125285765), (3415, 0.051415598011457564), (4159, 0.05137290457113272), (401, 0.051370116164535365), (2156, 0.05135413662065232), (2338, 0.05135099076635399), (3311, 0.05134516326367594), (3436, 0.051341563214935174), (1219, 0.051298296131162005), (2213, 0.05129751271014843), (1069, 0.05128904985962521), (648, 0.05128764308591847), (13, 0.05128683774226192), (189, 0.05126455397325118), (3197, 0.05125193459010513), (2664, 0.051217915708215676), (492, 0.051189124664084186), (1296, 0.05114505885094749), (774, 0.05112622748360144), (1178, 0.05111399651332185), (723, 0.051090681547698275), (250, 0.051045166524351794), (4640, 0.05103202974747668), (1256, 0.050993597620823394), (4247, 0.05097505708520584), (4516, 0.05097496788368381), (2830, 0.05091352214166163), (308, 0.05090987077037523), (1613, 0.05084739691065667), (176, 0.05083711901306183), (876, 0.05083149404575045), (4535, 0.05082574808802003), (1354, 0.05081705517473553), (4038, 0.050802710557484934), (1922, 0.0507972442198405), (1921, 0.05079049685350177), (7, 0.05078591025804455), (2625, 0.05074661502249535), (3665, 0.05072725839605904), (694, 0.05072057323248482), (260, 0.050716396815404664), (3084, 0.05059152029616263), (3859, 0.0505822916794497), (84, 0.05058207482973806), (2725, 0.050566487558510134), (3648, 0.05054234390479208), (1137, 0.05051234425628111), (2164, 0.050509835364048745), (3432, 0.05048418990287952), (583, 0.05047176927338967), (613, 0.05046578121927786), (125, 0.050454678710854385), (2565, 0.05044357554374426), (3013, 0.0504062846999879), (1913, 0.05040543086059167), (2661, 0.05038600566001496), (855, 0.05036708068581038), (715, 0.050365290978590806), (3684, 0.05034311229323864), (2800, 0.050340529788845984), (3231, 0.05033255553693845), (1052, 0.05030840064097789), (2918, 0.050289247266358555), (1218, 0.05028865485237866), (592, 0.05023043349855601), (2233, 0.0502072938259625), (4459, 0.05018703782813473), (1042, 0.050168933764464574), (2694, 0.0500819304658142), (714, 0.050056999545151144), (3860, 0.050054065838073133), (1150, 0.05004799586042027), (442, 0.0500206402287474), (963, 0.05001514147201421), (1308, 0.04997256270886681), (646, 0.049960988820428584), (3611, 0.049955700434413955), (2271, 0.04993026654347753), (1418, 0.049916692310691554), (1903, 0.049906573335645806), (1567, 0.0498702286028586), (2231, 0.04986591130450332), (965, 0.049852061139359014), (2490, 0.04984658119375231), (4359, 0.04983825408265186), (3733, 0.049826432007635785), (2296, 0.049813052085074146), (4668, 0.049812548217598604), (534, 0.04981129777351309), (2241, 0.049798226405928035), (521, 0.0497699544080424), (3834, 0.04976657356337319), (946, 0.049760393564418005), (349, 0.04972216133235648), (3955, 0.04970809575763827), (2040, 0.049682182680475986), (1454, 0.04966269174020471), (1963, 0.0496456561921281), (3363, 0.049633654610835826), (3840, 0.049580835198832864), (348, 0.04956796926202354), (2261, 0.04956494054647926), (4309, 0.04954543058987367), (1315, 0.04952331609343946), (3478, 0.049492925184326374), (587, 0.04946666100754777), (2547, 0.04943696187622593), (1228, 0.04943558045943984), (4467, 0.04941488529125112), (3379, 0.049410041489340445), (3747, 0.049405688318935576), (2600, 0.049391943281374966), (4525, 0.04936908082783355), (636, 0.049319931638639444), (1662, 0.049298730491588526), (683, 0.04928903005464543), (548, 0.049261825000475705), (3759, 0.049225661741995635), (1054, 0.049133283461755564), (4465, 0.049128715536534424), (2892, 0.04911331037369637), (3532, 0.049106444666897904), (3640, 0.049077909645582625), (1435, 0.04905059926722534), (3725, 0.04898337814936256), (4649, 0.04895179007026435), (4676, 0.04894620635517452), (623, 0.048938347346663066), (4031, 0.04891702200588882), (3099, 0.04888318710294873), (1876, 0.04886223668118486), (1440, 0.04884227775056676), (2232, 0.04883772221979368), (738, 0.04882682605994887), (39, 0.04881978145745072), (3993, 0.048777779658808904), (3909, 0.04876301371674009), (1043, 0.04874610614024301), (2844, 0.048733444085730555), (1259, 0.04872256866952923), (1506, 0.04871007399049359), (3209, 0.048707142970738956), (141, 0.04870575953317913), (238, 0.0486955729080425), (477, 0.04868536516773045), (829, 0.048667647013203315), (326, 0.048667581728801625), (4551, 0.04863501699380114), (1478, 0.04863279795896103), (2578, 0.04858195431449909), (1955, 0.048571529082764714), (1774, 0.04855645747721165), (3592, 0.04855180200241599), (1129, 0.04854829231388849), (2285, 0.04854410619317645), (4213, 0.04853463575027776), (645, 0.04852292449558407), (1295, 0.04851547535028563), (1224, 0.04850565098673591), (2753, 0.04849735429941665), (3402, 0.048495524609865934), (4082, 0.048482126305231465), (484, 0.048467323999179926), (819, 0.04846677139676608), (3221, 0.04846582072356825), (4234, 0.04844818784616978), (1214, 0.048445925898836194), (1816, 0.04843690065694989), (4615, 0.04843601294154474), (523, 0.04843250356648396), (788, 0.04841560532982958), (3992, 0.04839967224687128), (1828, 0.048386852515613504), (878, 0.0483757014066291), (543, 0.04836395161957886), (843, 0.04833057918802735), (3066, 0.0483273309657814), (1207, 0.04829238007414968), (3963, 0.04824627918709619), (3978, 0.04823980618499545), (3382, 0.04822470975361996), (1912, 0.04819150257543191), (2525, 0.048178367225061254), (4470, 0.048139136969560264), (4466, 0.048139001289714156), (3708, 0.04810587420725249), (1585, 0.04809433805501495), (951, 0.04805647012040499), (2342, 0.04805443323233646), (869, 0.04805061161674542), (707, 0.048034101056561994), (2758, 0.04799369699569584), (4328, 0.04797330594310157), (1649, 0.04796044648958137), (3514, 0.0479541147043866), (70, 0.04794796428518675), (913, 0.047932383712018856), (2742, 0.047909959605203), (2073, 0.04790795631423067), (3386, 0.04787087000726997), (1001, 0.04785681219753304), (4477, 0.04783764545981457), (1223, 0.0478319093499078), (2780, 0.047822989391531616), (2484, 0.04781593372190776), (425, 0.04781149007738974), (1279, 0.04780599414005965), (4246, 0.047800957102403806), (2095, 0.04779758748921262), (2011, 0.047793732213442866), (81, 0.04779133781505632), (695, 0.04778003075881588), (1225, 0.047765864168245915), (27, 0.04776060481797264), (4049, 0.04772670259130666), (537, 0.04771756570735497), (3452, 0.04770250603428461), (2389, 0.04770241327587324), (586, 0.04769458114834038), (766, 0.04765951274319449), (3718, 0.04764606435249127), (976, 0.04760678679722509), (2545, 0.0476040522599849), (2182, 0.0475976371546904), (1386, 0.047567077170186906), (607, 0.04754927983943442), (3801, 0.04753526310969747), (2249, 0.047527503160729234), (3339, 0.04750807777579295), (3771, 0.047502708595560356), (1280, 0.04748248065642434), (4227, 0.04747223143937088), (3767, 0.04744032752034548), (97, 0.04741296132923148), (1572, 0.04740807162398735), (2963, 0.0473877246805946), (1185, 0.04737401888614936), (3831, 0.04736684795941889), (731, 0.04736346517358335), (3429, 0.047360479800927696), (367, 0.04735524415388316), (3232, 0.047283423711799395), (3873, 0.04728087293157663), (562, 0.04723738533063035), (2584, 0.047236671057811194), (324, 0.04722533133444587), (2819, 0.04716478404907769), (4232, 0.04715596671139187), (2006, 0.04714469488448654), (1240, 0.047129909472803426), (2867, 0.047107871008287144), (773, 0.04710753895159393), (4094, 0.04709020016641727), (661, 0.04707901656263323), (1467, 0.0470498633772186), (201, 0.047033617850661895), (1910, 0.047031801478765296), (3520, 0.04701768993446024), (2789, 0.047010320847113415), (2218, 0.04694570048530819), (1769, 0.046928807852691594), (4392, 0.0468811982828123), (2430, 0.04687821620098567), (1310, 0.04684346593946917), (2293, 0.046829823778068894), (3214, 0.04682469839618943), (2130, 0.0468178878615458), (413, 0.046787726081328807), (3038, 0.046756984157999434), (1629, 0.04675210915727553), (455, 0.046725441656343805), (4224, 0.04670409707923172), (300, 0.04669136658623245), (2842, 0.046680921350572196), (3367, 0.046671649881494755), (2915, 0.04666996798424105), (4474, 0.04664223638756003), (739, 0.04664101574963601), (727, 0.04662798380161924), (2794, 0.04662715382416402), (522, 0.046619457115534765), (3368, 0.04661451830245127), (793, 0.04660872736618026), (1529, 0.04659800770307818), (2380, 0.04659710530743704), (4153, 0.04658719538680634), (984, 0.04658005291636311), (3960, 0.04657395468309135), (1089, 0.046563120263935595), (1045, 0.04655346378450753), (3659, 0.04654274617563179), (2461, 0.0465326870333555), (3102, 0.04652534615499904), (2798, 0.046335244631884875), (770, 0.04632272668198311), (3438, 0.04628584496219744), (1530, 0.0462657586079415), (2045, 0.04622790028290118), (60, 0.04621617930145841), (4130, 0.046202060110800275), (55, 0.04619174360166305), (3528, 0.046187656069209014), (3332, 0.046165003552934986), (532, 0.04616348506041203), (1555, 0.04614485291994274), (143, 0.04613443692669169), (1210, 0.04611791090853215), (2685, 0.04610818451228564), (2107, 0.04609429413257012), (483, 0.046091860426727305), (2432, 0.04606174007107593), (1988, 0.04605684707414221), (2143, 0.046055551934560304), (257, 0.04603273065774861), (1191, 0.04601184565115089), (3543, 0.04600018232427775), (3091, 0.04597121427895874), (299, 0.045960232495689604), (3398, 0.04595800090335371), (2927, 0.04595646399437091), (1675, 0.045941992058578074), (1347, 0.04591372887849339), (3997, 0.045893919246638375), (3907, 0.04588008722877085), (4267, 0.04586217475033217), (2487, 0.045851960223312026), (1728, 0.0458478399751267), (1498, 0.04584437543111185), (3803, 0.045826950499002754), (4270, 0.045822462184960014), (3361, 0.04578986048369993), (1748, 0.045777969182655184), (4202, 0.045776584567716494), (3610, 0.0456859349993584), (45, 0.04566177619608398), (1079, 0.04563966173683271), (2763, 0.045635441924799305), (3353, 0.045620880818536116), (3373, 0.04559162790286207), (43, 0.045557566123294854), (1284, 0.045521379421094625), (255, 0.04552111887870446), (3144, 0.04550886083118887), (4257, 0.04550776582924135), (1342, 0.04550516443643712), (3787, 0.045502842309625), (2093, 0.04549985787850652), (3745, 0.045474010108810387), (667, 0.045468796082713016), (3998, 0.04543217488041559), (9, 0.04542365097264234), (560, 0.04540836447436643), (1024, 0.04538862843587305), (1065, 0.045362711930708684), (411, 0.04529479633829074), (1459, 0.04528171244962554), (937, 0.045252601993701236), (1196, 0.045214538260394045), (3525, 0.04519613773039273), (530, 0.04517612110305689), (1766, 0.045148803291598726), (3693, 0.04514419537798006), (1976, 0.045098868328492706), (4550, 0.04509653307974679), (1123, 0.045090130282690086), (3337, 0.045076915604630875), (2646, 0.045070916131393475), (3451, 0.045048900752782006), (387, 0.044957645768951934), (1687, 0.04494315938023681), (68, 0.04492404242552864), (701, 0.04489931175101076), (54, 0.044871442083233064), (3850, 0.04484558381700481), (404, 0.044844444137135106), (4639, 0.04483353678852794), (883, 0.04482475926338476), (597, 0.044812157522641456), (2994, 0.04480140641685049), (67, 0.044794393402321525), (4347, 0.04478695346040153), (1968, 0.04477344715649731), (879, 0.04476926587868837), (1693, 0.04476791378906713), (1540, 0.04476474911000429), (1432, 0.04475402449116349), (1497, 0.04472421687285377), (2473, 0.044704962525516895), (25, 0.04465144511686822), (2571, 0.044606651819287246), (153, 0.04459321861839802), (1951, 0.04459133468303149), (47, 0.04459090067377283), (1650, 0.044572911756679774), (826, 0.04453580273139261), (3660, 0.044530133638127405), (3405, 0.04452989155048709), (2543, 0.04451112000926871), (1610, 0.04449681183967688), (4575, 0.044475570379313496), (1584, 0.04445016892039324), (356, 0.044421922592226146), (2131, 0.044410181572068455), (2340, 0.04432049432441917), (1918, 0.04431040801404486), (3215, 0.04428729986698253), (91, 0.044278763480366704), (4119, 0.044274142636561264), (950, 0.044268768625022895), (1067, 0.04426320663353564), (894, 0.04422388851864319), (4690, 0.04416349717293973), (3490, 0.04415170329883077), (4597, 0.04413048121596056), (4265, 0.04412397455327979), (893, 0.04412136569703669), (686, 0.044095756177824616), (1971, 0.04408307608281223), (911, 0.044070568143120506), (3630, 0.044070441344509256), (2944, 0.0440665241898336), (3124, 0.044062780437700594), (4101, 0.04404584274688548), (1113, 0.0440443690335782), (4056, 0.04397782498590259), (2361, 0.04397115368361838), (1973, 0.043970620231910645), (4563, 0.04396515148534927), (2528, 0.04395408477768471), (930, 0.04394665915587498), (1122, 0.04392699428168938), (1590, 0.043918171711457364), (1944, 0.04391566931453184), (4678, 0.0438937927400431), (634, 0.043884247474999305), (2761, 0.043851053719236435), (845, 0.04384538212900657), (1582, 0.04384112852461936), (1371, 0.04382365198087598), (24, 0.043821557318968855), (2640, 0.04379614605157231), (122, 0.0437584050509668), (56, 0.0437246532369658), (4313, 0.04370704995862117), (434, 0.04369563669430484), (664, 0.043687839806239706), (4189, 0.04368740724240386), (4223, 0.04365933805055075), (4011, 0.04365424857332151), (1937, 0.04363476808470933), (4374, 0.04360267086449211), (504, 0.04358443209357181), (3083, 0.04357065891365754), (2558, 0.043561117955025784), (361, 0.04356001357967055), (1450, 0.043543142260333796), (244, 0.0435284453021065), (1070, 0.043526381019725766), (3527, 0.04349751764771734), (531, 0.04349085695670947), (753, 0.043489323700957344), (619, 0.04348001234510977), (817, 0.04346252665974812), (985, 0.043437716535293054), (4375, 0.0434187714279566), (80, 0.043376549432906406), (3170, 0.04335745198962508), (3777, 0.04335250072955035), (362, 0.04331175135450721), (2767, 0.043307218222596776), (76, 0.04329844825718931), (1924, 0.04328175740903641), (2624, 0.04327844014663465), (144, 0.043276033188674616), (1894, 0.043265989324472946), (2629, 0.043242407483977695), (1823, 0.04323579927793476), (1484, 0.04323186069100537), (3272, 0.043227501550549136), (3045, 0.04322204846976282), (4562, 0.04319688517762017), (2026, 0.04316382095018331), (1011, 0.043146883872886704), (4044, 0.04313101245769188), (305, 0.043121290824199854), (610, 0.043109291228138495), (1344, 0.043103794739905256), (3858, 0.04304718535858044), (4095, 0.04304673012037572), (1027, 0.04303869585322312), (2037, 0.04303230831856776), (625, 0.0430068788855809), (2252, 0.04300321650515302), (745, 0.04299657834286004), (498, 0.042971720644668546), (1486, 0.04293726790197295), (2316, 0.04293525425580187), (2593, 0.04290790389640395), (164, 0.042907786393013216), (3336, 0.04290743999066075), (3772, 0.04288643231974665), (1433, 0.042875004393663166), (4279, 0.042871798491550775), (1325, 0.04285100116722391), (77, 0.0428383343380083), (2811, 0.04280992092497526), (2847, 0.042800406218806764), (1692, 0.04279669499443802), (2931, 0.04279574610854951), (4569, 0.04279219363873952), (452, 0.04277523135796299), (1154, 0.042731625263501674), (1781, 0.04272219401386731), (1046, 0.04270128136826695), (381, 0.04266951283759962), (237, 0.042662820497123694), (2356, 0.04265945421669201), (3862, 0.04262391748373575), (2489, 0.04261426466788715), (109, 0.0425966998797987), (2590, 0.04255280366714906), (1581, 0.04253286129250092), (2486, 0.04252749426592381), (1414, 0.04252218196606454), (72, 0.0425133777385507), (3473, 0.042492985810471826), (3275, 0.0424642749879631), (312, 0.042461133559659775), (2023, 0.042458968122683696), (578, 0.04245282106046626), (2998, 0.04244217394260541), (981, 0.04243443617789026), (1180, 0.04240893101261372), (1148, 0.04238665133625963), (1726, 0.04238593469634276), (1843, 0.04238250361993655), (611, 0.04235783525016995), (4344, 0.042343216046512575), (2774, 0.04233463060953525), (588, 0.04232228782122137), (424, 0.042312929138039995), (2877, 0.04230370981868889), (1810, 0.04227894711950046), (3040, 0.04227273137857945), (1049, 0.04226951764520446), (2740, 0.042248965789032436), (526, 0.04223946387115423), (390, 0.04221421631489075), (1475, 0.04221240651919155), (1209, 0.04221215767274782), (1865, 0.04220817910161747), (3238, 0.04220711268515841), (3921, 0.0421924667277027), (1565, 0.04219133152870706), (1812, 0.042185759663774226), (2681, 0.042174799612782234), (1992, 0.042143193257834645), (216, 0.04214133489989273), (553, 0.04214111311905705), (1809, 0.04210920254424117), (2848, 0.042090952610413464), (1847, 0.0420680860981783), (3602, 0.04206491993032044), (632, 0.04206097946306305), (1017, 0.042048372668700346), (4128, 0.04204175815908512), (2313, 0.04200170108479418), (3100, 0.04200071321121174), (2921, 0.04199338207041595), (4193, 0.04196376343177793), (78, 0.04195595842072099), (3450, 0.04194689743467977), (2955, 0.04192814999284549), (914, 0.041919234049525765), (874, 0.04190509663061401), (2653, 0.041902102836493774), (3156, 0.041900302571478226), (3870, 0.041884798544203725), (3953, 0.04188381467857616), (971, 0.04187682250013672), (4164, 0.04184919125450477), (909, 0.041823793761314315), (2206, 0.04180843203471998), (1182, 0.04180782118789277), (972, 0.041807295687378156), (3709, 0.041797960372186464), (4373, 0.041773278247988675), (4144, 0.04175405629779921), (4005, 0.04174254776186652), (1193, 0.04172693485105043), (4308, 0.041714580295769806), (3492, 0.04171001043852371), (4601, 0.0416992379278049), (1062, 0.04168664306348047), (3270, 0.04166035049659782), (882, 0.041649988614493), (4542, 0.0416190127536099), (1915, 0.041576022600536625), (2532, 0.0415629895060599), (259, 0.04152814675235687), (1957, 0.041525228425494456), (3959, 0.04151385554723255), (1455, 0.04147889977957204), (1120, 0.04144867451262942), (2098, 0.04143682951807895), (1942, 0.04139787726602494), (682, 0.04139575090085461), (3987, 0.041395448314627076), (1970, 0.04137597479311109), (1784, 0.04137592317552312), (4146, 0.041369671803544145), (1481, 0.04135139460197567), (4754, 0.041334375900982136), (542, 0.04132454272073254), (2114, 0.04131884035878447), (3362, 0.04131740944441854), (1425, 0.04131284120175835), (2283, 0.04130865732146254), (429, 0.041286261378858255), (1142, 0.04124707935495698), (620, 0.04122633534720601), (2727, 0.04121915091526873), (358, 0.04121548654435242), (1169, 0.041214987568705994), (2353, 0.04120712868179385), (4673, 0.04119603210520231), (1600, 0.04118898541332744), (2445, 0.04117656125157165), (3551, 0.0411730814562694), (1788, 0.04116577284788853), (3210, 0.04113366446151766), (1216, 0.041132016410798194), (4531, 0.041086028357028265), (1797, 0.041083416372572124), (2605, 0.0410552828092729), (1405, 0.04104810562770759), (1732, 0.04103889040869667), (418, 0.041024719831565845), (546, 0.04101514676218451), (2730, 0.04100466891716259), (4511, 0.04098267035441637), (1961, 0.04097008708926546), (1379, 0.0409647088604177), (952, 0.04093422578981315), (519, 0.04093362696988294), (3732, 0.04092958497745216), (450, 0.040910406218395604), (269, 0.04090768667768313), (3591, 0.04090027614440898), (4348, 0.04088203671047313), (814, 0.04086234552459661), (162, 0.040855744607200595), (2684, 0.04085181252903216), (1469, 0.040848039836447955), (363, 0.040835226731005196), (1195, 0.04083253841774221), (3427, 0.0408288727380562), (3287, 0.040821607858885334), (3925, 0.04078837163101413), (3387, 0.040786604943401056), (4058, 0.04078333594359307), (2723, 0.040769277431862844), (1108, 0.040761176798591266), (1901, 0.040759274981608626), (1164, 0.040754971570960946), (1460, 0.04074531423206225), (3742, 0.040737774797657056), (2662, 0.04073727197451659), (108, 0.04071049891022032), (1948, 0.040695242770481845), (3446, 0.040694193163463746), (4, 0.040690854827033524), (2025, 0.040649288185930964), (3406, 0.04064766109821759), (837, 0.0406453555046026), (757, 0.04064289501889474), (245, 0.04064234203816112), (3681, 0.04064046008135763), (3815, 0.040627335863998304), (4275, 0.04062212699745963), (3958, 0.04060393826020278), (4723, 0.04054716982948266), (310, 0.04053474893926834), (174, 0.0405269647572505), (12, 0.04051567635036635), (4310, 0.04050339467219909), (2428, 0.040498833806871026), (3694, 0.04049408786314297), (2501, 0.040491227785057836), (4264, 0.04047628827346185), (2103, 0.04047395474517875), (3774, 0.040473841526994694), (626, 0.040473018399204745), (502, 0.04046944536649945), (323, 0.040463059218842454), (633, 0.04045677532948955), (728, 0.04043096333677915), (3459, 0.040418689775860696), (2887, 0.040410430425482216), (2088, 0.040366406469837086), (270, 0.04035297205164441), (1323, 0.04030326719118049), (1814, 0.04028758389164917), (3949, 0.040246096936028035), (1457, 0.04023092589620031), (1153, 0.04022567712194636), (3683, 0.04022206816982144), (1686, 0.04019887192392953), (641, 0.04019618719139631), (658, 0.04016722206751927), (2421, 0.040154078067905885), (204, 0.04014820565837498), (4244, 0.04014616239319709), (4277, 0.04014592300664931), (436, 0.040102790699314814), (3941, 0.04009244231736582), (289, 0.04006953808779339), (417, 0.04006647689852044), (1176, 0.04005714933153063), (844, 0.04003781063403915), (65, 0.04002610951368285), (1320, 0.040014385028428266), (3435, 0.040007178123728934), (2823, 0.03998396466814248), (165, 0.039944588751395976), (1853, 0.03993824498600301), (3519, 0.03993583964449751), (147, 0.039915411617778264), (3507, 0.039913346940499916), (4661, 0.03990719037909066), (1614, 0.039898809174424996), (4538, 0.03989515402991199), (509, 0.03989468008052318), (2706, 0.03987938374952864), (1088, 0.03986992191218429), (3736, 0.03985689934166632), (672, 0.03984246867820975), (4112, 0.03984051328873775), (3114, 0.03983038662084131), (3305, 0.039819279340784025), (3000, 0.03981430607754248), (1895, 0.039791863321466586), (2677, 0.03979168021823176), (891, 0.0397765846038817), (378, 0.03977174117250119), (1490, 0.03975929264020034), (107, 0.03974975699752979), (1943, 0.03973748868461052), (4703, 0.03973505312921478), (4150, 0.039729307988680594), (376, 0.03971916671819967), (1409, 0.03971732813883681), (877, 0.039701550317113955), (2846, 0.039691628512561694), (4330, 0.03968703824905131), (223, 0.039684075159883356), (3227, 0.03968192756196502), (884, 0.03968172185564823), (181, 0.03967215247133196), (4296, 0.039672070385049746), (3365, 0.03966182761638686), (824, 0.03966144219086727), (371, 0.03965218475455676), (3986, 0.039647361182569604), (2920, 0.03964653385070369), (960, 0.03960962125133129), (1651, 0.03960650607871622), (852, 0.03960237568200473), (2580, 0.03959704612393716), (4653, 0.039596730351525875), (336, 0.039580947444409), (2665, 0.039569608947663586), (1764, 0.0395530169307689), (2588, 0.03955193689209909), (365, 0.03954384779689596), (4127, 0.03954256018430653), (89, 0.039539746538132234), (4186, 0.03953591819321882), (1125, 0.0395284327346675), (87, 0.03951792925514801), (584, 0.03946529654580137), (100, 0.039461672397172805), (301, 0.03945431590320377), (4008, 0.039448069507739464), (906, 0.03937740555873954), (1302, 0.03937169853268247), (4647, 0.03936620974618561), (1818, 0.03936599868011861), (3344, 0.03936382889601305), (2019, 0.03935541134953603), (3814, 0.039346425478708605), (180, 0.039329774434542594), (61, 0.03932254798663456), (970, 0.039310060873295825), (2540, 0.03930857642924173), (1608, 0.03930342972601497), (2919, 0.03929176022330732), (3624, 0.03927965151118172), (1926, 0.03927886563392139), (287, 0.039277312765074235), (2485, 0.039267881478350634), (1655, 0.03926491847349178), (1028, 0.03926054858245122), (2899, 0.03923286513902846), (4121, 0.039223355683508376), (1947, 0.03921275269719088), (1087, 0.03920693686754532), (716, 0.0392036297296736), (288, 0.039201002174291406), (2050, 0.0391863913641594), (340, 0.03914907653118663), (1504, 0.03914506840422004), (2707, 0.039134146279107246), (2268, 0.039131307940502985), (4552, 0.03912800853847046), (137, 0.03908897348984681), (397, 0.03908452689817214), (4156, 0.039070453516896225), (1554, 0.03906267576767169), (2481, 0.03905146783002619), (4600, 0.03903164397531468), (880, 0.03901212447387271), (284, 0.039009287125374215), (873, 0.03900874122350727), (1552, 0.03899560322993018), (1787, 0.03899133421913421), (3628, 0.038984090177396694), (4096, 0.03898292126910695), (4066, 0.03896624117789296), (35, 0.03896042422877349), (2315, 0.03895697219775277), (2675, 0.03895522706064986), (2643, 0.03894160532276303), (1930, 0.0389210898121439), (3060, 0.03891113721842607), (494, 0.03890923776285031), (3030, 0.038879876219015494), (57, 0.03886417030990938), (3477, 0.03885833566030844), (3174, 0.03885783966212683), (461, 0.03884018156635726), (4093, 0.03881817905778532), (650, 0.03878302830781767), (1145, 0.038772905863515186), (627, 0.03874863313531174), (2840, 0.03870904436955594), (438, 0.03867962032486249), (2492, 0.03866310924845487), (1746, 0.038633454539309886), (217, 0.03862994874264935), (2193, 0.03862845059161203), (1074, 0.03860777750149148), (347, 0.03860150843343624), (827, 0.03857977634405238), (3250, 0.03853815125926986), (151, 0.03852708344055694), (3001, 0.038512908744640584), (4357, 0.038511783595504445), (3689, 0.03847701892247728), (2160, 0.038474182908533675), (3180, 0.038469883448829706), (729, 0.038467582805328505), (3605, 0.03846424676462896), (3462, 0.03844703432260303), (3143, 0.03843728979632759), (1396, 0.03842498996592184), (2566, 0.038417681949732746), (1263, 0.038415754500999835), (1527, 0.03841314170472457), (4105, 0.03840063813647858), (2198, 0.038395149335563566), (3614, 0.03839240261874306), (69, 0.038380524787992296), (1615, 0.038364816451453294), (2172, 0.03833734118308272), (1831, 0.03833146695792639), (989, 0.03831913050856199), (516, 0.03831175380476722), (2635, 0.03830230274003349), (4558, 0.03828183695935329), (1402, 0.038272317146852974), (1708, 0.038264849428715816), (4012, 0.038245755901176626), (671, 0.03823975077883386), (4034, 0.03823229647914678), (2055, 0.038231096346787605), (1374, 0.03821808972349737), (4097, 0.03821309079666929), (4507, 0.03819658778060166), (239, 0.038185591816652764), (1471, 0.03814962569317507), (1509, 0.0381249806043796), (3673, 0.03809949504266731), (1058, 0.03809666934515823), (1326, 0.03806444569776356), (3625, 0.038022462224772666), (1881, 0.03801242963659915), (4742, 0.03800696324904099), (3534, 0.03800450949015004), (105, 0.03800130451055551), (3875, 0.03799733946926409), (3486, 0.03798951071943021), (2339, 0.037982209718000016), (2475, 0.03798119760952023), (4432, 0.037947542942770605), (3739, 0.037894295835126206), (4147, 0.03789127546060185), (986, 0.037886060935849994), (1355, 0.037840860607734804), (2259, 0.0378275943849212), (589, 0.03778584900136627), (4113, 0.03778304713466615), (2153, 0.03778183849035931), (1869, 0.03771806751442615), (3390, 0.03770332164016948), (1710, 0.03766442851436809), (4305, 0.037662759207883895), (1186, 0.03765036879377533), (3818, 0.037647802741348074), (4188, 0.0376472320121216), (1998, 0.03760923693812555), (3593, 0.037605198657446985), (468, 0.03760474434282271), (3743, 0.03758573131283301), (2360, 0.037585363909958674), (2551, 0.037577257372969325), (37, 0.03754285082767864), (3737, 0.03751990565827263), (1100, 0.03751495071507812), (3817, 0.037511480710631484), (4089, 0.03750860383493004), (295, 0.03750848684451982), (529, 0.03750034348756514), (1380, 0.03749727976407126), (2221, 0.03746989765531059), (551, 0.037450702815228346), (2060, 0.037442863157271855), (663, 0.03742428313354349), (2170, 0.037420839457345825), (507, 0.037385764408446646), (953, 0.03738146483290228), (2062, 0.037377343001687276), (1641, 0.037370501725171465), (2615, 0.037369906206943346), (4176, 0.03736967193938032), (1700, 0.03736952320115096), (256, 0.03734983708376638), (2111, 0.03733426751797887), (2104, 0.03731557155939759), (4574, 0.03726939793249875), (552, 0.03726819431721053), (1117, 0.03726633016115579), (1906, 0.03726585292621536), (812, 0.03725511611662404), (703, 0.03724507867011894), (3826, 0.03722720852535412), (980, 0.037186975769134954), (2127, 0.037181906886072515), (1786, 0.03716977127473164), (2287, 0.03713474047743124), (2656, 0.03713113528193246), (334, 0.03712546912706763), (1031, 0.03712499960879454), (779, 0.03711552872696773), (3841, 0.037104626668478295), (4231, 0.037064313237226046), (2808, 0.037062938916318414), (2065, 0.03704427512916172), (469, 0.037032552267443605), (4292, 0.03702866316668964), (2922, 0.03700389232883842), (921, 0.03700050553790464), (1413, 0.03698471562155208), (2181, 0.03696953484865602), (1179, 0.03696734174396554), (3139, 0.03695609082734518), (2542, 0.03695462841562832), (3183, 0.03695408904559526), (1110, 0.03692327836387911), (713, 0.036912612869961066), (3035, 0.03690436528783853), (781, 0.03689159084790784), (101, 0.036888513896913756), (732, 0.03686875420159072), (3355, 0.036849694353821905), (271, 0.03684449337633431), (744, 0.03684407519990583), (2416, 0.03681642063863171), (1370, 0.03681216679142408), (3320, 0.0367970746904427), (2242, 0.036790561272832215), (4077, 0.036789979893660875), (2397, 0.036772189587672685), (2319, 0.036759796510436184), (1314, 0.03674609747117155), (4300, 0.03674030183226655), (2751, 0.03673452822218071), (935, 0.03671608751172211), (161, 0.03668690673132114), (329, 0.036678276718604304), (3849, 0.036675382696399736), (647, 0.03667455918846568), (820, 0.03667408115938166), (4210, 0.03667337283328005), (3018, 0.036664548993727133), (1773, 0.03665068826999395), (315, 0.03664424393769826), (138, 0.03663691423939873), (3616, 0.03662909212361058), (1864, 0.036625830450654095), (2021, 0.0366174804068043), (622, 0.03660328479607086), (31, 0.03658938299847156), (782, 0.0365808184865776), (3129, 0.036557845156375356), (1966, 0.03655746961192405), (1861, 0.036557347063888496), (1887, 0.036550484566322664), (3472, 0.036548254386892964), (4341, 0.03654331813776769), (1923, 0.03653323543763597), (3911, 0.03653076022015346), (1624, 0.036529732163099224), (1276, 0.03652791698818765), (4591, 0.03652377935486438), (3399, 0.03651565402490399), (1192, 0.03651181439877827), (2135, 0.036507202250435494), (2003, 0.03650378785047818), (3200, 0.03646223991024062), (4086, 0.036461386405740016), (1857, 0.0364583732757843), (2112, 0.03644990062289556), (3043, 0.03641920324833791), (4624, 0.03639811385509481), (3635, 0.03639484203587356), (4013, 0.03639142351675076), (2971, 0.03638162808620865), (3908, 0.036364300029425464), (3404, 0.03635967525426987), (1071, 0.0363584289845816), (40, 0.03634450789259429), (4495, 0.036336207394409646), (375, 0.036333359362863804), (4506, 0.03633170471806017), (4450, 0.036328614763317654), (249, 0.036327593806489554), (3797, 0.03630970239069854), (1306, 0.03630661774913424), (2961, 0.03627198047042657), (4496, 0.03626803165431716), (1023, 0.036244291239864605), (3485, 0.036232422197329354), (2554, 0.03622769315684392), (1032, 0.036207835327259186), (314, 0.036193157937664935), (4284, 0.03618241450761178), (4106, 0.03617971372870096), (821, 0.036167955284937645), (2804, 0.0361614063356583), (4280, 0.03615230599623367), (2280, 0.036132050242983854), (2224, 0.03611085280161985), (1151, 0.03610148966479352), (1073, 0.03607812237691228), (4179, 0.03606823006269216), (1213, 0.03606402935036348), (1282, 0.036059029825047065), (3121, 0.03605493704453395), (1488, 0.036052173564080144), (2169, 0.03603448547042605), (1491, 0.03603159062162796), (2393, 0.036031360652326504), (1005, 0.03602890571288073), (2688, 0.0360274971869649), (79, 0.036008530261292325), (712, 0.03598125812492834), (4334, 0.035980447572890935), (4429, 0.035959855107493416), (1128, 0.0359530990856853), (3230, 0.03595279442866343), (3680, 0.03593931767496689), (1644, 0.03591451318322829), (1020, 0.035914427898619344), (3106, 0.035906380229626125), (3340, 0.035879137380584396), (3559, 0.03587170087656398), (2587, 0.03585565014054469), (912, 0.035852269865532346), (3872, 0.035839185743931454), (1855, 0.03583762305980959), (321, 0.03583261251419942), (4483, 0.03582218018833343), (810, 0.03582198324736045), (1770, 0.035818431160629376), (2500, 0.035798941904240725), (2226, 0.035792356181534736), (4358, 0.035790067035595674), (3079, 0.035776262375842735), (1521, 0.03577583306513755), (117, 0.035770532282622836), (934, 0.035767496413751404), (4476, 0.03574034123309634), (2996, 0.03572879468292758), (3871, 0.03570320306430824), (3883, 0.03569788329541751), (1637, 0.0356912787094796), (3220, 0.0356869125105866), (3913, 0.03567480562427546), (4674, 0.03566217470653135), (2990, 0.035651887503920295), (4263, 0.03564621112933724), (3433, 0.035628205087090636), (4755, 0.03561656932514931), (3460, 0.03558767177780119), (2264, 0.03556369487494633), (444, 0.035558038974563264), (386, 0.03550014924294718), (2236, 0.035491182941513044), (3136, 0.03548360578422893), (1889, 0.03547600544480839), (1340, 0.035470010732707405), (2370, 0.03545651313969912), (4382, 0.03545250163685858), (1253, 0.035429232079772145), (3027, 0.03542902840951791), (3461, 0.03542317989794453), (4527, 0.035422813588309315), (4486, 0.03540414367376962), (799, 0.03540016073245679), (1919, 0.03538639652739228), (1190, 0.0353797930269884), (1102, 0.035362305816842625), (2189, 0.03535877374096641), (4118, 0.03535792138783023), (742, 0.03535555359033018), (3969, 0.03534008999617979), (1, 0.03533495149554576), (2276, 0.0353342250854496), (2715, 0.0353316912346677), (705, 0.035318862788306336), (3809, 0.03530204522703582), (4603, 0.03530103124553009), (3470, 0.03529400369351082), (1140, 0.035286017694578925), (1750, 0.03528382978671912), (670, 0.03526825855943335), (629, 0.03524084448784591), (3078, 0.03523384107098439), (1804, 0.03523330486795698), (3851, 0.035224817354275385), (2538, 0.035201499111587604), (187, 0.035195875974719334), (2583, 0.03518044497365544), (3880, 0.03518010081443967), (1946, 0.03515244032439424), (2975, 0.03514811862546944), (1198, 0.03511756115894661), (540, 0.03511728817058421), (2265, 0.03511510106162869), (481, 0.035108905282333125), (2426, 0.0350961284755268), (1525, 0.035095182144339584), (897, 0.03507737365003833), (2787, 0.035065799787395165), (3443, 0.035054978427120846), (1378, 0.035048992404366715), (2526, 0.035037024858311894), (36, 0.035030790374336), (1000, 0.03502872368273022), (2024, 0.03502590209596888), (4655, 0.03497465972087847), (2149, 0.03496682733600043), (4083, 0.0349653307091532), (3179, 0.0349608398396541), (4421, 0.034953473784030034), (4168, 0.03495075860402333), (3548, 0.03494718747395215), (3746, 0.034945350450408016), (2178, 0.0349263392859539), (4346, 0.03491079005497213), (3597, 0.03487885908170143), (1815, 0.03487071395337429), (1480, 0.034850296651413495), (3274, 0.034838834966318594), (3782, 0.03483481961242602), (680, 0.03483204657455595), (2075, 0.03479367648045847), (3352, 0.03477643465923276), (1311, 0.034774033203373786), (3004, 0.03477345160680052), (811, 0.0347681712558692), (428, 0.03476773910614645), (688, 0.034760165534565485), (4384, 0.034759538501281106), (726, 0.034758484924702196), (3201, 0.034742978712417494), (1010, 0.034726298254417184), (4501, 0.034709072142876794), (4368, 0.03469765194806158), (3780, 0.034684247558299616), (435, 0.03464636752466549), (2335, 0.034617250970283134), (3938, 0.03459659397043591), (4664, 0.03459133180416114), (320, 0.034589617014943556), (987, 0.034581951087008414), (2904, 0.03456594559785417), (486, 0.03455511455954895), (3316, 0.03451465314533213), (3886, 0.03450774401223742), (1300, 0.034493393208227245), (2820, 0.034474911957302096), (4684, 0.034469199664857855), (4256, 0.03446082393784958), (1577, 0.03443431650240065), (136, 0.03442491385940456), (4137, 0.034419677934793905), (1482, 0.03437942911413934), (1688, 0.03436839819786418), (1146, 0.0343602898320337), (2086, 0.03434815155466355), (4669, 0.03434387672394472), (2459, 0.03434048954892996), (4431, 0.03434045077156965), (4587, 0.0343353248503649), (3924, 0.03432881890106534), (4614, 0.03432586991797636), (1933, 0.03432575373392354), (3360, 0.034313592911750755), (662, 0.03430028101196201), (3599, 0.03429295089907264), (4585, 0.034273594134002466), (2654, 0.034266026212248266), (2150, 0.034227935692354355), (1181, 0.03421854503742962), (2714, 0.034208574631912465), (3989, 0.03420425229899693), (1542, 0.03416350593637286), (2748, 0.034159338389847596), (1464, 0.03413249740780605), (3051, 0.03410338142869569), (2504, 0.03410027601824589), (1967, 0.034097101056882906), (2667, 0.03408045685212634), (815, 0.034076021062299094), (3458, 0.03406670515812131), (369, 0.03406453161258821), (2477, 0.03404766769388652), (4435, 0.03404665266512727), (2976, 0.03402884134818847), (246, 0.03402470806592371), (2956, 0.033977530818915344), (834, 0.033969718535254184), (556, 0.033958176125086434), (2377, 0.03395789684599846), (600, 0.03394512437190405), (233, 0.033943533514892266), (1155, 0.03393970675364598), (2889, 0.033908615580808675), (621, 0.03390194909727091), (735, 0.03388188496454758), (2594, 0.03386070843697658), (1301, 0.03383999467776127), (3440, 0.03382380512899949), (258, 0.0338205885552314), (4331, 0.033815539048923086), (969, 0.03379796554187064), (440, 0.03378994760274618), (816, 0.03377187742653995), (1078, 0.0337701387423802), (4377, 0.03376067276701364), (2262, 0.03375188038574632), (804, 0.03374155797250833), (618, 0.03371812514496217), (4611, 0.03368965527942051), (290, 0.03365442422511388), (3518, 0.0336471711831994), (4438, 0.03362251334695701), (2028, 0.033608788857962396), (3499, 0.03359842840838398), (691, 0.03358808612158202), (1652, 0.03358751261769852), (325, 0.03358609030943157), (1287, 0.033578121242190825), (4376, 0.033573214305913396), (1092, 0.033563157599583816), (2017, 0.03355537001072198), (2552, 0.03353147358010812), (1697, 0.03351777176379351), (2630, 0.03351750672566145), (1076, 0.033516016372578075), (2513, 0.033481576325281995), (1827, 0.03344688610727276), (3188, 0.03343176827640748), (3867, 0.033429706547776605), (1738, 0.03342332635710306), (75, 0.033396174113253234), (1040, 0.033371620288267), (64, 0.03332699765983008), (2352, 0.033321095662548705), (3649, 0.03325926932253259), (511, 0.03324033004583826), (1138, 0.033214768403463525), (2886, 0.03320351954618342), (3656, 0.033197534822723945), (2427, 0.03319500097105048), (3621, 0.0331725414971121), (1536, 0.03316795792053634), (2041, 0.03316622393046198), (4642, 0.03316357063068401), (1533, 0.03315839728680971), (822, 0.033139505839548555), (4620, 0.03310548734983456), (1601, 0.0330896242010154), (3158, 0.033088831685179884), (1779, 0.033082432595675434), (1084, 0.033080084826602976), (549, 0.03307768975499478), (456, 0.0330721002643033), (1376, 0.033070994823596774), (2623, 0.03303629127373194), (1403, 0.03299412337144765), (3671, 0.03298303674479254), (3914, 0.03298111138975143), (179, 0.032976835022732603), (4029, 0.03293908462653593), (1535, 0.0329249057428018), (3990, 0.03292378565510983), (1041, 0.032915387468026976), (1114, 0.0329057651678697), (2414, 0.03288452734159355), (3378, 0.03288422316758998), (2507, 0.03288007843737156), (2601, 0.03284324379329878), (809, 0.03283428541291589), (3089, 0.03280791523871988), (213, 0.0328052094676316), (274, 0.0328021548511903), (2521, 0.03279440623099572), (3933, 0.03279100899074062), (2647, 0.032780169877185766), (1094, 0.03276397565801343), (3467, 0.03276213899242091), (1345, 0.03276186626625753), (74, 0.03276144882090752), (3185, 0.03275250946675679), (1952, 0.03270976652255419), (1682, 0.03270913016148772), (1063, 0.03270269423182008), (802, 0.032698066884795984), (2014, 0.03265267643005156), (920, 0.032648227410882164), (2980, 0.03264005574872561), (1364, 0.03263900641305421), (2749, 0.03263875553195033), (1098, 0.03263417608873927), (4291, 0.03263408554362108), (2155, 0.03260286606509704), (4489, 0.03260137888019886), (741, 0.03258256115716121), (1500, 0.03256896512884866), (867, 0.032568135844011664), (1203, 0.03255438706089322), (3259, 0.03253971193948018), (1778, 0.032539259878348464), (267, 0.032536567828917715), (30, 0.03251298726019963), (182, 0.03250237000441394), (1363, 0.03246877818453486), (4394, 0.032467128081542215), (758, 0.03245038948434323), (2638, 0.03243500965767328), (709, 0.0324263747061528), (1824, 0.032415471717611416), (1391, 0.0324059794629399), (2581, 0.032404599510854046), (1483, 0.03240134317334215), (1503, 0.032398999566346384), (2539, 0.032397102055948694), (3778, 0.032371167305267234), (385, 0.03236077527792812), (2716, 0.03235877573924042), (677, 0.032358242209015044), (3906, 0.03232108452699744), (916, 0.032316621349137084), (3397, 0.03231577291834925), (3141, 0.032279334951732595), (599, 0.0322763254752894), (2544, 0.03224828957446941), (3549, 0.03224208976140408), (1991, 0.03222419968708189), (2993, 0.03221764750685245), (3650, 0.03220854347256463), (212, 0.0322032439502461), (2930, 0.032196416770925516), (4367, 0.03216347557597518), (199, 0.032160382514258797), (2373, 0.03213963429696652), (38, 0.032135857457971206), (4430, 0.032132965484038), (1703, 0.032103543686824026), (3833, 0.0321004059931282), (457, 0.03209556591411684), (2736, 0.03209421777927212), (4419, 0.032059148661543), (4016, 0.032054264173881034), (968, 0.032039936562172064), (1168, 0.03203860182376337), (3976, 0.03203713895619415), (1121, 0.032017777909783544), (3271, 0.03201324544758444), (2577, 0.03201130386471782), (2479, 0.03200587801270759), (3444, 0.03197911933673612), (2374, 0.03193581437974801), (1627, 0.03191150693627763), (1077, 0.03190121264864778), (1242, 0.031894737955062855), (4566, 0.0318936281817289), (1358, 0.031884488145530326), (2881, 0.03188115220590064), (853, 0.03187491392867688), (825, 0.03186741567717882), (1854, 0.03183243187145822), (590, 0.031831387870224624), (93, 0.031827675634222424), (116, 0.03179093945713897), (3740, 0.031788190163384106), (2460, 0.031783612498455134), (307, 0.03177555048848092), (4004, 0.031771279839075336), (2755, 0.031763241836670134), (1664, 0.03175926112004919), (4381, 0.03174808975480911), (1791, 0.03174177170936616), (2639, 0.03173668068817562), (3779, 0.03169347740102098), (3805, 0.03168417058218575), (2310, 0.031666215385856025), (2514, 0.03166246622273686), (285, 0.03164337201710367), (696, 0.031642656028455104), (4351, 0.031627389301844944), (409, 0.031614837324088395), (993, 0.031607139421558066), (1866, 0.03159836322336701), (2837, 0.031589710460861974), (1307, 0.031577745968626086), (944, 0.031564236027678175), (4643, 0.03154670383437311), (1177, 0.03153185524799854), (2122, 0.03152884930905754), (501, 0.03151222269775533), (3002, 0.03150908484378372), (3819, 0.03149930114071993), (1888, 0.03148422132041542), (1909, 0.03147679991662384), (4662, 0.03147389981982351), (1541, 0.03143863709785196), (1805, 0.03143509756766197), (917, 0.03142978635969604), (3247, 0.03142035203497649), (4504, 0.03141372410867552), (1871, 0.031406679371789974), (1904, 0.03140313179199832), (3920, 0.031394942093051305), (4503, 0.03138526470085821), (3213, 0.03135817019714859), (4183, 0.0313382247025312), (4553, 0.031312808323951086), (4433, 0.031310806748784184), (3839, 0.03130964187465661), (4455, 0.031290679475883), (1761, 0.03125852696509692), (2497, 0.031258420409463764), (1744, 0.03122740762540562), (90, 0.031220790765784857), (1441, 0.03119136760241447), (1309, 0.031175305384192723), (1143, 0.03117333180607207), (768, 0.03117165144892698), (3279, 0.031167592623993233), (655, 0.031161741046582273), (3935, 0.031156396533372283), (3407, 0.03114670260752389), (88, 0.031124998893619065), (3135, 0.03112499423496601), (200, 0.031120665791415945), (3571, 0.03111576669447564), (3901, 0.031107136951991594), (4725, 0.03108546153559548), (1392, 0.031083926299649532), (1438, 0.03107306332528982), (3267, 0.03103810460927845), (2105, 0.03103804516550162), (2223, 0.031003699665054184), (3064, 0.03099470297665842), (806, 0.030990432770627005), (545, 0.030982827137583723), (4248, 0.030976106807981005), (4303, 0.030969849669045934), (3120, 0.030951368828692448), (2371, 0.03094967683914499), (4286, 0.03094914548545252), (606, 0.030946498314666893), (2273, 0.030930070902259413), (2029, 0.030908126102703257), (3756, 0.03090038261708409), (736, 0.03089280772566455), (3977, 0.03088139246506797), (1612, 0.030863993778031812), (3375, 0.030857047028266197), (2403, 0.03082863170958141), (4529, 0.03081689481266712), (1701, 0.03079804662131053), (322, 0.030777521668984904), (2573, 0.030761203771189363), (414, 0.030724597012037287), (346, 0.030721826414377006), (2251, 0.030714838217773936), (316, 0.03070079756085504), (4656, 0.0306947361288012), (327, 0.030692862943408367), (1126, 0.030690596366789984), (2210, 0.03068264620211766), (95, 0.030668363293387686), (3845, 0.030665621530227078), (778, 0.030640130789406417), (978, 0.030637037771689822), (1538, 0.030633756835490855), (3792, 0.030633544497589718), (2911, 0.030632425832872682), (846, 0.030610034736799782), (1194, 0.03060998618042523), (2292, 0.030597628592447718), (1717, 0.030594928118986106), (2258, 0.030589891541064076), (1106, 0.030575729505749286), (4632, 0.030572149132502575), (1090, 0.030569885132638534), (4497, 0.030565418260131476), (791, 0.030552966300422202), (3280, 0.030550866620056374), (443, 0.03053270347291979), (1545, 0.030531668596862956), (3565, 0.030525323690545482), (1511, 0.030522655886752854), (139, 0.030515029208625942), (1217, 0.03050600609901932), (1165, 0.030504395655303662), (836, 0.030501346307240523), (2106, 0.03049878021832151), (1795, 0.030489049157223433), (866, 0.030464368278903323), (750, 0.030449270531779468), (364, 0.030447827002505656), (4114, 0.030410377044665746), (2078, 0.03039000300909129), (4268, 0.030385430301181057), (991, 0.030376298156634507), (415, 0.03037609209717203), (918, 0.030370543295935692), (3140, 0.030352568500581708), (1559, 0.030347676144437577), (4748, 0.030333223750897406), (2033, 0.030304580846921766), (2367, 0.03029786261005628), (4404, 0.030295888207310183), (4612, 0.030295082494474133), (1257, 0.030293956819267186), (4599, 0.030293356404524394), (482, 0.030255132630325338), (185, 0.03023534840289679), (1789, 0.03023057491584409), (2383, 0.030229265201926064), (1436, 0.030220942932293694), (1388, 0.030218789889260363), (2642, 0.030209084203493875), (1188, 0.030202680402994158), (1856, 0.030195838604321342), (142, 0.030182131770378234), (2004, 0.030119305568527828), (1772, 0.030104849043453633), (1677, 0.030096739327349048), (1104, 0.03009673749777181), (2409, 0.030096497633523484), (2245, 0.030083209755099434), (2013, 0.03007024831702044), (2903, 0.030044332995145598), (2989, 0.030043248585063707), (1285, 0.030025760855615716), (1189, 0.03002406035768912), (467, 0.030014386817328837), (4209, 0.029997786256166975), (4739, 0.02999778504977306), (3090, 0.029997641381067693), (3582, 0.02998983685795778), (3055, 0.02998323548641933), (4695, 0.02996326938976442), (4074, 0.029958032865713292), (277, 0.0299492837466278), (1205, 0.029936470937560043), (2896, 0.029911385855576032), (2873, 0.02991073491076724), (3557, 0.029900552748048002), (1075, 0.02989980321281264), (1537, 0.0298924219195593), (3652, 0.02988055149896802), (2132, 0.02987576892223457), (3496, 0.02987137709471779), (4554, 0.029861875069924958), (2083, 0.029850445143850796), (2447, 0.02984934817039917), (1245, 0.02984346961182295), (4138, 0.029829238217390336), (4329, 0.02981650478077008), (3207, 0.029814355611471124), (1873, 0.02980869476569764), (3173, 0.029792120201507462), (1273, 0.029789770219150226), (1131, 0.02978709680536131), (2493, 0.029781572361404163), (813, 0.029780733564490906), (4472, 0.029780240392944562), (3861, 0.029778904047438486), (3166, 0.02977591751930898), (2648, 0.02976892076537431), (4675, 0.029747002918383246), (895, 0.029724471782551436), (4194, 0.02971706914638905), (979, 0.02970219255046111), (4141, 0.029686770991234998), (4322, 0.029681507586156314), (604, 0.029677038171882244), (3338, 0.029674509780811417), (3923, 0.02966899335206376), (4068, 0.029655699443350184), (1401, 0.029643086236190032), (657, 0.02963518489115124), (2173, 0.02960514853960211), (2018, 0.02960130473140196), (160, 0.02959770619313261), (3096, 0.02959596074411924), (3661, 0.029592507012846072), (377, 0.029551493791983706), (352, 0.029490586346103888), (253, 0.02948722504499719), (42, 0.02947960163386281), (673, 0.029464903759423094), (195, 0.029464662798978476), (1393, 0.029462440080905483), (3278, 0.02945464120535576), (1442, 0.02943375396035868), (1055, 0.029426558089328477), (2042, 0.029425707430937982), (4494, 0.02940523358952663), (1107, 0.029403090956190474), (280, 0.0294021148708586), (1736, 0.029385369841190362), (1916, 0.029382432054983466), (1445, 0.02937232816316021), (1646, 0.029370608181835126), (1870, 0.029369375503514383), (2091, 0.029337169613562634), (2422, 0.029334322034278958), (3569, 0.029329266145474278), (2134, 0.029286154162483164), (3187, 0.029272741490400586), (2670, 0.02927219543197801), (3954, 0.029271605651299715), (2864, 0.029262538033936903), (2243, 0.02923452578255309), (4441, 0.029230299583940765), (3168, 0.029203997479114466), (416, 0.029199753643625464), (1056, 0.029183276377819586), (3447, 0.02917224891897495), (2376, 0.029139757660926417), (4160, 0.029139525195221568), (964, 0.029135235153084096), (2897, 0.029121055248290055), (1134, 0.029109752312349392), (4636, 0.029096633709707095), (1451, 0.029090799317998465), (370, 0.029086700113798908), (460, 0.02908649422670509), (915, 0.02904790743469681), (3654, 0.029039592308926134), (4006, 0.029033974062367168), (4046, 0.02901929391136711), (1673, 0.028998004657223193), (2810, 0.028997218803173054), (1727, 0.028992614516698552), (4629, 0.028991184905653042), (254, 0.028960946727382947), (515, 0.028957253797013586), (3491, 0.028949231223990388), (2196, 0.02893777419643355), (3494, 0.028935724107269318), (801, 0.028927958548728098), (1560, 0.028924765075581144), (1558, 0.02888943772093356), (1167, 0.02888477989315284), (2009, 0.028875036884731788), (1141, 0.02886904419442205), (4052, 0.028847997131221728), (687, 0.02883597370345893), (4033, 0.028824363192059672), (1647, 0.028824166393982734), (1212, 0.028803100279335997), (1171, 0.02879257902429353), (1158, 0.028790751350505003), (4007, 0.028787619022848113), (1532, 0.02878532291049048), (2269, 0.02878117076301753), (4659, 0.028776435176178658), (4216, 0.02876715505509209), (3392, 0.028743381872376378), (638, 0.028711394072794594), (4708, 0.028703291376453513), (4161, 0.028699164353974772), (4481, 0.02869517330015034), (353, 0.028675019289371134), (3919, 0.028663328799541116), (1683, 0.02865873628962178), (1327, 0.028658524213673726), (1220, 0.028657582809678027), (4249, 0.028633886743137146), (1059, 0.028625661698108804), (2415, 0.028616668059840814), (1416, 0.02861499444007256), (3970, 0.02860149992588361), (1359, 0.02859902381524954), (1851, 0.028596068970312118), (3653, 0.028587985809189736), (2754, 0.028572629413554707), (3065, 0.02854268959662172), (62, 0.028540648724364202), (2717, 0.028527552744944118), (2792, 0.028526590634572892), (282, 0.02852236021565826), (2482, 0.0285139308456769), (790, 0.028511108647678734), (3116, 0.028507827331553423), (1667, 0.02850412542488049), (2711, 0.028464052501823215), (4715, 0.028455186148544954), (3015, 0.028455090488928574), (3498, 0.0284413888808125), (997, 0.028437214649849364), (4484, 0.02842630544544123), (1103, 0.02841995506969356), (1780, 0.028417050834303716), (2856, 0.028413769387280532), (158, 0.028410794740637478), (2442, 0.028398879651544445), (4608, 0.028393054106288243), (992, 0.028372126732460184), (1269, 0.02835228583568773), (3290, 0.02829616437548725), (3223, 0.028277915346791145), (861, 0.028271439625199703), (2030, 0.028265745422035582), (2861, 0.028254442047416388), (857, 0.028253023666020026), (3122, 0.028252643292591677), (785, 0.02824419594106962), (4154, 0.02822650820561258), (3595, 0.02822442134781729), (800, 0.028214626962874), (3025, 0.028188867912159504), (3763, 0.02818811973121181), (710, 0.028186032064149852), (4123, 0.028182954004852726), (4288, 0.02816761339449651), (704, 0.02816121927863114), (4388, 0.02815362482333906), (2341, 0.028145261224005794), (668, 0.02811243851191675), (1006, 0.028087543823165344), (1057, 0.028085393784521344), (4295, 0.028061503321021475), (4697, 0.02805576029326669), (145, 0.028045382333318245), (4408, 0.028042701238675256), (430, 0.028032091863110054), (28, 0.028029880210408867), (539, 0.02801732667818283), (3426, 0.028013465634355892), (388, 0.028005530294786703), (2950, 0.027992672043084095), (1592, 0.02798292716018071), (2429, 0.027972008405643095), (3224, 0.027967595141784173), (1571, 0.02795510945140722), (3996, 0.027952533764921232), (94, 0.027949412471867635), (2123, 0.02793599972837265), (480, 0.02792751798870151), (797, 0.027921127871116426), (4389, 0.027917715294297325), (2390, 0.027906531222613377), (489, 0.027900981658721766), (1115, 0.027875828590755228), (1048, 0.02786564878702547), (1518, 0.027861791105171882), (4586, 0.027860255948325165), (2523, 0.027859402261265327), (3606, 0.027821698305562845), (4360, 0.027802961022849675), (3991, 0.027801932041419845), (3726, 0.027799286336558524), (463, 0.027793797406294167), (50, 0.02779071122725959), (3097, 0.027789321999003608), (4080, 0.027769514511500247), (2286, 0.027764848232696142), (863, 0.027758433516761383), (1022, 0.027750510420688816), (1557, 0.027744166692546833), (1232, 0.027743304607274696), (1479, 0.02773699305880143), (1950, 0.02773112525200434), (1268, 0.027724378768518222), (2628, 0.027718254539070456), (2215, 0.027696584514342884), (942, 0.02769168125096609), (1835, 0.027685164994878143), (248, 0.027680579455082725), (1008, 0.027679458011814248), (2610, 0.02767207917136896), (4626, 0.027668920891618657), (2177, 0.027664569463122554), (3471, 0.027639660401545883), (2888, 0.027632161584424143), (3696, 0.027625823351140846), (4104, 0.027624978747892846), (214, 0.02761682266421778), (1678, 0.02761350282267317), (1278, 0.027604612863712213), (513, 0.027600884997251787), (4672, 0.027577819515800336), (3539, 0.027531994259616617), (1231, 0.027527920637457178), (1819, 0.027517761303368936), (3728, 0.02751236888038005), (1714, 0.027503359618413624), (3685, 0.027499095469360288), (1706, 0.02748884355718486), (3581, 0.0274884463169607), (4726, 0.027431729431575645), (2308, 0.027431618837902468), (2228, 0.027396583375456467), (2158, 0.027393897279165386), (3711, 0.027384488148185764), (3760, 0.02737505622533168), (1839, 0.027373849271258723), (10, 0.02735933835168792), (1472, 0.027349543028032674), (4158, 0.027346134281250878), (1977, 0.027333046377437612), (1838, 0.02732868529224432), (4072, 0.02729167293861828), (4606, 0.02726946454993845), (1589, 0.027269087528832555), (2536, 0.027252455493411456), (3394, 0.027245697226719708), (1987, 0.02723690867801299), (3076, 0.02722878434723351), (862, 0.027208853968807956), (188, 0.027181982191741314), (1293, 0.027158510201216745), (2771, 0.027154741486337605), (1737, 0.02713321583043414), (2438, 0.027102596058610894), (4621, 0.027101726525970378), (4734, 0.027087681172124727), (1633, 0.02708339800632755), (4221, 0.027066301020721474), (1925, 0.027062661254755285), (4009, 0.027060500800997585), (3350, 0.02705755482527601), (3864, 0.02703346711648947), (92, 0.027031851630899884), (2853, 0.027021107256078432), (4108, 0.027020927200758355), (4577, 0.02701167223555942), (3364, 0.02696818056159081), (1149, 0.026956647492621548), (2878, 0.026947544093066086), (3211, 0.02692858410945169), (2359, 0.026915178142796453), (888, 0.026913580046005314), (1949, 0.02690653890066521), (890, 0.026904712710997366), (2076, 0.026868690447656), (3115, 0.02686829837414128), (2520, 0.026864662039282776), (1267, 0.026864600247315615), (949, 0.026857706623241343), (3497, 0.02685196853950258), (1174, 0.026842045015786214), (4549, 0.02680530430071293), (1397, 0.026777508711440235), (4718, 0.026774880275041636), (2969, 0.026767263684028098), (576, 0.026761291310631707), (2171, 0.026750618761947134), (2982, 0.026738220705170117), (1502, 0.026724274166229044), (3983, 0.02671798669152515), (120, 0.02671577513687468), (2812, 0.02670423024300552), (896, 0.026690975631039043), (3764, 0.02668935338306424), (1801, 0.026674679584028325), (1399, 0.02666282925701894), (3515, 0.02664892239472988), (4524, 0.02664100965124371), (4526, 0.026639510816500074), (2419, 0.02661919205748297), (1553, 0.026615345797757584), (2297, 0.026608765418519965), (2603, 0.026599139267540893), (675, 0.026588124276979985), (2238, 0.026581919995673983), (207, 0.026571957017142444), (1670, 0.026568791747630736), (309, 0.026559879046074278), (792, 0.02654339478534997), (1274, 0.026541203868763023), (3327, 0.026529989654444676), (2824, 0.02652644353748295), (1656, 0.02651241858187875), (669, 0.02650049392216152), (4399, 0.026498896671590624), (2079, 0.026497032386364514), (4371, 0.026478583234406782), (554, 0.02646825280739973), (1725, 0.026459315025784726), (3172, 0.026450903530845837), (3057, 0.026449106799000484), (4307, 0.02644211048350717), (3629, 0.026434321241180753), (1694, 0.026427812069230873), (3160, 0.02642599643401105), (360, 0.026423434219793353), (58, 0.026417356319441847), (2274, 0.026405721788647706), (1002, 0.026376975125598216), (1427, 0.02635840247937495), (4685, 0.026340477518097184), (1755, 0.02633326023976651), (2201, 0.026329777101012298), (3836, 0.026326885612126656), (2984, 0.026276537196192662), (1591, 0.026260612374166808), (1544, 0.02625927743563321), (2048, 0.02624426694103378), (4548, 0.026236056754834404), (1420, 0.026235490408299835), (2321, 0.02623316811169234), (3303, 0.026223310714351487), (1821, 0.02620407215698324), (4510, 0.026192828399878944), (1927, 0.02618334836103877), (2496, 0.026182853800090305), (2708, 0.02618220117991337), (2305, 0.026148473818092852), (3357, 0.026143549199732503), (242, 0.02614120140823336), (294, 0.026124065677245043), (835, 0.026114436625559956), (3769, 0.026101755703986977), (2336, 0.026042722904308167), (2782, 0.026038331550059763), (1406, 0.02603165452990649), (149, 0.026026042482884017), (4169, 0.026023989498990686), (170, 0.02601075840983213), (789, 0.025987390197207205), (3985, 0.025980567400741957), (1241, 0.025978006844340318), (203, 0.025970321320831564), (4416, 0.025969576284127337), (4530, 0.025950869113102175), (2298, 0.025944340731899253), (2527, 0.025913552382419533), (4628, 0.025888281893625735), (4273, 0.025880653271990364), (497, 0.02587607189248894), (1080, 0.02587568959629393), (26, 0.025864048345307145), (3408, 0.025863840187792593), (4745, 0.02585439558377934), (32, 0.025840356982869215), (1758, 0.02583356319926349), (2200, 0.025775472046250976), (4414, 0.02577402175805437), (508, 0.025769838389772207), (1863, 0.025768129331589847), (2120, 0.025758919028754934), (2401, 0.025749522934030523), (1474, 0.02573527313620738), (4253, 0.025733670651587128), (3589, 0.025730849276257434), (3509, 0.025717789611430418), (754, 0.0257157336355445), (1899, 0.025714330101220765), (3401, 0.02567313182776228), (19, 0.025669806966709462), (3298, 0.02564233040078354), (2992, 0.025637210237853654), (2053, 0.025613549665396036), (2680, 0.025600914269178765), (4287, 0.025591222191631242), (3155, 0.02559045765838605), (1648, 0.025571279756314135), (3056, 0.025568244749288854), (2923, 0.025555422310066717), (2001, 0.025538698385033726), (4422, 0.025536044916975663), (1561, 0.025532118426956383), (3395, 0.025521699359354652), (1684, 0.02552139027811522), (3719, 0.025516845457643576), (2622, 0.02551582329498008), (4363, 0.02551045054526655), (1546, 0.02550757278952902), (2882, 0.02548239293689864), (4747, 0.02547739618835196), (2096, 0.02546978595170416), (2332, 0.025440699000451615), (1389, 0.02543581066731446), (4333, 0.02541440166560531), (2841, 0.025406098812207064), (4460, 0.025401750622428755), (3476, 0.025399237724394237), (582, 0.025392037866732515), (2472, 0.025385344575640015), (2770, 0.02538396040002478), (4677, 0.0253707899327539), (1348, 0.025363211698667232), (3047, 0.025354934661911722), (2161, 0.025325239211780617), (982, 0.025306336043833273), (4679, 0.025295704753982975), (3480, 0.02528993709566817), (3236, 0.02528729147122466), (973, 0.025278978500002276), (2256, 0.02526165167605193), (3093, 0.025257743416570253), (555, 0.02525474401018233), (1439, 0.025251641292256023), (4195, 0.025249570891176847), (471, 0.025241217799078328), (2197, 0.02524024211691808), (2865, 0.0252109347757249), (4680, 0.025203820123737074), (1999, 0.025186566520642013), (2412, 0.025179623817862415), (1183, 0.025147789407411233), (3705, 0.02514704712188195), (2743, 0.02514456374348071), (2434, 0.025120263336893663), (4451, 0.025117527275264694), (4741, 0.025116381759154694), (2115, 0.025109906036674796), (4369, 0.025085767819479885), (2570, 0.02508303169516933), (601, 0.025078086958513005), (4336, 0.025070940865408904), (276, 0.025066940730542085), (4337, 0.025062399559925248), (3637, 0.02505438132504356), (2960, 0.025043304268553904), (71, 0.025036278406316628), (1428, 0.02503345910757004), (2530, 0.025027869263393114), (4364, 0.02502558539432126), (505, 0.025024954804445155), (3073, 0.025011639887720788), (1672, 0.025006509376700167), (4737, 0.025005167579130058), (4390, 0.025004610208506823), (2125, 0.025001823654500113), (763, 0.024986604720653446), (2253, 0.024986130740234223), (4568, 0.024974481337650685), (2907, 0.02496256865654651), (575, 0.024957134385462473), (495, 0.024950076808405504), (4145, 0.02494050304010905), (1802, 0.024938361918927315), (4050, 0.02493262744746226), (1660, 0.024919709763190082), (1556, 0.02491910461630481), (2074, 0.024918192124322773), (566, 0.02491033504466648), (2378, 0.024909936598875887), (2491, 0.024903590135509465), (2192, 0.02489774874541112), (319, 0.024880077927838428), (2559, 0.024867649130746485), (4343, 0.024863249572160004), (4024, 0.024848621006668514), (3312, 0.02484561829239295), (1850, 0.02483870486794416), (3994, 0.02483833658750976), (2917, 0.02483681067286546), (3237, 0.024821501272398662), (2637, 0.024803438588047167), (4340, 0.024796168264009325), (1905, 0.024786663129514858), (2345, 0.02478379873324421), (345, 0.024776713169975845), (2392, 0.02477076090012771), (1519, 0.024768564414086758), (3302, 0.024761720154558332), (2110, 0.024756953621521607), (3253, 0.02475370497764079), (2059, 0.024743316568946114), (2686, 0.02473454747768275), (1238, 0.024721455661366094), (445, 0.024711773341324114), (1328, 0.02470005709187044), (420, 0.024695512307490897), (1695, 0.024685312104995888), (3195, 0.02468430834700476), (2202, 0.02466746242488689), (2687, 0.024650359658491838), (4479, 0.024639276482420952), (3249, 0.02463710331676172), (1634, 0.024636899129903217), (379, 0.024626284048590193), (99, 0.02462095645595063), (1033, 0.02461862933277907), (2051, 0.02461685444847967), (1136, 0.02459306246930145), (4225, 0.02459109862182009), (3550, 0.02457460931409583), (3710, 0.024565502459395216), (1247, 0.024556129315379115), (2425, 0.024551056660193173), (517, 0.0245072830199215), (396, 0.024499510024410115), (4076, 0.024471651003359005), (2563, 0.024464658385327694), (2211, 0.02445724329623481), (3541, 0.024456759256383277), (871, 0.02444168093434067), (1595, 0.02443910880726645), (603, 0.024438487486982737), (4318, 0.02443221472283878), (4595, 0.024416605511990205), (177, 0.024406604505348067), (2405, 0.0243844868443258), (684, 0.0243556590110409), (1898, 0.02435138767059526), (2938, 0.024332653079840547), (533, 0.024329825831834462), (4298, 0.02429678472555957), (4584, 0.02429294214190663), (2470, 0.0242859357886022), (4688, 0.024281497653013115), (4140, 0.02428086308637255), (4321, 0.02427676684194715), (4736, 0.024258222960148425), (4704, 0.02423157271962527), (4335, 0.024229155172805144), (1820, 0.024206171763700143), (602, 0.02420369756349043), (2612, 0.024194523594605166), (4646, 0.02419066125849168), (808, 0.02418548065378169), (996, 0.024161228614083763), (2720, 0.024143177003705135), (3526, 0.024134494098301054), (3946, 0.024133495174329517), (3578, 0.024128523544062863), (1431, 0.024122508536110997), (1446, 0.02411665027342913), (251, 0.024103373571096223), (926, 0.02408643798829049), (3341, 0.024083325670874713), (1796, 0.024075694381210058), (4733, 0.024050293584173515), (2569, 0.024046503452157874), (892, 0.02403260285211955), (4235, 0.0240247430064259), (2898, 0.024023669660914633), (4078, 0.024004244429106716), (368, 0.023982823583024178), (3483, 0.023976697227788273), (2617, 0.02396959417384111), (304, 0.023952623371205246), (3847, 0.023929771572258195), (2443, 0.0239248402314347), (595, 0.023908105568425236), (1707, 0.02389505392739132), (168, 0.02389275504025439), (4102, 0.02388820350424103), (3682, 0.023860737250449408), (4582, 0.02385273955757018), (2879, 0.023850265424772074), (4716, 0.02384850957779297), (2326, 0.023838799901246235), (2869, 0.023832404679835432), (3205, 0.02382875006977798), (3085, 0.02380652425752132), (3334, 0.023805699267214542), (2063, 0.02380298234618807), (3721, 0.023800314943928855), (3500, 0.02379597443493885), (573, 0.023794274228479937), (2546, 0.023780069536648362), (3857, 0.023778153246721292), (3808, 0.023759159814256886), (558, 0.023705666448703665), (2608, 0.023695465121149707), (421, 0.023693733099511047), (4471, 0.023689910599386403), (2375, 0.023664746740397865), (3971, 0.023625348413189428), (1657, 0.023620135197905432), (3104, 0.023618261936636346), (18, 0.023589057785649455), (3775, 0.023587218711381933), (2354, 0.023555380264316955), (4464, 0.023531973513436166), (3314, 0.023531209730721307), (3538, 0.023526520093978282), (3328, 0.023506055567164744), (4610, 0.023500294417941103), (908, 0.023493272928645823), (4707, 0.023482454260385307), (2054, 0.023480689871501204), (1740, 0.02348054727269603), (1044, 0.023457608473182644), (1989, 0.023451536939601666), (2972, 0.023446629173867452), (3842, 0.02343216324434009), (596, 0.0234246006216286), (3533, 0.02338555184717507), (858, 0.023383391490072757), (2913, 0.02337771266321816), (3574, 0.02336715135907113), (4236, 0.023356989624067254), (3915, 0.023353542437962567), (313, 0.023352288715214577), (3613, 0.02334427635117917), (241, 0.023329183314140158), (3333, 0.02332309125835335), (3061, 0.023295324460494142), (885, 0.02328040525559868), (4332, 0.02326190630442427), (4446, 0.023257925231316007), (4413, 0.02325665355366169), (1085, 0.02324491700087945), (2659, 0.023209893272557312), (154, 0.023189817983184237), (4686, 0.023188350494550654), (3430, 0.023184811350172137), (4205, 0.023165669429553948), (2433, 0.0231530263016011), (4687, 0.02312912074899254), (1570, 0.023103436379555253), (2386, 0.023101246411786684), (1230, 0.02309170561044272), (3766, 0.023087314496276466), (4266, 0.023058951686636277), (3171, 0.02303792987859277), (571, 0.023020222344952136), (3417, 0.02301202069865508), (2788, 0.023008483304932163), (708, 0.02300068645450329), (527, 0.022966316907734617), (3677, 0.02295905309225418), (4349, 0.02295824699599086), (328, 0.02294288765254642), (1288, 0.022940984413917103), (1448, 0.022917469278146342), (4192, 0.022911529703946446), (4060, 0.022909168005280797), (2044, 0.02289659997288132), (1990, 0.022890180473739877), (4043, 0.022863671631283815), (1408, 0.022861122833915358), (219, 0.022854030701847813), (1659, 0.022852873925126964), (140, 0.022839736730336714), (2537, 0.022828382357647236), (4304, 0.02282218481715247), (1184, 0.022795148905712385), (3495, 0.022791260070735536), (3504, 0.022787144425138905), (252, 0.02278207479337033), (1053, 0.022776685515419323), (4290, 0.02277621891738595), (4605, 0.02277054668500876), (453, 0.022769242448556385), (1336, 0.02275921344076851), (1803, 0.022744559570664395), (690, 0.022721953888375203), (2699, 0.022721566249352024), (2981, 0.022721370075444884), (3531, 0.02271378452759188), (1351, 0.02270658189693798), (1250, 0.022705822210963587), (637, 0.022704076101170374), (1897, 0.022689904195861855), (2799, 0.02268911653993057), (2069, 0.022672577081227354), (2815, 0.022643961017575966), (198, 0.022622590256420636), (1632, 0.022616421843524737), (4627, 0.022613545706798778), (1343, 0.022607280747822908), (2239, 0.022591214527280096), (697, 0.022589620681038085), (4411, 0.022586973512593138), (711, 0.022585529929486432), (2765, 0.022578216779789814), (1837, 0.02257002518746773), (474, 0.022560124432458292), (4039, 0.022559830883636445), (1938, 0.022549193326633375), (3306, 0.02254161340672752), (33, 0.022539046568324568), (4391, 0.022532030394289797), (4085, 0.022506559031766585), (4314, 0.022501977886805934), (155, 0.022491313414414637), (2550, 0.02248559096663455), (3810, 0.02248181895776038), (3370, 0.022454288263749303), (2657, 0.022442186028888148), (1060, 0.02242730819973299), (224, 0.022394435061043123), (1318, 0.02238661852397472), (4491, 0.02237836792267061), (1255, 0.022377537392259124), (2698, 0.022364288908675353), (1271, 0.022356992397221928), (1297, 0.022354827765909937), (3409, 0.0223547715800839), (1643, 0.02234871573542894), (2077, 0.022344673624082156), (4319, 0.022306313738851606), (1607, 0.022283649798132667), (3162, 0.022282032486874485), (1685, 0.02227903417352227), (1602, 0.022262166859609807), (2168, 0.022233444900772323), (20, 0.02221448660880799), (2235, 0.022198711805959497), (3317, 0.022196362243320313), (4518, 0.022190423488193965), (2279, 0.02218915985049097), (3564, 0.02217914601533416), (1680, 0.022171189223723783), (1139, 0.022156814863241142), (1016, 0.02214848545210412), (1004, 0.022142574120790424), (2312, 0.022133096345306632), (3854, 0.022129744122841383), (1166, 0.022120926902842956), (2364, 0.02211834011787373), (4057, 0.022103768870115482), (4037, 0.022099993545018817), (557, 0.02208510181674441), (243, 0.022080511686261198), (1962, 0.02205390685784598), (4139, 0.022037899718516857), (4440, 0.02202858239737142), (2986, 0.0220041392982349), (3662, 0.02199456070567942), (2423, 0.021973994539924678), (2860, 0.021958852373851714), (354, 0.02195812646273758), (2908, 0.02193937607606589), (3356, 0.021923329734914086), (544, 0.02191350710441432), (48, 0.021905645678229106), (4191, 0.021904032945832874), (2651, 0.021900360109379895), (399, 0.021899416844115515), (3902, 0.021894895970221), (419, 0.02188836356307235), (2455, 0.021873778731208528), (167, 0.02186972102108819), (4667, 0.02186618842132129), (1473, 0.02186162151186101), (1356, 0.02183813094066045), (131, 0.02183107069893016), (1251, 0.021826784972549217), (2382, 0.02182104338147036), (2701, 0.021790997412250004), (2652, 0.021773690503214184), (685, 0.02177196252699993), (579, 0.021771419414688485), (3560, 0.021767246766722724), (190, 0.021764360490342166), (1222, 0.021750754876977453), (2089, 0.0217348230202637), (3449, 0.021720660713886585), (4442, 0.021715906002222007), (737, 0.021707470855608313), (1849, 0.02169852049771546), (2733, 0.021694752637944986), (3643, 0.021671550931326555), (2385, 0.021669879192765522), (3713, 0.02166986435384515), (3944, 0.021669693690870927), (1456, 0.02165646296073909), (2071, 0.021642022030433177), (228, 0.021631281704997556), (2838, 0.02162662106869373), (389, 0.021615833417338283), (1639, 0.02161095679073241), (1303, 0.021610594198285524), (293, 0.02160501871274863), (3489, 0.021591599625649764), (380, 0.021590486686126432), (2778, 0.021590485971962066), (2456, 0.021584692365264224), (423, 0.021582024358092415), (4018, 0.02157064988116563), (777, 0.021555414776400477), (1638, 0.02154057201338639), (886, 0.02153939679668539), (3113, 0.021524477916620963), (4709, 0.021512991668807616), (2704, 0.02147896658075365), (2750, 0.02147859453547679), (184, 0.02147635085200012), (1964, 0.02144967099172733), (302, 0.021441410902355715), (3318, 0.02142655707186656), (3631, 0.0214231232272594), (2244, 0.021409313460055465), (1492, 0.02139967620895296), (2288, 0.02138839680427651), (4135, 0.021386736278807696), (1304, 0.02137569560468792), (932, 0.021374048667582447), (1723, 0.021368146622681525), (1993, 0.02135453054906353), (1902, 0.021337913732862607), (2444, 0.021327206743313648), (1564, 0.02131552430701191), (4502, 0.021300164429462566), (3307, 0.02125369993889989), (2057, 0.021251376191995963), (2027, 0.02122846735970475), (422, 0.021214528736155206), (1202, 0.021211437517244757), (2102, 0.021210889817494853), (938, 0.021201444460086333), (4051, 0.021199202294678577), (4252, 0.02119225635686254), (2124, 0.021168858947830008), (1872, 0.021153480346883077), (2081, 0.021141818850742913), (2047, 0.021123657446942584), (4758, 0.021110048558339603), (4285, 0.0211024592293642), (3044, 0.02109964430526759), (3502, 0.021085583075038345), (2275, 0.021083736751980733), (3194, 0.021080248319877506), (1452, 0.021068014365213827), (4420, 0.0210562555937649), (2784, 0.021054681977833414), (2187, 0.021035373193004216), (2070, 0.02102926241154222), (4063, 0.02102636577661718), (192, 0.021018809156737667), (186, 0.021018316617835982), (4638, 0.02100801979843192), (1757, 0.020993258920505034), (4580, 0.02098648079098302), (585, 0.02098439466405891), (1775, 0.02096883837678067), (2324, 0.020964914262507208), (955, 0.0209574813801982), (1299, 0.020953735217748237), (796, 0.020951705959751432), (780, 0.020940453014046657), (4732, 0.020911790318129522), (3206, 0.020889155062707276), (2411, 0.02088883385185384), (2384, 0.020866083331081607), (4171, 0.020864274942263082), (2862, 0.02085512220121477), (3615, 0.020843099248925533), (3288, 0.020841030148703674), (2449, 0.020827227994213923), (2772, 0.02082661957720703), (2506, 0.020810033462647537), (1574, 0.020797856165561047), (1783, 0.02078289900887228), (439, 0.020782776763853244), (535, 0.020770352738199778), (3852, 0.020750631218659235), (1829, 0.02074597603294703), (1620, 0.020732179385200618), (2163, 0.020730285890400275), (4071, 0.020730260198278498), (4602, 0.020705017956607896), (4439, 0.020704871889771912), (3825, 0.020695428282852434), (3101, 0.020693891158463856), (178, 0.020688585118738965), (2965, 0.020678867965993622), (2801, 0.020676602288512924), (49, 0.020669300346435625), (2849, 0.0206683890404533), (4396, 0.020647702994745692), (983, 0.020642793594513792), (4365, 0.020631763683168644), (2511, 0.02063074176421161), (1630, 0.020611040121821994), (4738, 0.02060406646267936), (1235, 0.020593787309447255), (1718, 0.020582540272383203), (4200, 0.020555494029064973), (2968, 0.020552073896653658), (2735, 0.020547316967525077), (3943, 0.02051792572315743), (722, 0.020492028405053653), (3752, 0.020479808300685857), (1594, 0.02047522317772528), (2402, 0.020465748406514505), (2947, 0.020464601411635835), (3283, 0.020457378054404857), (924, 0.020448237242268567), (454, 0.020442323007131363), (3228, 0.020438059218585238), (2387, 0.02042694684772669), (4325, 0.02042439681995238), (1350, 0.020419812842023592), (1050, 0.02041375245545244), (2924, 0.020412758105608952), (839, 0.020400856032153886), (3547, 0.02039745918224886), (3296, 0.020373982764483343), (3956, 0.020368401740781063), (3108, 0.020365579748974166), (3240, 0.020357861642612128), (1868, 0.02032769339685599), (4175, 0.020325272383150746), (1095, 0.02030141729776446), (4167, 0.02029546034983647), (1776, 0.02028745508456118), (1360, 0.020284302492424033), (564, 0.0202574508258962), (2693, 0.02025272078319818), (2295, 0.020229607377854973), (2424, 0.02022745238791676), (2785, 0.02021826771388966), (3484, 0.020214073042078055), (659, 0.02021362335441995), (2756, 0.02019328278836946), (3070, 0.0201901450874649), (1319, 0.020186938344141862), (2636, 0.020184791217116145), (2827, 0.020159321526259242), (2410, 0.02015156228234854), (900, 0.020145151074644974), (4490, 0.02014456587281341), (4683, 0.020143070581258575), (4731, 0.02014239061140565), (860, 0.02013360732790287), (4278, 0.020124608790703748), (2876, 0.020115608994243243), (485, 0.020100999903395835), (2505, 0.020089477948736365), (561, 0.020084046996209005), (547, 0.020067164911690825), (405, 0.02006338901434421), (111, 0.0200578363652288), (3423, 0.020055064654358003), (3776, 0.020052487337071816), (1985, 0.020018232553813117), (2327, 0.019998489714817727), (4059, 0.019940620523629812), (2145, 0.01993356286009431), (2306, 0.01992541023440216), (1038, 0.019924428441861285), (1463, 0.019923482383648945), (4583, 0.019922650224596328), (2744, 0.019916089473520495), (4022, 0.019914165854682454), (3822, 0.019911820627688342), (1832, 0.019903157140278162), (4539, 0.019898657083558265), (3022, 0.01989162149236732), (1715, 0.019882584473734373), (3702, 0.0198795317423633), (4356, 0.019874303490024434), (262, 0.019871187811273745), (2457, 0.01985386659522733), (3973, 0.019851403921489236), (4498, 0.01981475309037361), (98, 0.019814277851899584), (3385, 0.019804919603066913), (760, 0.019794408722382223), (110, 0.01977164224460067), (268, 0.019761582530348553), (823, 0.01975849027071882), (1361, 0.019748783920917425), (2398, 0.019745160304478253), (4350, 0.019744358419467204), (2983, 0.019741717098398667), (1200, 0.019727163049684027), (3762, 0.019693115837069987), (1367, 0.01967348613660339), (4596, 0.019671487409321318), (4570, 0.019669033264506648), (3217, 0.01966802516759078), (2099, 0.019658198997920054), (1709, 0.019642348590357562), (2317, 0.01962143810477101), (113, 0.019619597332351895), (3758, 0.019594615522351415), (412, 0.01959237665964706), (3904, 0.019589625031773833), (3863, 0.0195717140154976), (3208, 0.019557967313885073), (644, 0.019551867600163177), (4488, 0.019546596040998027), (3897, 0.01952319822676414), (1858, 0.01951590774693663), (4397, 0.0195074273609097), (8, 0.01949849226219765), (4182, 0.01949164474649237), (4084, 0.01947524949460206), (3277, 0.01945444120421605), (536, 0.019426309933336914), (2937, 0.019423931679978145), (3573, 0.019413983103967324), (4177, 0.019405036057056898), (698, 0.01939656809428801), (2116, 0.019388555047138503), (3080, 0.01937893800741622), (2498, 0.019365985209887245), (1322, 0.01936385782595562), (475, 0.019346501416968746), (4129, 0.019318800579245624), (1745, 0.019317911169583632), (3273, 0.019290599406383665), (3419, 0.019279608450624375), (3212, 0.019276965694615556), (3309, 0.01927392495510696), (2644, 0.019273631658494057), (3570, 0.01926021648661487), (459, 0.01923858778562504), (156, 0.01923747039603742), (4208, 0.019230805904051233), (3260, 0.01919633873856315), (1739, 0.019193171438983893), (4393, 0.01917607752083131), (4155, 0.019165454239098257), (1628, 0.01915814597009659), (4713, 0.01914917823351042), (3876, 0.01912268160420922), (2159, 0.01911359875005831), (4665, 0.019105338193353513), (2208, 0.019102955963041582), (1642, 0.01910069329848386), (3148, 0.019095387654455127), (2217, 0.019092696905150384), (4537, 0.019078627835910883), (2599, 0.019074251326010146), (1626, 0.01905622758108541), (2064, 0.0190488953787692), (2839, 0.01903494083061287), (3820, 0.01902060276123584), (3081, 0.019009241880825964), (1593, 0.019005638962336688), (4560, 0.0189943820327459), (1720, 0.018985732211238674), (1862, 0.018962098426310487), (1886, 0.01892091484085394), (343, 0.018906102138451012), (2052, 0.018902678512791017), (2945, 0.018896059798699464), (2935, 0.018894776693278652), (2363, 0.018893396228702175), (4492, 0.01888968563649937), (202, 0.018884704146621745), (1712, 0.01883874785270684), (291, 0.018814867740940308), (4203, 0.018807776451706566), (3794, 0.018806962273256924), (2121, 0.01879912833019588), (3513, 0.018794862475619442), (3291, 0.01879233280750621), (1377, 0.018781925809997747), (3003, 0.01877286403315217), (1859, 0.01876343585760716), (4383, 0.018761332881555938), (1619, 0.018748616759879336), (3011, 0.01874716628489473), (734, 0.018746107040575895), (3505, 0.018736459888917676), (2925, 0.0187352059442059), (4276, 0.01871924215725386), (1270, 0.01868206796850294), (3622, 0.018673405705037262), (2805, 0.01865807237456767), (462, 0.018637763626899895), (4625, 0.018636902779575998), (2034, 0.018620098174195264), (3294, 0.018607351101326473), (2508, 0.01856736329319916), (3374, 0.018553437122270734), (2329, 0.018547451005610834), (4361, 0.018543489159117223), (1236, 0.018540853035865633), (1337, 0.018539058217833606), (3934, 0.018533566858938703), (2564, 0.01853306328116612), (1417, 0.018483309238039883), (2219, 0.01846749717107988), (1333, 0.018417863400249916), (1917, 0.018403522498072256), (3947, 0.018401536386031078), (4623, 0.018397634643354532), (2311, 0.01836776697941145), (1562, 0.01835225030259682), (4184, 0.0183405342291052), (4513, 0.018333614609064554), (2607, 0.01832879854424289), (2978, 0.018303025543321392), (2185, 0.018298236655686057), (4199, 0.01829481335160562), (44, 0.01827505362915159), (3948, 0.018259436612695405), (3295, 0.01824087422725802), (272, 0.018232359780296095), (2533, 0.01822669762361315), (3806, 0.018167463734059044), (3012, 0.018166699051899934), (4196, 0.018147225258534766), (3561, 0.018146874688512067), (2183, 0.018141392091190388), (3475, 0.01810271637956736), (2230, 0.01806641302639682), (4386, 0.018065554726282088), (4087, 0.018064645821477418), (2080, 0.01804509109370488), (3347, 0.0180392294693021), (2995, 0.018037754492499457), (2300, 0.01801864853853788), (3577, 0.018010929084699798), (163, 0.017993230281081282), (3596, 0.01797331174934483), (3434, 0.017967589072873106), (2451, 0.017945142487125285), (3865, 0.01794384524201525), (1514, 0.01793260707321402), (1132, 0.017927223775257677), (2010, 0.017918608502360864), (3216, 0.017915905121320234), (3821, 0.01787207810782158), (2943, 0.017863005636745727), (1654, 0.017845674822520786), (4593, 0.0178419172984498), (1883, 0.01784039916722708), (357, 0.01783615506602107), (2365, 0.017822086738834314), (1037, 0.017801204682753466), (1260, 0.017773660493026804), (4487, 0.01774416838948604), (2562, 0.017694828369711965), (2988, 0.017691714716509082), (1430, 0.017689241428733345), (1806, 0.017677714842044792), (4458, 0.017673995663247708), (2611, 0.017647205982294106), (2954, 0.017616182139941473), (2828, 0.017605517967373203), (3889, 0.017593951007142714), (2357, 0.01759236096660078), (1534, 0.017562027452104986), (746, 0.017538266718655698), (124, 0.017498891011618556), (2951, 0.017496295825710086), (2351, 0.01747883985519303), (2626, 0.017430269802572965), (833, 0.017401492421909612), (1793, 0.017391211730503685), (296, 0.017350126704691438), (4468, 0.017349699918486373), (2592, 0.017340209151895998), (3898, 0.0173376821610033), (4282, 0.01733039347046625), (3546, 0.017303345078115175), (3828, 0.01729090985605837), (608, 0.01728289035851813), (4045, 0.017270663592796474), (2845, 0.017269250955798243), (4573, 0.017263551749193338), (2966, 0.01726151234719166), (1606, 0.017233456758967952), (3508, 0.017216930072287397), (1369, 0.017210726605516605), (2595, 0.01720781019931661), (344, 0.01720679600330311), (2634, 0.017202545509333533), (2871, 0.01717029988357767), (3731, 0.017168677963489053), (3827, 0.017148680342150315), (3799, 0.017133161953360405), (3245, 0.017114196332808713), (1516, 0.017072457678344782), (4485, 0.01706743982493059), (3699, 0.017049003388744096), (3181, 0.01704225632024325), (4519, 0.0170322537307424), (2795, 0.01702386588847965), (106, 0.017008863674181092), (2831, 0.016999322390175275), (1979, 0.016973586738901925), (3482, 0.016956590121875153), (2833, 0.01693829560421426), (749, 0.01691991020880861), (2732, 0.016903541082223823), (4452, 0.016856683845038425), (679, 0.016844032028973006), (1047, 0.016841897810002893), (0, 0.01683024951485814), (2337, 0.01681556475122638), (2825, 0.016769582043354346), (1782, 0.016749310951313743), (1674, 0.016747834151189217), (787, 0.01673233459108854), (1444, 0.01671407701378764), (2216, 0.016712513831214505), (4054, 0.016707886511525893), (2304, 0.016705936513901776), (1029, 0.01669934638827119), (3218, 0.016683998947267537), (1940, 0.016672573768512174), (4014, 0.016671660074681856), (2817, 0.016663946304242734), (1605, 0.01662987919182797), (1978, 0.01662717509159614), (3196, 0.016619036304148196), (395, 0.016615225269926495), (612, 0.01659694247822322), (3413, 0.016587192296613082), (2058, 0.016582603370934385), (2690, 0.01656528980080703), (947, 0.01654310510024659), (3442, 0.0165351964661642), (3028, 0.01648092590084834), (775, 0.016451470891001622), (2499, 0.016449526062761927), (2762, 0.016418204931257792), (3182, 0.016383592531894718), (1759, 0.016374660949090417), (3164, 0.016373235257216838), (1575, 0.016330375186452563), (4062, 0.01632648812777688), (3479, 0.01631293799028861), (4635, 0.016312832746313267), (2005, 0.016300130182361358), (2548, 0.016291264970161576), (1836, 0.0162901473620224), (1941, 0.016288623982615522), (373, 0.016273918350895082), (747, 0.016247852464525248), (2435, 0.016240742716642734), (4269, 0.016235531971861197), (755, 0.016194306442731045), (205, 0.01618975001172142), (1636, 0.016182068936485813), (2362, 0.016178612983131172), (1248, 0.016163170124046642), (279, 0.016151271226473203), (1653, 0.016103033822123115), (642, 0.01609214050870919), (3154, 0.016089056419778598), (194, 0.016083791522010497), (341, 0.016078450974024418), (2858, 0.01607351617281857), (1719, 0.016069460043940567), (1743, 0.016067815050358626), (3511, 0.01606337616251694), (3381, 0.016056065668563706), (748, 0.016048662541101495), (1551, 0.016026857220686534), (3418, 0.016021660663483726), (2180, 0.016019357284016482), (905, 0.016018286427693592), (226, 0.016014202048013043), (2408, 0.016007752150102972), (1505, 0.01598944421288107), (148, 0.01597249406017015), (4403, 0.015955177494185863), (2372, 0.015932279156567516), (351, 0.015892650353759193), (2650, 0.015880671040668412), (2604, 0.015878343149430547), (2739, 0.015873116110124107), (1133, 0.015873087545156976), (4115, 0.015864847625620057), (904, 0.015858114983098245), (4565, 0.015852679234930424), (4705, 0.015848222912074567), (2471, 0.015848141916922142), (2476, 0.01584424810097476), (2676, 0.015839567632352527), (3152, 0.015837571263492636), (4717, 0.015832308009350517), (1064, 0.015831425475887978), (1290, 0.015821460888480146), (4418, 0.01581673924055031), (3289, 0.015806147256676898), (14, 0.01578556847469876), (4090, 0.01577766410850668), (1956, 0.015766575411675345), (2957, 0.01575159720801261), (1747, 0.01574514516549854), (2113, 0.015740971519561806), (3098, 0.01572302139386375), (769, 0.01571905881266992), (3639, 0.01569676038785512), (2854, 0.01566552335667054), (574, 0.015665243624692737), (1749, 0.015628794431490123), (1003, 0.015627572119507875), (4174, 0.015625859314601753), (1423, 0.01562056560128498), (2468, 0.015616907833115451), (4207, 0.01561397203115612), (3036, 0.015594438858273166), (1384, 0.015570685352978328), (503, 0.015551446950059911), (2874, 0.015548481530489879), (3330, 0.015539082604802815), (1338, 0.015534142950501194), (1543, 0.015532873894303037), (3608, 0.015524239142621285), (2212, 0.015508883450534375), (1928, 0.015506254265709556), (4387, 0.015490470453793327), (2731, 0.015489558385967293), (4073, 0.01548862251342913), (1159, 0.01547486451960653), (3912, 0.015472760050138909), (465, 0.015462112588053398), (1617, 0.015460738675981321), (577, 0.015431800817053098), (1822, 0.015413203051352587), (4228, 0.015411062648790462), (129, 0.015410394361082599), (3474, 0.015395307379660876), (1161, 0.015386047992202199), (1665, 0.015343388000334014), (4172, 0.015320018283106383), (4700, 0.015318608162341155), (402, 0.015318269332541854), (265, 0.015317286179130966), (2188, 0.015316046651791603), (408, 0.015309538059439212), (2366, 0.015306445330999424), (4415, 0.015297474767015496), (3062, 0.015293519170254928), (3554, 0.015247902701436087), (1105, 0.015227770210559363), (1893, 0.015217750193662137), (3241, 0.015191493966318807), (2768, 0.015187805513742943), (3053, 0.015179360819131796), (215, 0.015173504910863878), (4544, 0.0151710296930913), (4473, 0.01517087424025603), (4226, 0.015151114073479785), (3600, 0.015148520898260619), (1152, 0.015147336464463533), (759, 0.015129727503585998), (2746, 0.01512253334417492), (3724, 0.015122297642143092), (3088, 0.015119482839934929), (609, 0.01510598931856997), (2176, 0.015095606965678753), (3323, 0.015081321641832655), (3049, 0.01506077434217974), (432, 0.015044482428703277), (4362, 0.015043286755811378), (197, 0.015010872190534593), (3894, 0.014968581653958505), (974, 0.01496356106347263), (4505, 0.014948615724114243), (3811, 0.014941409977633227), (3770, 0.01489939203141728), (121, 0.014891503554603551), (4405, 0.0148753648543028), (3145, 0.014870176620986348), (4417, 0.014863529203588181), (3893, 0.014860552177082062), (383, 0.014859836919455159), (4666, 0.014857056118160872), (3077, 0.014851548688696698), (1130, 0.014826476836784883), (1721, 0.014821217728914383), (4293, 0.014815347941053264), (4025, 0.014813860790141731), (771, 0.014800780079008966), (4120, 0.014796673797008077), (3765, 0.01478584197945207), (2752, 0.014777206214908245), (4239, 0.014755065840715655), (762, 0.014749791483946988), (4409, 0.014744419030173058), (3242, 0.014744394725595706), (2719, 0.014735890984032291), (1331, 0.014734484296002989), (3793, 0.014712661641957059), (3465, 0.014711886434625569), (1586, 0.014710824471471467), (3583, 0.014707019387684463), (4297, 0.01470517523764608), (1980, 0.014690802581742983), (4692, 0.014688629237289802), (427, 0.014668390626063836), (4219, 0.01466699336017268), (2165, 0.014662752876184047), (4110, 0.01465725193919988), (3768, 0.014647672031086023), (1513, 0.01464481453042056), (317, 0.014626173758641574), (1995, 0.014619004538382368), (4434, 0.014618437925213227), (794, 0.014584858604936676), (1234, 0.014584360950070296), (3263, 0.014572055273619672), (2929, 0.014566446815439017), (4448, 0.014561604010678802), (210, 0.014560393950777375), (1035, 0.014552195505221705), (3032, 0.014546489023581076), (175, 0.01454543331849635), (4532, 0.014521718298340876), (3940, 0.014513300467209778), (3033, 0.014474674817930194), (3023, 0.014461514162491794), (4312, 0.014451614638947192), (372, 0.014451258952859621), (1025, 0.014439157001150112), (2309, 0.014431082436235834), (1735, 0.014427076626959138), (3619, 0.014407973038520133), (2834, 0.014386290252695045), (3252, 0.014382318672990661), (2880, 0.01437084166650353), (52, 0.014368139271753858), (2597, 0.014358347394505179), (2939, 0.014350947695576714), (3151, 0.01433460271864241), (114, 0.014328351935781827), (1039, 0.014322162494174224), (1353, 0.014297687291860223), (2090, 0.014290986121606907), (2875, 0.014277200270403967), (4449, 0.014264471370879255), (4721, 0.014213332526685836), (1211, 0.01420825724712789), (1372, 0.014203515090014246), (1018, 0.014203357737650552), (1867, 0.014165741088752102), (96, 0.014161954876098502), (3, 0.014160977456037518), (743, 0.014160006924823018), (3540, 0.014129984626388908), (3727, 0.014122597217394249), (3588, 0.014109947823598324), (4651, 0.014107421643656033), (2229, 0.014105989946768371), (82, 0.014083798912324585), (3300, 0.014080122317550103), (2399, 0.014073451487406699), (1208, 0.014072658823468826), (2140, 0.014071702430955409), (1752, 0.014066438104297608), (1298, 0.014064000566289455), (1984, 0.01405800496496064), (2325, 0.01405241440427656), (3714, 0.014018488644516065), (4027, 0.014001733916943164), (3123, 0.013990686407923605), (3722, 0.01398923285364203), (2560, 0.013985297031837646), (975, 0.013961943342028292), (2240, 0.013931015218133617), (2225, 0.013926344718802847), (2737, 0.013922758066906323), (4342, 0.013897849131057311), (3063, 0.013893000584012601), (4042, 0.01388772313648693), (4163, 0.013876793092228681), (1958, 0.01386086908295538), (4743, 0.013856444547061718), (4727, 0.013844354670353349), (2906, 0.013832127204779285), (4579, 0.013826553027941762), (2020, 0.013818210401210729), (2119, 0.01381228360358027), (3607, 0.013803488102388708), (4149, 0.013800202856037308), (3910, 0.013791965302511006), (2979, 0.013788944714889792), (1975, 0.013769432832669525), (3117, 0.013764286397370987), (4691, 0.01375880777428928), (2454, 0.0137498470791293), (4197, 0.013748562369219293), (4670, 0.01372135038421791), (3788, 0.013720852533501204), (1101, 0.013711913008551194), (4157, 0.01370632011191255), (3881, 0.013690830767656538), (2142, 0.01367971967737763), (2097, 0.013672816097472531), (2436, 0.013661304707745193), (2167, 0.0136488515823849), (3054, 0.013643135294032228), (2759, 0.013640433686201076), (4543, 0.01363760772736504), (1722, 0.013635456363585582), (3524, 0.01362980361173376), (2101, 0.013623411022837217), (2255, 0.013601314905868717), (4648, 0.01357877679356552), (2721, 0.013561028400592014), (3256, 0.013556148869859551), (1623, 0.013543638940728367), (1523, 0.01354334622855025), (2586, 0.013535592024004804), (3517, 0.013535563805035601), (581, 0.013512671565292182), (2974, 0.013495537638268405), (3824, 0.01349157087960255), (311, 0.013447208687786686), (2465, 0.013444283642754042), (2829, 0.0134347929238679), (3165, 0.01341109535631727), (240, 0.013397164641067154), (2267, 0.013395282629109655), (3026, 0.01337535332638667), (2344, 0.013374065039411825), (2495, 0.013351471381600727), (943, 0.013348282716996764), (4237, 0.013329564187371933), (1768, 0.013326490229443898), (1316, 0.013293460213169342), (1891, 0.013270552521334373), (3926, 0.013261741832809561), (2032, 0.013255937034026822), (907, 0.013253278296480177), (2379, 0.013249631407344016), (3254, 0.013234267426260111), (3617, 0.013231127257669631), (3481, 0.01322215262645611), (1477, 0.013218425584601665), (4463, 0.013213317007201873), (939, 0.013207495697335266), (2227, 0.013201135766498584), (3580, 0.013199525018867102), (3633, 0.013197477596915015), (2068, 0.013194836099519788), (1157, 0.013186535135071124), (4204, 0.013174139172515637), (1237, 0.013169204481346838), (2777, 0.013160274074458918), (3052, 0.01315089656428645), (3048, 0.013145854627706188), (1834, 0.013120449219264183), (2516, 0.013115236308243704), (1021, 0.0131127012102341), (3791, 0.013083525323380928), (2786, 0.013073674484826936), (4696, 0.01307248720726719), (2388, 0.013069505342510803), (1461, 0.01306821260917006), (2439, 0.013056627097273463), (2400, 0.013047232548627666), (1845, 0.013026591900402182), (1935, 0.013011298030839096), (3335, 0.013009388397858125), (1597, 0.012997323267686205), (2619, 0.01299349549134623), (767, 0.012977386350561762), (1187, 0.012961431588053478), (2666, 0.012951834620047925), (4619, 0.012947176839393488), (3111, 0.012944469158365656), (2722, 0.01294410136670489), (1671, 0.01293994797353101), (3246, 0.01293032377045267), (1144, 0.012899417897569206), (2046, 0.012897864209587436), (2814, 0.012884057528917673), (366, 0.012873513359660138), (2905, 0.012866619736869143), (2138, 0.012840991622400696), (4254, 0.012838392680783375), (2697, 0.012827546544782659), (3024, 0.012825805424920947), (998, 0.012822277377512417), (3264, 0.012815092492475342), (4316, 0.012813645695907332), (3437, 0.012810425918747488), (1204, 0.012802156466321643), (159, 0.012786197719906722), (22, 0.01278039734670651), (1760, 0.012775514134748315), (3536, 0.012772853914224754), (1156, 0.012769231208524887), (2606, 0.012749918256775405), (3244, 0.012734645253596289), (2462, 0.01272888903759055), (1330, 0.012722364863783902), (1163, 0.012720364567425525), (3014, 0.01269099718865516), (2946, 0.012684626099448398), (1974, 0.012680811886628975), (2368, 0.012677700123955324), (221, 0.01267074141468481), (335, 0.01266345212685799), (1711, 0.012662655868536217), (4180, 0.012635747005980955), (4302, 0.012628638803630757), (1879, 0.01259815536959065), (1907, 0.01258812373710705), (925, 0.012562533433884962), (3885, 0.01255548870179873), (2964, 0.012553543473008742), (1568, 0.012548236015968012), (3753, 0.012547042325191484), (2191, 0.012543981976185784), (4395, 0.012527111995270917), (2072, 0.012496072946176492), (3127, 0.012487163332565714), (3932, 0.012481311078050006), (2620, 0.01247957764364378), (1625, 0.012461984699365877), (3687, 0.012461732475516692), (4547, 0.012455860918093344), (2463, 0.012447069449192969), (2448, 0.012423702806430376), (2195, 0.012410630040635848), (2949, 0.01239925735172992), (1501, 0.01238061672364834), (4559, 0.012373489554907868), (3109, 0.012373330523025404), (4616, 0.012359057050976799), (4701, 0.012343306694643298), (4170, 0.012338098579565701), (1410, 0.012331754499697088), (4757, 0.012299279075249745), (3425, 0.01229817828085551), (2129, 0.012286848877471078), (4427, 0.012262658663793134), (4262, 0.012258542969271148), (3601, 0.01225601668760861), (3967, 0.012236139001709986), (2534, 0.012231794721461967), (2452, 0.012230085089872333), (112, 0.012225519989649436), (3149, 0.012225371036901706), (903, 0.012221851654468444), (488, 0.01221852500724341), (4728, 0.012213684783362617), (3095, 0.012209158926318358), (4445, 0.012207698628219467), (34, 0.012203080500079497), (2627, 0.01220166049363721), (4028, 0.012198094900284588), (3021, 0.012194062402474316), (3321, 0.012167603506261684), (2991, 0.012154664468850752), (4217, 0.012147597087468648), (2056, 0.012147233726171519), (2396, 0.012134652533577182), (1878, 0.012133130318414773), (2779, 0.012127831488113267), (3068, 0.012120480820138698), (1785, 0.012120199858902472), (3975, 0.012118221608092153), (16, 0.012115080829457177), (2556, 0.012079409632510755), (4730, 0.012076897281166569), (2263, 0.012064834608196852), (2674, 0.012029120649017396), (524, 0.012010374302488025), (3142, 0.011998884587115857), (2464, 0.011975017130287348), (2441, 0.01195286138087647), (4327, 0.011943110384787518), (4752, 0.01194135827280678), (3304, 0.011928238450368356), (3638, 0.011902629340345427), (1756, 0.01189891447593915), (2391, 0.01187685797052626), (2291, 0.011830993104757707), (786, 0.011820281737573688), (2220, 0.011810998592855955), (3349, 0.011802009368468083), (3075, 0.011795375010908167), (2602, 0.011794717254512345), (2631, 0.011765150542437137), (721, 0.011745255925764333), (3125, 0.011678747790709158), (4166, 0.011643714555118586), (4536, 0.011608065505906078), (2872, 0.011575345360710096), (3918, 0.011571229842433061), (1147, 0.011565555964810117), (3037, 0.011537968330723587), (2049, 0.011386382572744791), (1622, 0.011379793525234718), (4499, 0.011347055371618925), (3487, 0.011278473831353622), (831, 0.011240062909352758), (3813, 0.0112303689692524), (3576, 0.01109220509852526), (2509, 0.011069377907294186), (2469, 0.010963023958495471), (1434, 0.010938789764905046), (1631, 0.01093447838241858), (2855, 0.010908247360633304), (4243, 0.010898738623641789), (2885, 0.010845876663913475), (2299, 0.01081308909303193), (437, 0.01080625758890275), (4512, 0.010724703276304008), (4311, 0.01070910434964891), (1277, 0.010668198365521814), (3377, 0.010605384501543644), (4517, 0.010603039986538351), (3669, 0.010468339666844517), (4744, 0.010425404866233213), (2806, 0.010403179923234609), (929, 0.010329970735512738), (3537, 0.010306171075483584), (2147, 0.010271393071591306), (4461, 0.010218725643070917), (1741, 0.010148252253965657), (2512, 0.010095472404849629), (4229, 0.010069811620023154), (2793, 0.01004145331797195), (840, 0.009930732899111823), (4652, 0.009918178534132528), (4065, 0.00991361617275752), (1733, 0.009887935938431881), (1689, 0.009849296575102985), (4021, 0.009767101799700167), (2289, 0.00976590080297439), (2458, 0.00976560541778692), (3281, 0.009740496506886971), (86, 0.009737536722650156), (628, 0.009625571155109463), (4555, 0.009614610183803957), (2488, 0.009584681228479832), (1754, 0.009578512045753924), (1339, 0.009486814765546412), (1112, 0.009462718605286125), (1896, 0.009438774829879516), (3204, 0.009423156934486697), (51, 0.009421688765292355), (1485, 0.009408353659003946), (1598, 0.009358109482193), (342, 0.009342963960420541), (3493, 0.009318017884981081), (2039, 0.009308131343007977), (3299, 0.009306462302281097), (318, 0.009289960260392721), (1668, 0.009288533747725708), (2270, 0.009267533746377645), (225, 0.009253577676568961), (3816, 0.00921484690185835), (3866, 0.009210692319603872), (665, 0.00919093228811636), (3830, 0.00918897175832514), (2395, 0.00917531452457157), (392, 0.009165884245850691), (1407, 0.009146514416787967), (3010, 0.009143730030718897), (841, 0.009141117675935655), (391, 0.009137968958297599), (2802, 0.009123692039450388), (2199, 0.009121919095487877), (4151, 0.009117708682529332), (4117, 0.009106934699290341), (3439, 0.009102850959595352), (4759, 0.00909293867579904), (1959, 0.009092626527951564), (1716, 0.009085451500156258), (431, 0.009083693411047627), (2760, 0.009067502370128041), (2347, 0.009062153018177348), (518, 0.009054889497962541), (2769, 0.009045749312965434), (2272, 0.009033108714590687), (2645, 0.009021113033739543), (2502, 0.009016017837141527), (1920, 0.00899708884365092), (1724, 0.008992288745213838), (4658, 0.008977263022593027), (847, 0.008969552188904394), (2614, 0.008943801247254187), (3219, 0.008917605744937367), (2809, 0.0089169945223911), (764, 0.008903509317856904), (126, 0.008903358246696759), (962, 0.008902471759424251), (2301, 0.00888802168828948), (1465, 0.008879028557300116), (3042, 0.00887510478635655), (2999, 0.0088595211819889), (1929, 0.008848367960056452), (1264, 0.008832730839788852), (2266, 0.008829679179492785), (3119, 0.008828371070839943), (2818, 0.008827545242147093), (3644, 0.0088265622707316), (2281, 0.008821412911881536), (889, 0.008811933419039762), (828, 0.008806615207478219), (466, 0.00880602435771104), (660, 0.008798931237117101), (4402, 0.008790710829368404), (1116, 0.008784988493243402), (2692, 0.008777485175552003), (1170, 0.008774891603631478), (1679, 0.00877038715266414), (209, 0.00876737052833845), (196, 0.008766265305973882), (2334, 0.008761186749606149), (1395, 0.008758942933538603), (689, 0.008755026882632173), (1124, 0.00875091392064278), (3292, 0.008733338387370459), (1840, 0.008727295023318348), (1453, 0.008726853130951522), (1034, 0.008720853205936512), (959, 0.00869227766744851), (2572, 0.008689596763891975), (2302, 0.008689443803409646), (1691, 0.00867403554765581), (2008, 0.008671819797939377), (605, 0.00866282754436636), (910, 0.008658691513523418), (2836, 0.008656901985926897), (1596, 0.00864806904207798), (1411, 0.008635031555506333), (1790, 0.008634607494846094), (901, 0.008634344118473782), (2835, 0.008632969150258081), (2868, 0.008630928093139527), (1704, 0.008629941032484451), (2893, 0.008617982266235981), (3457, 0.00861655456788181), (4214, 0.008611691534976023), (1476, 0.008596351013505366), (3823, 0.008590804998076306), (281, 0.0085868514886129), (1813, 0.00856280016076616), (740, 0.008550522652237068), (2553, 0.008544524610668364), (1885, 0.008534525326541996), (784, 0.008527827127843864), (2204, 0.008511057978853327), (1528, 0.008510852453827867), (2, 0.008495267523936367), (1329, 0.00849063176647391), (3895, 0.008475748043924626), (999, 0.008474751414936489), (2912, 0.00847397212742253), (4545, 0.008472265130808617), (506, 0.00846647271447078), (132, 0.008447153714756482), (2695, 0.008437179970767362), (2724, 0.0084347179236425), (3674, 0.008418294585624705), (1030, 0.00841172675543268), (2453, 0.008406039470197397), (4398, 0.008403881728335429), (3410, 0.008399165848491395), (3110, 0.008392886262751666), (4634, 0.008373898706308495), (66, 0.008366812408565386), (3529, 0.008366246924823144), (1690, 0.00836319599412592), (127, 0.00836145934471964), (2126, 0.008361173052264213), (2683, 0.008338793196529307), (146, 0.008330315314998948), (3178, 0.008330261372946153), (3103, 0.00831934003365005), (2440, 0.008305555519344834), (2977, 0.008303765862791808), (2234, 0.00829712767814368), (1462, 0.008296796798542252), (4617, 0.008293191259461876), (2891, 0.008292887496578239), (1635, 0.008286854440720835), (115, 0.00828635508059821), (1699, 0.008285941615987794), (3313, 0.008283912065168287), (881, 0.008283909675003403), (2942, 0.008274773897752765), (1313, 0.008268457326864851), (3757, 0.008264839052310298), (3754, 0.008252073198779426), (3319, 0.008251853141281174), (2503, 0.008250558289612176), (3072, 0.008248699152935662), (1661, 0.008240079840333123), (3266, 0.008238024252745134), (2343, 0.008235302551310608), (2141, 0.008231997872249383), (4710, 0.008228970907534678), (1390, 0.008220846787630794), (2589, 0.008220054733577252), (4002, 0.008220032366315794), (3664, 0.008219216246386402), (2738, 0.008212773308883115), (1996, 0.008204347236505143), (2870, 0.008203929765039038), (1199, 0.008180725598682053), (3789, 0.008180331580842531), (2418, 0.008153799584635291), (2222, 0.008151686486543831), (3703, 0.008146682119184873), (407, 0.008144043490545778), (1588, 0.008135683419386839), (3620, 0.00813241393153881), (4198, 0.008131939806599264), (3265, 0.008131337012294572), (2333, 0.008123791038878617), (1036, 0.008122712928711754), (733, 0.008118486212396556), (1981, 0.008115430705252096), (2446, 0.008111099571537555), (393, 0.008108995323642617), (2985, 0.008101095942777385), (4020, 0.008100698265859144), (398, 0.0081003087932738), (1429, 0.008091883387268857), (593, 0.00808758204207844), (3297, 0.008077498527950797), (3843, 0.008071291064938209), (2632, 0.008071260007638057), (2404, 0.008066033677784513), (3962, 0.008060071804362023), (3678, 0.008056149592336316), (958, 0.008052848953893972), (3322, 0.008052202958004288), (4355, 0.008051717759516444), (1676, 0.008034148542610798), (1953, 0.00803296396123392), (1424, 0.00802865649787639), (2000, 0.00802763168997693), (3882, 0.008027176813012408), (3326, 0.008026997178170753), (2797, 0.008023343428666277), (1875, 0.008021460491244116), (718, 0.008020484407680207), (2726, 0.00801938929423784), (3262, 0.008015250771609406), (3329, 0.00801329090181992), (3966, 0.008007381981852094), (4689, 0.00800195576304596), (2190, 0.007994296326599704), (4212, 0.007990197547712982), (3086, 0.007983821664808037), (2967, 0.007982570291629881), (2369, 0.007978796128515393), (2679, 0.007975142976489769), (29, 0.007965215354538487), (479, 0.007963964516314582), (2928, 0.007956380541653318), (3369, 0.007951716868451059), (1734, 0.00795136634243149), (3441, 0.00794350682573592), (2775, 0.00793989844959686), (2633, 0.007939253097413917), (3688, 0.007937197773843404), (2350, 0.007930565144482631), (2467, 0.007923725341253483), (2902, 0.007918981962120226), (1877, 0.007912764362140301), (2466, 0.00791130172191374), (4594, 0.00790999888381924), (3999, 0.007908523726986038), (3936, 0.007904694025870376), (3226, 0.0078878872391927), (2260, 0.007872334421424619), (616, 0.00787227967255335), (3331, 0.007856021376855241), (4699, 0.007853254611414787), (173, 0.007846418925493315), (3855, 0.007844476977889637), (3424, 0.00784266415025242), (2257, 0.007835112956612298), (3667, 0.007832764212008845), (2307, 0.007828359205152773), (2417, 0.00782515820864402), (2816, 0.007825084269683438), (923, 0.00782394479372405), (1312, 0.007817233173082649), (1794, 0.007813253505144935), (3729, 0.007811310688266404), (2179, 0.00779948209024537), (3838, 0.007796019846739833), (4206, 0.007792312903541198), (2932, 0.007764839900136442), (2591, 0.007762080964208894), (4040, 0.007745046861359236), (4637, 0.007739591609749437), (4714, 0.007735741178395991), (4556, 0.007727269040932983), (2561, 0.007722560175543819), (2531, 0.007711916194897914), (4315, 0.007698693689296971), (406, 0.007691714885323558), (4023, 0.007690410403667929), (4702, 0.007690128163187832), (3749, 0.0076843994619363), (3848, 0.007682579423306165), (2535, 0.007681046358690441), (4220, 0.007672141467701076), (1914, 0.007669494548012268), (4520, 0.007657776067706653), (3488, 0.007645635754404369), (3411, 0.007643169410599813), (2934, 0.0076398047110148755), (3071, 0.007627381144527023), (3922, 0.007622134944660743), (1583, 0.007619888934156438), (3562, 0.007611479103209665), (3456, 0.007610077512390536), (1800, 0.007608727889112201), (3146, 0.0076004101866390325), (4740, 0.007593509880345687), (3039, 0.007591405645325857), (1830, 0.007587929854951459), (1573, 0.0075814906422471875), (4109, 0.007580268490002551), (4722, 0.007571391277488338), (3041, 0.007566380885233308), (1081, 0.007540189625713822), (2579, 0.007536839250171425), (1197, 0.007531660546434074), (1753, 0.0075206869574635845), (3715, 0.007516255594794114), (3594, 0.007489221496637966), (3512, 0.007462235031103982), (3268, 0.007458096665005743), (3832, 0.007452782268310715), (3890, 0.007452565842827035), (783, 0.007450104706499551), (3716, 0.007444482525021854), (3556, 0.007435294669226677), (2866, 0.007431436429259624), (2660, 0.007423270668054777), (1449, 0.0074226626015761864), (3239, 0.007414525478117764), (3092, 0.00739636043497363), (1526, 0.0073708400646266825), (2916, 0.007352413926984956), (510, 0.007298655243955822), (2038, 0.007285931269381463), (4631, 0.0072626468956524795), (3542, 0.007262020946711064), (403, 0.007255587342683067), (4592, 0.007238868901333923), (559, 0.007206780368523298), (4317, 0.007191639501362823), (2914, 0.007160282674816682), (1086, 0.0071552429673512104), (4604, 0.0071465046200885375), (4622, 0.007145174103633476), (1892, 0.007134662056957187), (2671, 0.007128845814104537), (3929, 0.007121997414285621), (3900, 0.007113055111244951), (3585, 0.00711201765068151), (3389, 0.007110131501820317), (3856, 0.00709914338064703), (2348, 0.007095887183465265), (3138, 0.00708496787418275), (2355, 0.007083126700393211), (3896, 0.007054842469506261), (4133, 0.007053053923000775), (3400, 0.00705084630847395), (2194, 0.007050830242279109), (3118, 0.007049186321363405), (4514, 0.00704587959791853), (2152, 0.007043925545856696), (2926, 0.007028151585513995), (4426, 0.0070192540578933055), (3802, 0.007011029120226836), (3627, 0.007000831823368506), (4698, 0.006970633955434794), (134, 0.006954892605426305), (3951, 0.006954579747709844), (3007, 0.006932742405881466), (3258, 0.0069264075922985165), (4475, 0.0069009246208616695), (4720, 0.0068836875555911906), (2207, 0.006871733750964181), (1019, 0.006853620549585103), (3647, 0.006834834052145309), (4751, 0.0068337072823872694), (761, 0.006801432586274877), (103, 0.006736362075282304), (473, 0.006697325814622888), (3383, 0.006690393462428606), (838, 0.006689840338037812), (2973, 0.006681023378670738), (3590, 0.006659760841258374), (157, 0.006595448990657647), (3928, 0.006564527831223511), (3984, 0.006503089930370437), (3761, 0.0065016896603205905), (2933, 0.006462748196942647), (3059, 0.006446544397126027), (3006, 0.006424916240868369), (1415, 0.006405250984961449), (3707, 0.00635563877675951), (2002, 0.00633906330086954), (4250, 0.006317822137827214), (4131, 0.006306442084596355), (4079, 0.006294752425929549), (3668, 0.0062585750590538015), (4215, 0.006229058506617226), (3431, 0.006178763437487126), (941, 0.006145232949007772), (3203, 0.006140744446338411), (1994, 0.00610938056496517), (4326, 0.006082374400442631), (2331, 0.0059246202973266835), (4729, 0.0059097126635599935), (3421, 0.005903704317612364), (3676, 0.005891236520818675), (2741, 0.005796508569223993), (3645, 0.005692543348241101), (4598, 0.005592494099671859), (4301, 0.005415292150314233), (3835, 0.005157559770673144), (3293, 0.0033929074183977827), (133, 0.0), (693, 0.0), (776, 0.0), (933, 0.0), (1317, 0.0), (1421, 0.0), (1487, 0.0), (1499, 0.0), (1792, 0.0), (1807, 0.0), (1826, 0.0), (1954, 0.0), (1960, 0.0), (2087, 0.0), (2108, 0.0), (2118, 0.0), (2133, 0.0), (2146, 0.0), (2154, 0.0), (2157, 0.0), (2175, 0.0), (2186, 0.0), (2209, 0.0), (2247, 0.0), (2248, 0.0), (2282, 0.0), (2314, 0.0), (2323, 0.0), (2328, 0.0), (2346, 0.0), (2358, 0.0), (2394, 0.0), (2407, 0.0), (2420, 0.0), (2431, 0.0), (2478, 0.0), (2483, 0.0), (2515, 0.0), (2568, 0.0), (2585, 0.0), (2596, 0.0), (2613, 0.0), (2618, 0.0), (2655, 0.0), (2663, 0.0), (2669, 0.0), (2673, 0.0), (2678, 0.0), (2696, 0.0), (2700, 0.0), (2702, 0.0), (2703, 0.0), (2705, 0.0), (2709, 0.0), (2712, 0.0), (2734, 0.0), (2747, 0.0), (2757, 0.0), (2773, 0.0), (2776, 0.0), (2796, 0.0), (2821, 0.0), (2832, 0.0), (2851, 0.0), (2857, 0.0), (2890, 0.0), (2900, 0.0), (2901, 0.0), (2936, 0.0), (2941, 0.0), (2948, 0.0), (2952, 0.0), (2970, 0.0), (2987, 0.0), (2997, 0.0), (3005, 0.0), (3009, 0.0), (3016, 0.0), (3017, 0.0), (3019, 0.0), (3020, 0.0), (3029, 0.0), (3034, 0.0), (3050, 0.0), (3067, 0.0), (3074, 0.0), (3082, 0.0), (3087, 0.0), (3107, 0.0), (3128, 0.0), (3157, 0.0), (3159, 0.0), (3175, 0.0), (3176, 0.0), (3177, 0.0), (3198, 0.0), (3199, 0.0), (3222, 0.0), (3234, 0.0), (3235, 0.0), (3243, 0.0), (3248, 0.0), (3251, 0.0), (3255, 0.0), (3257, 0.0), (3261, 0.0), (3269, 0.0), (3282, 0.0), (3285, 0.0), (3324, 0.0), (3325, 0.0), (3345, 0.0), (3348, 0.0), (3354, 0.0), (3359, 0.0), (3371, 0.0), (3372, 0.0), (3376, 0.0), (3391, 0.0), (3396, 0.0), (3414, 0.0), (3420, 0.0), (3422, 0.0), (3428, 0.0), (3455, 0.0), (3501, 0.0), (3506, 0.0), (3510, 0.0), (3521, 0.0), (3523, 0.0), (3530, 0.0), (3535, 0.0), (3544, 0.0), (3545, 0.0), (3552, 0.0), (3553, 0.0), (3558, 0.0), (3575, 0.0), (3579, 0.0), (3626, 0.0), (3636, 0.0), (3651, 0.0), (3663, 0.0), (3672, 0.0), (3675, 0.0), (3679, 0.0), (3686, 0.0), (3704, 0.0), (3712, 0.0), (3717, 0.0), (3748, 0.0), (3750, 0.0), (3755, 0.0), (3796, 0.0), (3800, 0.0), (3804, 0.0), (3844, 0.0), (3874, 0.0), (3878, 0.0), (3884, 0.0), (3887, 0.0), (3891, 0.0), (3892, 0.0), (3899, 0.0), (3927, 0.0), (3930, 0.0), (3931, 0.0), (3942, 0.0), (3945, 0.0), (3950, 0.0), (3952, 0.0), (3964, 0.0), (3981, 0.0), (3988, 0.0), (3995, 0.0), (4026, 0.0), (4030, 0.0), (4032, 0.0), (4047, 0.0), (4048, 0.0), (4064, 0.0), (4067, 0.0), (4092, 0.0), (4107, 0.0), (4111, 0.0), (4126, 0.0), (4134, 0.0), (4190, 0.0), (4201, 0.0), (4222, 0.0), (4230, 0.0), (4251, 0.0), (4260, 0.0), (4271, 0.0), (4352, 0.0), (4372, 0.0), (4380, 0.0), (4407, 0.0), (4412, 0.0), (4423, 0.0), (4424, 0.0), (4425, 0.0), (4437, 0.0), (4469, 0.0), (4480, 0.0), (4500, 0.0), (4508, 0.0), (4515, 0.0), (4521, 0.0), (4522, 0.0), (4540, 0.0), (4541, 0.0), (4546, 0.0), (4561, 0.0), (4567, 0.0), (4571, 0.0), (4572, 0.0), (4578, 0.0), (4607, 0.0), (4618, 0.0), (4644, 0.0), (4645, 0.0), (4650, 0.0), (4654, 0.0), (4657, 0.0), (4660, 0.0), (4671, 0.0), (4681, 0.0), (4693, 0.0), (4694, 0.0), (4706, 0.0), (4711, 0.0), (4712, 0.0), (4719, 0.0), (4724, 0.0), (4735, 0.0), (4746, 0.0), (4750, 0.0), (4753, 0.0), (4756, 0.0)]\n"
     ]
    }
   ],
   "source": [
    "print(Sorted_Similar_Movies)"
   ]
  },
  {
   "cell_type": "markdown",
   "id": "7f68aae8",
   "metadata": {},
   "source": [
    "## Print the Name of Similar Movies Based on the Index"
   ]
  },
  {
   "cell_type": "code",
   "execution_count": 37,
   "id": "2f5f2958",
   "metadata": {},
   "outputs": [
    {
     "name": "stdout",
     "output_type": "stream",
     "text": [
      "Top 30 Movies Suggested for You: \n",
      "\n",
      "1 . Spider-Man 2\n",
      "2 . Spider-Man 3\n",
      "3 . Spider-Man\n",
      "4 . The Amazing Spider-Man\n",
      "5 . The Amazing Spider-Man 2\n",
      "6 . Stealth\n",
      "7 . Oz: The Great and Powerful\n",
      "8 . Ghost Rider\n",
      "9 . Hulk\n",
      "10 . Wimbledon\n",
      "11 . The Butler\n",
      "12 . Identity\n",
      "13 . The Man Who Knew Too Little\n",
      "14 . Elektra\n",
      "15 . Dick\n",
      "16 . Small Soldiers\n",
      "17 . X-Men\n",
      "18 . The Punisher\n",
      "19 . Fantastic 4: Rise of the Silver Surfer\n",
      "20 . Brothers\n",
      "21 . X-Men Origins: Wolverine\n",
      "22 . Ladyhawke\n",
      "23 . X2\n",
      "24 . Seabiscuit\n",
      "25 . The Sorcerer's Apprentice\n",
      "26 . X-Men: The Last Stand\n",
      "27 . Blade: Trinity\n",
      "28 . Prince of Persia: The Sands of Time\n",
      "29 . Little Women\n",
      "30 . Mona Lisa Smile\n"
     ]
    }
   ],
   "source": [
    "print(\"Top 30 Movies Suggested for You: \\n\" )\n",
    "\n",
    "i = 1\n",
    "\n",
    "for movie in Sorted_Similar_Movies:\n",
    "    index = movie[0]\n",
    "    title_from_index = df[df.index == index]['Movie_Title'].values[0]\n",
    "    if i<31:\n",
    "        print(i, '.', title_from_index)\n",
    "        i += 1"
   ]
  },
  {
   "cell_type": "markdown",
   "id": "3ee6f7a9",
   "metadata": {},
   "source": [
    "# Top 10 Movie Recommendation System"
   ]
  },
  {
   "cell_type": "code",
   "execution_count": 38,
   "id": "baca1f1e",
   "metadata": {},
   "outputs": [
    {
     "name": "stdout",
     "output_type": "stream",
     "text": [
      "Enter Your Favourite Movie Name: Spider Man\n",
      "Top 10 Movies Suggested for You: \n",
      "\n",
      "1 . Spider-Man 2\n",
      "2 . Spider-Man 3\n",
      "3 . Spider-Man\n",
      "4 . The Amazing Spider-Man\n",
      "5 . The Amazing Spider-Man 2\n",
      "6 . Stealth\n",
      "7 . Oz: The Great and Powerful\n",
      "8 . Ghost Rider\n",
      "9 . Hulk\n",
      "10 . Wimbledon\n"
     ]
    }
   ],
   "source": [
    "Movie_Name = input(\"Enter Your Favourite Movie Name: \")\n",
    "\n",
    "list_of_all_titles = df['Movie_Title'].tolist()\n",
    "\n",
    "find_close_match = difflib.get_close_matches(Movie_Name, list_of_all_titles)\n",
    "\n",
    "Close_Match = find_close_match[0]\n",
    "\n",
    "Index_of_Movie = df[df.Movie_Title == Close_Match]['Movie_ID'].values[0]\n",
    "\n",
    "Recommendation_Score = list(enumerate(Similarity_Score[Index_of_Movie]))\n",
    "\n",
    "sorted_similar_movies = sorted(Recommendation_Score, key = lambda x:x[1], reverse = True)\n",
    "\n",
    "print(\"Top 10 Movies Suggested for You: \\n\" )\n",
    "\n",
    "i = 1\n",
    "\n",
    "for movie in sorted_similar_movies:\n",
    "    index = movie[0]\n",
    "    title_from_index = df[df.index == index]['Movie_Title'].values[0]\n",
    "    if i<11:\n",
    "        print(i, '.', title_from_index)\n",
    "        i += 1"
   ]
  },
  {
   "cell_type": "code",
   "execution_count": null,
   "id": "5ef02093",
   "metadata": {},
   "outputs": [],
   "source": []
  }
 ],
 "metadata": {
  "kernelspec": {
   "display_name": "Python 3 (ipykernel)",
   "language": "python",
   "name": "python3"
  },
  "language_info": {
   "codemirror_mode": {
    "name": "ipython",
    "version": 3
   },
   "file_extension": ".py",
   "mimetype": "text/x-python",
   "name": "python",
   "nbconvert_exporter": "python",
   "pygments_lexer": "ipython3",
   "version": "3.9.12"
  }
 },
 "nbformat": 4,
 "nbformat_minor": 5
}
